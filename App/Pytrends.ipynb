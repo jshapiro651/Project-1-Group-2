{
 "cells": [
  {
   "cell_type": "markdown",
   "metadata": {},
   "source": [
    "# Using PyTrends to gather Google Trends data. \n",
    "\n",
    "## Installation Instructions:\n",
    "1. conda activate pyvizenv\n",
    "1. pip install pytrends"
   ]
  },
  {
   "cell_type": "code",
   "execution_count": 42,
   "metadata": {},
   "outputs": [],
   "source": [
    "# Imports\n",
    "import pandas as pd\n",
    "from pytrends.request import TrendReq\n",
    "from pathlib import Path\n",
    "\n",
    "# Connect to Google Trends.  tz of 360 = CST\n",
    "pytrends = TrendReq(hl='en-US', tz=360) "
   ]
  },
  {
   "cell_type": "markdown",
   "metadata": {},
   "source": [
    "## Apple"
   ]
  },
  {
   "cell_type": "code",
   "execution_count": 43,
   "metadata": {},
   "outputs": [
    {
     "name": "stdout",
     "output_type": "stream",
     "text": [
      "          mid                           title                        type\n",
      "0     /m/0k8z                           Apple          Technology company\n",
      "1  /m/04st9hr                           Apple                       Topic\n",
      "2   /m/014j1m                           Apple                       Fruit\n",
      "3   /m/09889g                 Michael Jackson  American singer-songwriter\n",
      "4   /m/01h7pc  Applebee’s International, Inc.          Restaurant company\n"
     ]
    }
   ],
   "source": [
    "# Discover the best search term to limit results for Apple \n",
    "keywords = pytrends.suggestions(keyword='Apple')\n",
    "df = pd.DataFrame(keywords)\n",
    "print(df)"
   ]
  },
  {
   "cell_type": "code",
   "execution_count": 44,
   "metadata": {},
   "outputs": [
    {
     "data": {
      "text/html": [
       "<div>\n",
       "<style scoped>\n",
       "    .dataframe tbody tr th:only-of-type {\n",
       "        vertical-align: middle;\n",
       "    }\n",
       "\n",
       "    .dataframe tbody tr th {\n",
       "        vertical-align: top;\n",
       "    }\n",
       "\n",
       "    .dataframe thead th {\n",
       "        text-align: right;\n",
       "    }\n",
       "</style>\n",
       "<table border=\"1\" class=\"dataframe\">\n",
       "  <thead>\n",
       "    <tr style=\"text-align: right;\">\n",
       "      <th></th>\n",
       "      <th>Apple</th>\n",
       "    </tr>\n",
       "    <tr>\n",
       "      <th>Day</th>\n",
       "      <th></th>\n",
       "    </tr>\n",
       "  </thead>\n",
       "  <tbody>\n",
       "    <tr>\n",
       "      <th>2021-01-01</th>\n",
       "      <td>96</td>\n",
       "    </tr>\n",
       "    <tr>\n",
       "      <th>2021-01-02</th>\n",
       "      <td>98</td>\n",
       "    </tr>\n",
       "    <tr>\n",
       "      <th>2021-01-03</th>\n",
       "      <td>93</td>\n",
       "    </tr>\n",
       "    <tr>\n",
       "      <th>2021-01-04</th>\n",
       "      <td>100</td>\n",
       "    </tr>\n",
       "    <tr>\n",
       "      <th>2021-01-05</th>\n",
       "      <td>92</td>\n",
       "    </tr>\n",
       "  </tbody>\n",
       "</table>\n",
       "</div>"
      ],
      "text/plain": [
       "            Apple\n",
       "Day              \n",
       "2021-01-01     96\n",
       "2021-01-02     98\n",
       "2021-01-03     93\n",
       "2021-01-04    100\n",
       "2021-01-05     92"
      ]
     },
     "execution_count": 44,
     "metadata": {},
     "output_type": "execute_result"
    }
   ],
   "source": [
    "# Data Gathering - \"/m/0k8z\" is a query to scope \"Apple\" to a \"Technology Company\" (vs. a fruit or record company)\n",
    "apple_topic = \"/m/0k8z\"\n",
    "kw_list = [apple_topic] # list of keywords to get data \n",
    "\n",
    "pytrends.build_payload(kw_list, cat=0, timeframe='2021-01-01 2021-08-31')\n",
    "apple = pytrends.interest_over_time()\n",
    "apple = apple.drop('isPartial', axis=1)\n",
    "apple = apple.rename(columns={apple_topic: 'Apple'})\n",
    "apple.index.name = 'Day'\n",
    "apple.head()"
   ]
  },
  {
   "cell_type": "code",
   "execution_count": 45,
   "metadata": {},
   "outputs": [],
   "source": [
    "# Data Persistence (to ensure the data is available while we're offline)\n",
    "apple_path = Path('../resources/apple-2021-01-2021-08.csv')\n",
    "apple.to_csv(apple_path)"
   ]
  },
  {
   "cell_type": "markdown",
   "metadata": {},
   "source": [
    "## Tesla"
   ]
  },
  {
   "cell_type": "code",
   "execution_count": 46,
   "metadata": {},
   "outputs": [
    {
     "name": "stdout",
     "output_type": "stream",
     "text": [
      "             mid             title                  type\n",
      "0      /m/0dr90d       Tesla, Inc.  Vehicle manufacturer\n",
      "1     /m/0j6n6s8             Tesla       Automobile make\n",
      "2  /g/11c3x48pb7     Tesla Model 3          Mid-size car\n",
      "3  /g/11gb_4f22x     Tesla Model Y           Compact suv\n",
      "4  /g/11g1bplvvh  Tesla Cybertruck             Car model\n"
     ]
    }
   ],
   "source": [
    "# Discover the best search term to limit results for Tesla \n",
    "keywords = pytrends.suggestions(keyword='tesla')\n",
    "df = pd.DataFrame(keywords)\n",
    "print(df)"
   ]
  },
  {
   "cell_type": "code",
   "execution_count": 47,
   "metadata": {},
   "outputs": [
    {
     "data": {
      "text/html": [
       "<div>\n",
       "<style scoped>\n",
       "    .dataframe tbody tr th:only-of-type {\n",
       "        vertical-align: middle;\n",
       "    }\n",
       "\n",
       "    .dataframe tbody tr th {\n",
       "        vertical-align: top;\n",
       "    }\n",
       "\n",
       "    .dataframe thead th {\n",
       "        text-align: right;\n",
       "    }\n",
       "</style>\n",
       "<table border=\"1\" class=\"dataframe\">\n",
       "  <thead>\n",
       "    <tr style=\"text-align: right;\">\n",
       "      <th></th>\n",
       "      <th>Tesla</th>\n",
       "    </tr>\n",
       "    <tr>\n",
       "      <th>Day</th>\n",
       "      <th></th>\n",
       "    </tr>\n",
       "  </thead>\n",
       "  <tbody>\n",
       "    <tr>\n",
       "      <th>2021-01-01</th>\n",
       "      <td>53</td>\n",
       "    </tr>\n",
       "    <tr>\n",
       "      <th>2021-01-02</th>\n",
       "      <td>56</td>\n",
       "    </tr>\n",
       "    <tr>\n",
       "      <th>2021-01-03</th>\n",
       "      <td>60</td>\n",
       "    </tr>\n",
       "    <tr>\n",
       "      <th>2021-01-04</th>\n",
       "      <td>51</td>\n",
       "    </tr>\n",
       "    <tr>\n",
       "      <th>2021-01-05</th>\n",
       "      <td>44</td>\n",
       "    </tr>\n",
       "  </tbody>\n",
       "</table>\n",
       "</div>"
      ],
      "text/plain": [
       "            Tesla\n",
       "Day              \n",
       "2021-01-01     53\n",
       "2021-01-02     56\n",
       "2021-01-03     60\n",
       "2021-01-04     51\n",
       "2021-01-05     44"
      ]
     },
     "execution_count": 47,
     "metadata": {},
     "output_type": "execute_result"
    }
   ],
   "source": [
    "# Data Gathering - \"/m/0j6n6s8\" is a query to scope \"Tesla\" to a \"Automobile make\" \n",
    "tesla_topic = \"/m/0j6n6s8\"\n",
    "kw_list = [tesla_topic] # list of keywords to get data \n",
    "\n",
    "pytrends.build_payload(kw_list, cat=0, timeframe='2021-01-01 2021-08-31')\n",
    "tesla = pytrends.interest_over_time()\n",
    "tesla = tesla.drop('isPartial', axis=1)\n",
    "tesla = tesla.rename(columns={tesla_topic: 'Tesla'})\n",
    "tesla.index.name = 'Day'\n",
    "tesla.head()"
   ]
  },
  {
   "cell_type": "code",
   "execution_count": 48,
   "metadata": {},
   "outputs": [],
   "source": [
    "# Data Persistence (to ensure the data is available while we're offline)\n",
    "tesla_path = Path('../resources/tesla-2021-01-2021-08.csv')\n",
    "tesla.to_csv(tesla_path)"
   ]
  },
  {
   "cell_type": "markdown",
   "metadata": {},
   "source": [
    "## Bitcoin"
   ]
  },
  {
   "cell_type": "code",
   "execution_count": 49,
   "metadata": {},
   "outputs": [
    {
     "name": "stdout",
     "output_type": "stream",
     "text": [
      "             mid                                              title  \\\n",
      "0     /m/05p0rrx                                            Bitcoin   \n",
      "1     /m/0y4vk1r                                             Kraken   \n",
      "2  /g/11d_wtvc5k                                       Bitcoin Cash   \n",
      "3  /g/11ggs1zgnk  Bitbns - Bitcoin & Altcoin Cryptocurrency Exch...   \n",
      "4  /g/11fzfc2h97                                       Bitcoin Gold   \n",
      "\n",
      "             type  \n",
      "0        Currency  \n",
      "1           Topic  \n",
      "2  Cryptocurrency  \n",
      "3           Topic  \n",
      "4           Topic  \n"
     ]
    }
   ],
   "source": [
    "# Discover the best search term to limit results for Bitcoin \n",
    "keywords = pytrends.suggestions(keyword='Bitcoin')\n",
    "df = pd.DataFrame(keywords)\n",
    "print(df)"
   ]
  },
  {
   "cell_type": "code",
   "execution_count": 50,
   "metadata": {},
   "outputs": [
    {
     "data": {
      "text/html": [
       "<div>\n",
       "<style scoped>\n",
       "    .dataframe tbody tr th:only-of-type {\n",
       "        vertical-align: middle;\n",
       "    }\n",
       "\n",
       "    .dataframe tbody tr th {\n",
       "        vertical-align: top;\n",
       "    }\n",
       "\n",
       "    .dataframe thead th {\n",
       "        text-align: right;\n",
       "    }\n",
       "</style>\n",
       "<table border=\"1\" class=\"dataframe\">\n",
       "  <thead>\n",
       "    <tr style=\"text-align: right;\">\n",
       "      <th></th>\n",
       "      <th>Bitcoin</th>\n",
       "    </tr>\n",
       "    <tr>\n",
       "      <th>Day</th>\n",
       "      <th></th>\n",
       "    </tr>\n",
       "  </thead>\n",
       "  <tbody>\n",
       "    <tr>\n",
       "      <th>2021-01-01</th>\n",
       "      <td>28</td>\n",
       "    </tr>\n",
       "    <tr>\n",
       "      <th>2021-01-02</th>\n",
       "      <td>49</td>\n",
       "    </tr>\n",
       "    <tr>\n",
       "      <th>2021-01-03</th>\n",
       "      <td>59</td>\n",
       "    </tr>\n",
       "    <tr>\n",
       "      <th>2021-01-04</th>\n",
       "      <td>50</td>\n",
       "    </tr>\n",
       "    <tr>\n",
       "      <th>2021-01-05</th>\n",
       "      <td>40</td>\n",
       "    </tr>\n",
       "  </tbody>\n",
       "</table>\n",
       "</div>"
      ],
      "text/plain": [
       "            Bitcoin\n",
       "Day                \n",
       "2021-01-01       28\n",
       "2021-01-02       49\n",
       "2021-01-03       59\n",
       "2021-01-04       50\n",
       "2021-01-05       40"
      ]
     },
     "execution_count": 50,
     "metadata": {},
     "output_type": "execute_result"
    }
   ],
   "source": [
    "# Data Gathering - \"/m/05p0rrx\" is a query to scope \"Bitcoin\" to the cryptocurrency\n",
    "bitcoin_topic = \"/m/05p0rrx\"\n",
    "kw_list = [bitcoin_topic] # list of keywords to get data \n",
    "\n",
    "pytrends.build_payload(kw_list, cat=0, timeframe='2021-01-01 2021-08-31')\n",
    "bitcoin = pytrends.interest_over_time()\n",
    "bitcoin = bitcoin.drop('isPartial', axis=1)\n",
    "bitcoin = bitcoin.rename(columns={bitcoin_topic: 'Bitcoin'})\n",
    "bitcoin.index.name = 'Day'\n",
    "bitcoin.head()"
   ]
  },
  {
   "cell_type": "code",
   "execution_count": 51,
   "metadata": {},
   "outputs": [],
   "source": [
    "# Data Persistence (to ensure the data is available while we're offline)\n",
    "bitcoin_path = Path('../resources/btc-2021-01-2021-08.csv')\n",
    "bitcoin.to_csv(bitcoin_path)"
   ]
  },
  {
   "cell_type": "markdown",
   "metadata": {},
   "source": [
    "## Ethereum"
   ]
  },
  {
   "cell_type": "code",
   "execution_count": 52,
   "metadata": {},
   "outputs": [
    {
     "name": "stdout",
     "output_type": "stream",
     "text": [
      "             mid             title             type\n",
      "0    /m/0108bn2x          Ethereum            Topic\n",
      "1  /g/11dym87c9j  Ethereum Classic            Topic\n",
      "2  /g/11ggdwqycn             Ether         Currency\n",
      "3  /g/11k31_w4cb             Eidoo            Topic\n",
      "4  /g/11h_bnv0pc    Ethereum [ETH]  YouTube channel\n"
     ]
    }
   ],
   "source": [
    "# Discover the best search term to limit results for Ethereum \n",
    "keywords = pytrends.suggestions(keyword='Ethereum')\n",
    "df = pd.DataFrame(keywords)\n",
    "print(df)"
   ]
  },
  {
   "cell_type": "code",
   "execution_count": 55,
   "metadata": {},
   "outputs": [
    {
     "data": {
      "text/html": [
       "<div>\n",
       "<style scoped>\n",
       "    .dataframe tbody tr th:only-of-type {\n",
       "        vertical-align: middle;\n",
       "    }\n",
       "\n",
       "    .dataframe tbody tr th {\n",
       "        vertical-align: top;\n",
       "    }\n",
       "\n",
       "    .dataframe thead th {\n",
       "        text-align: right;\n",
       "    }\n",
       "</style>\n",
       "<table border=\"1\" class=\"dataframe\">\n",
       "  <thead>\n",
       "    <tr style=\"text-align: right;\">\n",
       "      <th></th>\n",
       "      <th>Ethereum</th>\n",
       "    </tr>\n",
       "    <tr>\n",
       "      <th>Day</th>\n",
       "      <th></th>\n",
       "    </tr>\n",
       "  </thead>\n",
       "  <tbody>\n",
       "    <tr>\n",
       "      <th>2021-01-01</th>\n",
       "      <td>18</td>\n",
       "    </tr>\n",
       "    <tr>\n",
       "      <th>2021-01-02</th>\n",
       "      <td>22</td>\n",
       "    </tr>\n",
       "    <tr>\n",
       "      <th>2021-01-03</th>\n",
       "      <td>45</td>\n",
       "    </tr>\n",
       "    <tr>\n",
       "      <th>2021-01-04</th>\n",
       "      <td>52</td>\n",
       "    </tr>\n",
       "    <tr>\n",
       "      <th>2021-01-05</th>\n",
       "      <td>38</td>\n",
       "    </tr>\n",
       "  </tbody>\n",
       "</table>\n",
       "</div>"
      ],
      "text/plain": [
       "            Ethereum\n",
       "Day                 \n",
       "2021-01-01        18\n",
       "2021-01-02        22\n",
       "2021-01-03        45\n",
       "2021-01-04        52\n",
       "2021-01-05        38"
      ]
     },
     "execution_count": 55,
     "metadata": {},
     "output_type": "execute_result"
    }
   ],
   "source": [
    "# Data Gathering - \"/m/0108bn2x\" is a query to scope \"Ethereum\" to the cryptocurrency\n",
    "ethereum_topic = \"/m/0108bn2x\"\n",
    "kw_list = [ethereum_topic] # list of keywords to get data \n",
    "\n",
    "pytrends.build_payload(kw_list, cat=0, timeframe='2021-01-01 2021-08-31')\n",
    "ethereum = pytrends.interest_over_time()\n",
    "ethereum = ethereum.drop('isPartial', axis=1)\n",
    "ethereum = ethereum.rename(columns={ethereum_topic: 'Ethereum'})\n",
    "ethereum.index.name = 'Day'\n",
    "ethereum.head()"
   ]
  },
  {
   "cell_type": "code",
   "execution_count": 56,
   "metadata": {},
   "outputs": [],
   "source": [
    "# Data Persistence (to ensure the data is available while we're offline)\n",
    "ethereum_path = Path('../resources/eth-2021-01-2021-08.csv')\n",
    "ethereum.to_csv(ethereum_path)"
   ]
  }
 ],
 "metadata": {
  "interpreter": {
   "hash": "cef8de2bc538eb941a3bca282b628e09b8b3b65d358620d004d971185ce2a93e"
  },
  "kernelspec": {
   "display_name": "Python 3.7.11 ('pyvizenv')",
   "language": "python",
   "name": "python3"
  },
  "language_info": {
   "codemirror_mode": {
    "name": "ipython",
    "version": 3
   },
   "file_extension": ".py",
   "mimetype": "text/x-python",
   "name": "python",
   "nbconvert_exporter": "python",
   "pygments_lexer": "ipython3",
   "version": "3.7.11"
  },
  "orig_nbformat": 4
 },
 "nbformat": 4,
 "nbformat_minor": 2
}
