{
 "cells": [
  {
   "cell_type": "markdown",
   "metadata": {},
   "source": [
    "# Using PyTrends to gather Google Trends data. \n",
    "\n",
    "## Installation Instructions:\n",
    "1. conda activate pyvizenv\n",
    "1. pip install pytrends"
   ]
  },
  {
   "cell_type": "code",
   "execution_count": 42,
   "metadata": {},
   "outputs": [],
   "source": [
    "# Imports\n",
    "import pandas as pd\n",
    "from pytrends.request import TrendReq\n",
    "from pathlib import Path\n",
    "\n",
    "# Connect to Google Trends.  tz of 360 = CST\n",
    "pytrends = TrendReq(hl='en-US', tz=360) "
   ]
  },
  {
   "cell_type": "code",
   "execution_count": 43,
   "metadata": {},
   "outputs": [
    {
     "name": "stdout",
     "output_type": "stream",
     "text": [
      "          mid                           title                        type\n",
      "0     /m/0k8z                           Apple          Technology company\n",
      "1  /m/04st9hr                           Apple                       Topic\n",
      "2   /m/014j1m                           Apple                       Fruit\n",
      "3   /m/09889g                 Michael Jackson  American singer-songwriter\n",
      "4   /m/01h7pc  Applebee’s International, Inc.          Restaurant company\n"
     ]
    }
   ],
   "source": [
    "# Discover the best search term to limit results for Apple \n",
    "keywords = pytrends.suggestions(keyword='Apple')\n",
    "df = pd.DataFrame(keywords)\n",
    "print(df)"
   ]
  },
  {
   "cell_type": "code",
   "execution_count": 44,
   "metadata": {},
   "outputs": [
    {
     "data": {
      "text/html": [
       "<div>\n",
       "<style scoped>\n",
       "    .dataframe tbody tr th:only-of-type {\n",
       "        vertical-align: middle;\n",
       "    }\n",
       "\n",
       "    .dataframe tbody tr th {\n",
       "        vertical-align: top;\n",
       "    }\n",
       "\n",
       "    .dataframe thead th {\n",
       "        text-align: right;\n",
       "    }\n",
       "</style>\n",
       "<table border=\"1\" class=\"dataframe\">\n",
       "  <thead>\n",
       "    <tr style=\"text-align: right;\">\n",
       "      <th></th>\n",
       "      <th>Apple</th>\n",
       "    </tr>\n",
       "    <tr>\n",
       "      <th>Day</th>\n",
       "      <th></th>\n",
       "    </tr>\n",
       "  </thead>\n",
       "  <tbody>\n",
       "    <tr>\n",
       "      <th>2021-01-01</th>\n",
       "      <td>96</td>\n",
       "    </tr>\n",
       "    <tr>\n",
       "      <th>2021-01-02</th>\n",
       "      <td>98</td>\n",
       "    </tr>\n",
       "    <tr>\n",
       "      <th>2021-01-03</th>\n",
       "      <td>93</td>\n",
       "    </tr>\n",
       "    <tr>\n",
       "      <th>2021-01-04</th>\n",
       "      <td>100</td>\n",
       "    </tr>\n",
       "    <tr>\n",
       "      <th>2021-01-05</th>\n",
       "      <td>92</td>\n",
       "    </tr>\n",
       "  </tbody>\n",
       "</table>\n",
       "</div>"
      ],
      "text/plain": [
       "            Apple\n",
       "Day              \n",
       "2021-01-01     96\n",
       "2021-01-02     98\n",
       "2021-01-03     93\n",
       "2021-01-04    100\n",
       "2021-01-05     92"
      ]
     },
     "execution_count": 44,
     "metadata": {},
     "output_type": "execute_result"
    }
   ],
   "source": [
    "# Data Gathering - \"/m/0k8z\" is a query to scope \"Apple\" to a \"Technology Company\" (vs. a fruit or record company)\n",
    "apple_topic = \"/m/0k8z\"\n",
    "kw_list = [apple_topic] # list of keywords to get data \n",
    "\n",
    "pytrends.build_payload(kw_list, cat=0, timeframe='2021-01-01 2021-08-31')\n",
    "apple = pytrends.interest_over_time()\n",
    "apple = apple.drop('isPartial', axis=1)\n",
    "apple = apple.rename(columns={apple_topic: 'Apple'})\n",
    "apple.index.name = 'Day'\n",
    "apple.head()"
   ]
  },
  {
   "cell_type": "code",
   "execution_count": 45,
   "metadata": {},
   "outputs": [],
   "source": [
    "# Data Persistence (to ensure the data is available while we're offline)\n",
    "apple_path = Path('../resources/apple-2021-01-2021-08.csv')\n",
    "apple.to_csv(apple_path)"
   ]
  },
  {
   "cell_type": "code",
   "execution_count": 46,
   "metadata": {},
   "outputs": [
    {
     "name": "stdout",
     "output_type": "stream",
     "text": [
      "             mid             title                  type\n",
      "0      /m/0dr90d       Tesla, Inc.  Vehicle manufacturer\n",
      "1     /m/0j6n6s8             Tesla       Automobile make\n",
      "2  /g/11c3x48pb7     Tesla Model 3          Mid-size car\n",
      "3  /g/11gb_4f22x     Tesla Model Y           Compact suv\n",
      "4  /g/11g1bplvvh  Tesla Cybertruck             Car model\n"
     ]
    }
   ],
   "source": [
    "# Discover the best search term to limit results for Tesla \n",
    "keywords = pytrends.suggestions(keyword='tesla')\n",
    "df = pd.DataFrame(keywords)\n",
    "print(df)"
   ]
  },
  {
   "cell_type": "code",
   "execution_count": 47,
   "metadata": {},
   "outputs": [
    {
     "data": {
      "text/html": [
       "<div>\n",
       "<style scoped>\n",
       "    .dataframe tbody tr th:only-of-type {\n",
       "        vertical-align: middle;\n",
       "    }\n",
       "\n",
       "    .dataframe tbody tr th {\n",
       "        vertical-align: top;\n",
       "    }\n",
       "\n",
       "    .dataframe thead th {\n",
       "        text-align: right;\n",
       "    }\n",
       "</style>\n",
       "<table border=\"1\" class=\"dataframe\">\n",
       "  <thead>\n",
       "    <tr style=\"text-align: right;\">\n",
       "      <th></th>\n",
       "      <th>Tesla</th>\n",
       "    </tr>\n",
       "    <tr>\n",
       "      <th>Day</th>\n",
       "      <th></th>\n",
       "    </tr>\n",
       "  </thead>\n",
       "  <tbody>\n",
       "    <tr>\n",
       "      <th>2021-01-01</th>\n",
       "      <td>53</td>\n",
       "    </tr>\n",
       "    <tr>\n",
       "      <th>2021-01-02</th>\n",
       "      <td>56</td>\n",
       "    </tr>\n",
       "    <tr>\n",
       "      <th>2021-01-03</th>\n",
       "      <td>60</td>\n",
       "    </tr>\n",
       "    <tr>\n",
       "      <th>2021-01-04</th>\n",
       "      <td>51</td>\n",
       "    </tr>\n",
       "    <tr>\n",
       "      <th>2021-01-05</th>\n",
       "      <td>44</td>\n",
       "    </tr>\n",
       "  </tbody>\n",
       "</table>\n",
       "</div>"
      ],
      "text/plain": [
       "            Tesla\n",
       "Day              \n",
       "2021-01-01     53\n",
       "2021-01-02     56\n",
       "2021-01-03     60\n",
       "2021-01-04     51\n",
       "2021-01-05     44"
      ]
     },
     "execution_count": 47,
     "metadata": {},
     "output_type": "execute_result"
    }
   ],
   "source": [
    "# Data Gathering - \"/m/0j6n6s8\" is a query to scope \"Tesla\" to a \"Automobile make\" \n",
    "tesla_topic = \"/m/0j6n6s8\"\n",
    "kw_list = [tesla_topic] # list of keywords to get data \n",
    "\n",
    "pytrends.build_payload(kw_list, cat=0, timeframe='2021-01-01 2021-08-31')\n",
    "tesla = pytrends.interest_over_time()\n",
    "tesla = tesla.drop('isPartial', axis=1)\n",
    "tesla = tesla.rename(columns={tesla_topic: 'Tesla'})\n",
    "tesla.index.name = 'Day'\n",
    "tesla.head()"
   ]
  },
  {
   "cell_type": "code",
   "execution_count": 48,
   "metadata": {},
   "outputs": [],
   "source": [
    "# Data Persistence (to ensure the data is available while we're offline)\n",
    "tesla_path = Path('../resources/tesla-2021-01-2021-08.csv')\n",
    "tesla.to_csv(tesla_path)"
   ]
  }
 ],
 "metadata": {
  "interpreter": {
   "hash": "cef8de2bc538eb941a3bca282b628e09b8b3b65d358620d004d971185ce2a93e"
  },
  "kernelspec": {
   "display_name": "Python 3.7.11 ('pyvizenv')",
   "language": "python",
   "name": "python3"
  },
  "language_info": {
   "codemirror_mode": {
    "name": "ipython",
    "version": 3
   },
   "file_extension": ".py",
   "mimetype": "text/x-python",
   "name": "python",
   "nbconvert_exporter": "python",
   "pygments_lexer": "ipython3",
   "version": "3.7.11"
  },
  "orig_nbformat": 4
 },
 "nbformat": 4,
 "nbformat_minor": 2
}
