{
 "cells": [
  {
   "cell_type": "code",
   "execution_count": 14,
   "id": "6df68d32",
   "metadata": {},
   "outputs": [],
   "source": [
    "#load 6 csv files\n",
    "import pandas as pd\n",
    "from pathlib import Path\n",
    "import hvplot.pandas\n",
    "import plotly.express as px"
   ]
  },
  {
   "cell_type": "code",
   "execution_count": 15,
   "id": "d6dbe582",
   "metadata": {},
   "outputs": [
    {
     "data": {
      "text/html": [
       "<div>\n",
       "<style scoped>\n",
       "    .dataframe tbody tr th:only-of-type {\n",
       "        vertical-align: middle;\n",
       "    }\n",
       "\n",
       "    .dataframe tbody tr th {\n",
       "        vertical-align: top;\n",
       "    }\n",
       "\n",
       "    .dataframe thead th {\n",
       "        text-align: right;\n",
       "    }\n",
       "</style>\n",
       "<table border=\"1\" class=\"dataframe\">\n",
       "  <thead>\n",
       "    <tr style=\"text-align: right;\">\n",
       "      <th></th>\n",
       "      <th>timestamp</th>\n",
       "      <th>exchange</th>\n",
       "      <th>open</th>\n",
       "      <th>high</th>\n",
       "      <th>low</th>\n",
       "      <th>close</th>\n",
       "      <th>volume</th>\n",
       "      <th>trade_count</th>\n",
       "      <th>vwap</th>\n",
       "      <th>symbol</th>\n",
       "    </tr>\n",
       "  </thead>\n",
       "  <tbody>\n",
       "    <tr>\n",
       "      <th>0</th>\n",
       "      <td>2021-01-01 06:00:00+00:00</td>\n",
       "      <td>CBSE</td>\n",
       "      <td>29413.29</td>\n",
       "      <td>29683.50</td>\n",
       "      <td>29039.00</td>\n",
       "      <td>29683.03</td>\n",
       "      <td>4431.837894</td>\n",
       "      <td>44893</td>\n",
       "      <td>29419.838845</td>\n",
       "      <td>BTCUSD</td>\n",
       "    </tr>\n",
       "    <tr>\n",
       "      <th>1</th>\n",
       "      <td>2021-01-02 06:00:00+00:00</td>\n",
       "      <td>CBSE</td>\n",
       "      <td>32222.88</td>\n",
       "      <td>34205.00</td>\n",
       "      <td>32008.62</td>\n",
       "      <td>33779.48</td>\n",
       "      <td>7955.017558</td>\n",
       "      <td>87151</td>\n",
       "      <td>33089.671665</td>\n",
       "      <td>BTCUSD</td>\n",
       "    </tr>\n",
       "    <tr>\n",
       "      <th>2</th>\n",
       "      <td>2021-01-03 06:00:00+00:00</td>\n",
       "      <td>CBSE</td>\n",
       "      <td>33082.83</td>\n",
       "      <td>33666.99</td>\n",
       "      <td>32453.37</td>\n",
       "      <td>32903.87</td>\n",
       "      <td>7401.195215</td>\n",
       "      <td>77379</td>\n",
       "      <td>33140.775678</td>\n",
       "      <td>BTCUSD</td>\n",
       "    </tr>\n",
       "    <tr>\n",
       "      <th>3</th>\n",
       "      <td>2021-01-04 06:00:00+00:00</td>\n",
       "      <td>CBSE</td>\n",
       "      <td>32020.22</td>\n",
       "      <td>32890.00</td>\n",
       "      <td>30020.00</td>\n",
       "      <td>30460.19</td>\n",
       "      <td>11908.475812</td>\n",
       "      <td>105838</td>\n",
       "      <td>31772.431005</td>\n",
       "      <td>BTCUSD</td>\n",
       "    </tr>\n",
       "    <tr>\n",
       "      <th>4</th>\n",
       "      <td>2021-01-05 06:00:00+00:00</td>\n",
       "      <td>CBSE</td>\n",
       "      <td>34043.91</td>\n",
       "      <td>35848.99</td>\n",
       "      <td>33352.54</td>\n",
       "      <td>35130.05</td>\n",
       "      <td>11648.279116</td>\n",
       "      <td>99854</td>\n",
       "      <td>34520.539825</td>\n",
       "      <td>BTCUSD</td>\n",
       "    </tr>\n",
       "    <tr>\n",
       "      <th>...</th>\n",
       "      <td>...</td>\n",
       "      <td>...</td>\n",
       "      <td>...</td>\n",
       "      <td>...</td>\n",
       "      <td>...</td>\n",
       "      <td>...</td>\n",
       "      <td>...</td>\n",
       "      <td>...</td>\n",
       "      <td>...</td>\n",
       "      <td>...</td>\n",
       "    </tr>\n",
       "    <tr>\n",
       "      <th>481</th>\n",
       "      <td>2021-08-27 05:00:00+00:00</td>\n",
       "      <td>CBSE</td>\n",
       "      <td>3102.74</td>\n",
       "      <td>3283.26</td>\n",
       "      <td>3092.95</td>\n",
       "      <td>3274.67</td>\n",
       "      <td>138685.160423</td>\n",
       "      <td>195020</td>\n",
       "      <td>3212.315961</td>\n",
       "      <td>ETHUSD</td>\n",
       "    </tr>\n",
       "    <tr>\n",
       "      <th>482</th>\n",
       "      <td>2021-08-28 05:00:00+00:00</td>\n",
       "      <td>CBSE</td>\n",
       "      <td>3247.99</td>\n",
       "      <td>3287.73</td>\n",
       "      <td>3153.75</td>\n",
       "      <td>3181.39</td>\n",
       "      <td>38550.523803</td>\n",
       "      <td>57110</td>\n",
       "      <td>3225.844257</td>\n",
       "      <td>ETHUSD</td>\n",
       "    </tr>\n",
       "    <tr>\n",
       "      <th>483</th>\n",
       "      <td>2021-08-29 05:00:00+00:00</td>\n",
       "      <td>CBSE</td>\n",
       "      <td>3226.45</td>\n",
       "      <td>3231.68</td>\n",
       "      <td>3145.45</td>\n",
       "      <td>3166.41</td>\n",
       "      <td>26481.231700</td>\n",
       "      <td>46966</td>\n",
       "      <td>3186.311741</td>\n",
       "      <td>ETHUSD</td>\n",
       "    </tr>\n",
       "    <tr>\n",
       "      <th>484</th>\n",
       "      <td>2021-08-30 05:00:00+00:00</td>\n",
       "      <td>CBSE</td>\n",
       "      <td>3229.02</td>\n",
       "      <td>3259.49</td>\n",
       "      <td>3190.56</td>\n",
       "      <td>3230.15</td>\n",
       "      <td>48045.012451</td>\n",
       "      <td>64761</td>\n",
       "      <td>3223.533178</td>\n",
       "      <td>ETHUSD</td>\n",
       "    </tr>\n",
       "    <tr>\n",
       "      <th>485</th>\n",
       "      <td>2021-08-31 05:00:00+00:00</td>\n",
       "      <td>CBSE</td>\n",
       "      <td>3430.00</td>\n",
       "      <td>3461.59</td>\n",
       "      <td>3384.24</td>\n",
       "      <td>3461.59</td>\n",
       "      <td>60100.853061</td>\n",
       "      <td>73547</td>\n",
       "      <td>3426.485726</td>\n",
       "      <td>ETHUSD</td>\n",
       "    </tr>\n",
       "  </tbody>\n",
       "</table>\n",
       "<p>486 rows × 10 columns</p>\n",
       "</div>"
      ],
      "text/plain": [
       "                     timestamp exchange      open      high       low  \\\n",
       "0    2021-01-01 06:00:00+00:00     CBSE  29413.29  29683.50  29039.00   \n",
       "1    2021-01-02 06:00:00+00:00     CBSE  32222.88  34205.00  32008.62   \n",
       "2    2021-01-03 06:00:00+00:00     CBSE  33082.83  33666.99  32453.37   \n",
       "3    2021-01-04 06:00:00+00:00     CBSE  32020.22  32890.00  30020.00   \n",
       "4    2021-01-05 06:00:00+00:00     CBSE  34043.91  35848.99  33352.54   \n",
       "..                         ...      ...       ...       ...       ...   \n",
       "481  2021-08-27 05:00:00+00:00     CBSE   3102.74   3283.26   3092.95   \n",
       "482  2021-08-28 05:00:00+00:00     CBSE   3247.99   3287.73   3153.75   \n",
       "483  2021-08-29 05:00:00+00:00     CBSE   3226.45   3231.68   3145.45   \n",
       "484  2021-08-30 05:00:00+00:00     CBSE   3229.02   3259.49   3190.56   \n",
       "485  2021-08-31 05:00:00+00:00     CBSE   3430.00   3461.59   3384.24   \n",
       "\n",
       "        close         volume  trade_count          vwap  symbol  \n",
       "0    29683.03    4431.837894        44893  29419.838845  BTCUSD  \n",
       "1    33779.48    7955.017558        87151  33089.671665  BTCUSD  \n",
       "2    32903.87    7401.195215        77379  33140.775678  BTCUSD  \n",
       "3    30460.19   11908.475812       105838  31772.431005  BTCUSD  \n",
       "4    35130.05   11648.279116        99854  34520.539825  BTCUSD  \n",
       "..        ...            ...          ...           ...     ...  \n",
       "481   3274.67  138685.160423       195020   3212.315961  ETHUSD  \n",
       "482   3181.39   38550.523803        57110   3225.844257  ETHUSD  \n",
       "483   3166.41   26481.231700        46966   3186.311741  ETHUSD  \n",
       "484   3230.15   48045.012451        64761   3223.533178  ETHUSD  \n",
       "485   3461.59   60100.853061        73547   3426.485726  ETHUSD  \n",
       "\n",
       "[486 rows x 10 columns]"
      ]
     },
     "execution_count": 15,
     "metadata": {},
     "output_type": "execute_result"
    }
   ],
   "source": [
    "crypto_path = Path(\"../resources/crypto.csv\")\n",
    "crypto_prices = pd.read_csv(crypto_path)\n",
    "crypto_prices"
   ]
  },
  {
   "cell_type": "code",
   "execution_count": 16,
   "id": "38a3a9fc",
   "metadata": {},
   "outputs": [
    {
     "data": {
      "text/html": [
       "<div>\n",
       "<style scoped>\n",
       "    .dataframe tbody tr th:only-of-type {\n",
       "        vertical-align: middle;\n",
       "    }\n",
       "\n",
       "    .dataframe tbody tr th {\n",
       "        vertical-align: top;\n",
       "    }\n",
       "\n",
       "    .dataframe thead th {\n",
       "        text-align: right;\n",
       "    }\n",
       "</style>\n",
       "<table border=\"1\" class=\"dataframe\">\n",
       "  <thead>\n",
       "    <tr style=\"text-align: right;\">\n",
       "      <th></th>\n",
       "      <th>timestamp</th>\n",
       "      <th>exchange</th>\n",
       "      <th>open</th>\n",
       "      <th>high</th>\n",
       "      <th>low</th>\n",
       "      <th>close</th>\n",
       "      <th>volume</th>\n",
       "      <th>trade_count</th>\n",
       "      <th>vwap</th>\n",
       "      <th>symbol</th>\n",
       "    </tr>\n",
       "  </thead>\n",
       "  <tbody>\n",
       "    <tr>\n",
       "      <th>0</th>\n",
       "      <td>2021-01-01 06:00:00+00:00</td>\n",
       "      <td>CBSE</td>\n",
       "      <td>29413.29</td>\n",
       "      <td>29683.50</td>\n",
       "      <td>29039.00</td>\n",
       "      <td>29683.03</td>\n",
       "      <td>4431.837894</td>\n",
       "      <td>44893</td>\n",
       "      <td>29419.838845</td>\n",
       "      <td>BTCUSD</td>\n",
       "    </tr>\n",
       "    <tr>\n",
       "      <th>1</th>\n",
       "      <td>2021-01-02 06:00:00+00:00</td>\n",
       "      <td>CBSE</td>\n",
       "      <td>32222.88</td>\n",
       "      <td>34205.00</td>\n",
       "      <td>32008.62</td>\n",
       "      <td>33779.48</td>\n",
       "      <td>7955.017558</td>\n",
       "      <td>87151</td>\n",
       "      <td>33089.671665</td>\n",
       "      <td>BTCUSD</td>\n",
       "    </tr>\n",
       "    <tr>\n",
       "      <th>2</th>\n",
       "      <td>2021-01-03 06:00:00+00:00</td>\n",
       "      <td>CBSE</td>\n",
       "      <td>33082.83</td>\n",
       "      <td>33666.99</td>\n",
       "      <td>32453.37</td>\n",
       "      <td>32903.87</td>\n",
       "      <td>7401.195215</td>\n",
       "      <td>77379</td>\n",
       "      <td>33140.775678</td>\n",
       "      <td>BTCUSD</td>\n",
       "    </tr>\n",
       "    <tr>\n",
       "      <th>3</th>\n",
       "      <td>2021-01-04 06:00:00+00:00</td>\n",
       "      <td>CBSE</td>\n",
       "      <td>32020.22</td>\n",
       "      <td>32890.00</td>\n",
       "      <td>30020.00</td>\n",
       "      <td>30460.19</td>\n",
       "      <td>11908.475812</td>\n",
       "      <td>105838</td>\n",
       "      <td>31772.431005</td>\n",
       "      <td>BTCUSD</td>\n",
       "    </tr>\n",
       "    <tr>\n",
       "      <th>4</th>\n",
       "      <td>2021-01-05 06:00:00+00:00</td>\n",
       "      <td>CBSE</td>\n",
       "      <td>34043.91</td>\n",
       "      <td>35848.99</td>\n",
       "      <td>33352.54</td>\n",
       "      <td>35130.05</td>\n",
       "      <td>11648.279116</td>\n",
       "      <td>99854</td>\n",
       "      <td>34520.539825</td>\n",
       "      <td>BTCUSD</td>\n",
       "    </tr>\n",
       "    <tr>\n",
       "      <th>...</th>\n",
       "      <td>...</td>\n",
       "      <td>...</td>\n",
       "      <td>...</td>\n",
       "      <td>...</td>\n",
       "      <td>...</td>\n",
       "      <td>...</td>\n",
       "      <td>...</td>\n",
       "      <td>...</td>\n",
       "      <td>...</td>\n",
       "      <td>...</td>\n",
       "    </tr>\n",
       "    <tr>\n",
       "      <th>238</th>\n",
       "      <td>2021-08-27 05:00:00+00:00</td>\n",
       "      <td>CBSE</td>\n",
       "      <td>46925.94</td>\n",
       "      <td>49185.12</td>\n",
       "      <td>46864.56</td>\n",
       "      <td>49077.57</td>\n",
       "      <td>6829.702966</td>\n",
       "      <td>196534</td>\n",
       "      <td>47996.300434</td>\n",
       "      <td>BTCUSD</td>\n",
       "    </tr>\n",
       "    <tr>\n",
       "      <th>239</th>\n",
       "      <td>2021-08-28 05:00:00+00:00</td>\n",
       "      <td>CBSE</td>\n",
       "      <td>48942.89</td>\n",
       "      <td>49667.10</td>\n",
       "      <td>47801.00</td>\n",
       "      <td>48183.83</td>\n",
       "      <td>2601.507606</td>\n",
       "      <td>61977</td>\n",
       "      <td>48822.356898</td>\n",
       "      <td>BTCUSD</td>\n",
       "    </tr>\n",
       "    <tr>\n",
       "      <th>240</th>\n",
       "      <td>2021-08-29 05:00:00+00:00</td>\n",
       "      <td>CBSE</td>\n",
       "      <td>48802.58</td>\n",
       "      <td>48906.51</td>\n",
       "      <td>47777.00</td>\n",
       "      <td>47897.69</td>\n",
       "      <td>2376.139927</td>\n",
       "      <td>51318</td>\n",
       "      <td>48314.368214</td>\n",
       "      <td>BTCUSD</td>\n",
       "    </tr>\n",
       "    <tr>\n",
       "      <th>241</th>\n",
       "      <td>2021-08-30 05:00:00+00:00</td>\n",
       "      <td>CBSE</td>\n",
       "      <td>46996.80</td>\n",
       "      <td>47305.88</td>\n",
       "      <td>46708.93</td>\n",
       "      <td>47056.72</td>\n",
       "      <td>2590.948522</td>\n",
       "      <td>66852</td>\n",
       "      <td>46980.853765</td>\n",
       "      <td>BTCUSD</td>\n",
       "    </tr>\n",
       "    <tr>\n",
       "      <th>242</th>\n",
       "      <td>2021-08-31 05:00:00+00:00</td>\n",
       "      <td>CBSE</td>\n",
       "      <td>47110.33</td>\n",
       "      <td>47319.00</td>\n",
       "      <td>46537.62</td>\n",
       "      <td>47158.90</td>\n",
       "      <td>2552.049405</td>\n",
       "      <td>62782</td>\n",
       "      <td>46885.136503</td>\n",
       "      <td>BTCUSD</td>\n",
       "    </tr>\n",
       "  </tbody>\n",
       "</table>\n",
       "<p>243 rows × 10 columns</p>\n",
       "</div>"
      ],
      "text/plain": [
       "                     timestamp exchange      open      high       low  \\\n",
       "0    2021-01-01 06:00:00+00:00     CBSE  29413.29  29683.50  29039.00   \n",
       "1    2021-01-02 06:00:00+00:00     CBSE  32222.88  34205.00  32008.62   \n",
       "2    2021-01-03 06:00:00+00:00     CBSE  33082.83  33666.99  32453.37   \n",
       "3    2021-01-04 06:00:00+00:00     CBSE  32020.22  32890.00  30020.00   \n",
       "4    2021-01-05 06:00:00+00:00     CBSE  34043.91  35848.99  33352.54   \n",
       "..                         ...      ...       ...       ...       ...   \n",
       "238  2021-08-27 05:00:00+00:00     CBSE  46925.94  49185.12  46864.56   \n",
       "239  2021-08-28 05:00:00+00:00     CBSE  48942.89  49667.10  47801.00   \n",
       "240  2021-08-29 05:00:00+00:00     CBSE  48802.58  48906.51  47777.00   \n",
       "241  2021-08-30 05:00:00+00:00     CBSE  46996.80  47305.88  46708.93   \n",
       "242  2021-08-31 05:00:00+00:00     CBSE  47110.33  47319.00  46537.62   \n",
       "\n",
       "        close        volume  trade_count          vwap  symbol  \n",
       "0    29683.03   4431.837894        44893  29419.838845  BTCUSD  \n",
       "1    33779.48   7955.017558        87151  33089.671665  BTCUSD  \n",
       "2    32903.87   7401.195215        77379  33140.775678  BTCUSD  \n",
       "3    30460.19  11908.475812       105838  31772.431005  BTCUSD  \n",
       "4    35130.05  11648.279116        99854  34520.539825  BTCUSD  \n",
       "..        ...           ...          ...           ...     ...  \n",
       "238  49077.57   6829.702966       196534  47996.300434  BTCUSD  \n",
       "239  48183.83   2601.507606        61977  48822.356898  BTCUSD  \n",
       "240  47897.69   2376.139927        51318  48314.368214  BTCUSD  \n",
       "241  47056.72   2590.948522        66852  46980.853765  BTCUSD  \n",
       "242  47158.90   2552.049405        62782  46885.136503  BTCUSD  \n",
       "\n",
       "[243 rows x 10 columns]"
      ]
     },
     "execution_count": 16,
     "metadata": {},
     "output_type": "execute_result"
    }
   ],
   "source": [
    "btc_prices = crypto_prices.loc[crypto_prices['symbol'] == 'BTCUSD']\n",
    "btc_prices"
   ]
  },
  {
   "cell_type": "code",
   "execution_count": 17,
   "id": "58945278",
   "metadata": {},
   "outputs": [
    {
     "data": {
      "text/html": [
       "<div>\n",
       "<style scoped>\n",
       "    .dataframe tbody tr th:only-of-type {\n",
       "        vertical-align: middle;\n",
       "    }\n",
       "\n",
       "    .dataframe tbody tr th {\n",
       "        vertical-align: top;\n",
       "    }\n",
       "\n",
       "    .dataframe thead th {\n",
       "        text-align: right;\n",
       "    }\n",
       "</style>\n",
       "<table border=\"1\" class=\"dataframe\">\n",
       "  <thead>\n",
       "    <tr style=\"text-align: right;\">\n",
       "      <th></th>\n",
       "      <th>timestamp</th>\n",
       "      <th>exchange</th>\n",
       "      <th>open</th>\n",
       "      <th>high</th>\n",
       "      <th>low</th>\n",
       "      <th>close</th>\n",
       "      <th>volume</th>\n",
       "      <th>trade_count</th>\n",
       "      <th>vwap</th>\n",
       "      <th>symbol</th>\n",
       "    </tr>\n",
       "  </thead>\n",
       "  <tbody>\n",
       "    <tr>\n",
       "      <th>243</th>\n",
       "      <td>2021-01-01 06:00:00+00:00</td>\n",
       "      <td>CBSE</td>\n",
       "      <td>730.97</td>\n",
       "      <td>739.00</td>\n",
       "      <td>715.22</td>\n",
       "      <td>734.62</td>\n",
       "      <td>46104.154992</td>\n",
       "      <td>26556</td>\n",
       "      <td>728.392387</td>\n",
       "      <td>ETHUSD</td>\n",
       "    </tr>\n",
       "    <tr>\n",
       "      <th>244</th>\n",
       "      <td>2021-01-02 06:00:00+00:00</td>\n",
       "      <td>CBSE</td>\n",
       "      <td>775.29</td>\n",
       "      <td>791.22</td>\n",
       "      <td>770.00</td>\n",
       "      <td>787.32</td>\n",
       "      <td>71896.942065</td>\n",
       "      <td>47622</td>\n",
       "      <td>780.118416</td>\n",
       "      <td>ETHUSD</td>\n",
       "    </tr>\n",
       "    <tr>\n",
       "      <th>245</th>\n",
       "      <td>2021-01-03 06:00:00+00:00</td>\n",
       "      <td>CBSE</td>\n",
       "      <td>980.44</td>\n",
       "      <td>1098.47</td>\n",
       "      <td>955.00</td>\n",
       "      <td>1088.78</td>\n",
       "      <td>213416.375742</td>\n",
       "      <td>114506</td>\n",
       "      <td>1010.719458</td>\n",
       "      <td>ETHUSD</td>\n",
       "    </tr>\n",
       "    <tr>\n",
       "      <th>246</th>\n",
       "      <td>2021-01-04 06:00:00+00:00</td>\n",
       "      <td>CBSE</td>\n",
       "      <td>1087.55</td>\n",
       "      <td>1168.99</td>\n",
       "      <td>886.33</td>\n",
       "      <td>1042.38</td>\n",
       "      <td>765246.607376</td>\n",
       "      <td>333187</td>\n",
       "      <td>1019.675804</td>\n",
       "      <td>ETHUSD</td>\n",
       "    </tr>\n",
       "    <tr>\n",
       "      <th>247</th>\n",
       "      <td>2021-01-05 06:00:00+00:00</td>\n",
       "      <td>CBSE</td>\n",
       "      <td>990.22</td>\n",
       "      <td>1125.81</td>\n",
       "      <td>980.00</td>\n",
       "      <td>1103.73</td>\n",
       "      <td>444497.096675</td>\n",
       "      <td>214766</td>\n",
       "      <td>1066.271413</td>\n",
       "      <td>ETHUSD</td>\n",
       "    </tr>\n",
       "    <tr>\n",
       "      <th>...</th>\n",
       "      <td>...</td>\n",
       "      <td>...</td>\n",
       "      <td>...</td>\n",
       "      <td>...</td>\n",
       "      <td>...</td>\n",
       "      <td>...</td>\n",
       "      <td>...</td>\n",
       "      <td>...</td>\n",
       "      <td>...</td>\n",
       "      <td>...</td>\n",
       "    </tr>\n",
       "    <tr>\n",
       "      <th>481</th>\n",
       "      <td>2021-08-27 05:00:00+00:00</td>\n",
       "      <td>CBSE</td>\n",
       "      <td>3102.74</td>\n",
       "      <td>3283.26</td>\n",
       "      <td>3092.95</td>\n",
       "      <td>3274.67</td>\n",
       "      <td>138685.160423</td>\n",
       "      <td>195020</td>\n",
       "      <td>3212.315961</td>\n",
       "      <td>ETHUSD</td>\n",
       "    </tr>\n",
       "    <tr>\n",
       "      <th>482</th>\n",
       "      <td>2021-08-28 05:00:00+00:00</td>\n",
       "      <td>CBSE</td>\n",
       "      <td>3247.99</td>\n",
       "      <td>3287.73</td>\n",
       "      <td>3153.75</td>\n",
       "      <td>3181.39</td>\n",
       "      <td>38550.523803</td>\n",
       "      <td>57110</td>\n",
       "      <td>3225.844257</td>\n",
       "      <td>ETHUSD</td>\n",
       "    </tr>\n",
       "    <tr>\n",
       "      <th>483</th>\n",
       "      <td>2021-08-29 05:00:00+00:00</td>\n",
       "      <td>CBSE</td>\n",
       "      <td>3226.45</td>\n",
       "      <td>3231.68</td>\n",
       "      <td>3145.45</td>\n",
       "      <td>3166.41</td>\n",
       "      <td>26481.231700</td>\n",
       "      <td>46966</td>\n",
       "      <td>3186.311741</td>\n",
       "      <td>ETHUSD</td>\n",
       "    </tr>\n",
       "    <tr>\n",
       "      <th>484</th>\n",
       "      <td>2021-08-30 05:00:00+00:00</td>\n",
       "      <td>CBSE</td>\n",
       "      <td>3229.02</td>\n",
       "      <td>3259.49</td>\n",
       "      <td>3190.56</td>\n",
       "      <td>3230.15</td>\n",
       "      <td>48045.012451</td>\n",
       "      <td>64761</td>\n",
       "      <td>3223.533178</td>\n",
       "      <td>ETHUSD</td>\n",
       "    </tr>\n",
       "    <tr>\n",
       "      <th>485</th>\n",
       "      <td>2021-08-31 05:00:00+00:00</td>\n",
       "      <td>CBSE</td>\n",
       "      <td>3430.00</td>\n",
       "      <td>3461.59</td>\n",
       "      <td>3384.24</td>\n",
       "      <td>3461.59</td>\n",
       "      <td>60100.853061</td>\n",
       "      <td>73547</td>\n",
       "      <td>3426.485726</td>\n",
       "      <td>ETHUSD</td>\n",
       "    </tr>\n",
       "  </tbody>\n",
       "</table>\n",
       "<p>243 rows × 10 columns</p>\n",
       "</div>"
      ],
      "text/plain": [
       "                     timestamp exchange     open     high      low    close  \\\n",
       "243  2021-01-01 06:00:00+00:00     CBSE   730.97   739.00   715.22   734.62   \n",
       "244  2021-01-02 06:00:00+00:00     CBSE   775.29   791.22   770.00   787.32   \n",
       "245  2021-01-03 06:00:00+00:00     CBSE   980.44  1098.47   955.00  1088.78   \n",
       "246  2021-01-04 06:00:00+00:00     CBSE  1087.55  1168.99   886.33  1042.38   \n",
       "247  2021-01-05 06:00:00+00:00     CBSE   990.22  1125.81   980.00  1103.73   \n",
       "..                         ...      ...      ...      ...      ...      ...   \n",
       "481  2021-08-27 05:00:00+00:00     CBSE  3102.74  3283.26  3092.95  3274.67   \n",
       "482  2021-08-28 05:00:00+00:00     CBSE  3247.99  3287.73  3153.75  3181.39   \n",
       "483  2021-08-29 05:00:00+00:00     CBSE  3226.45  3231.68  3145.45  3166.41   \n",
       "484  2021-08-30 05:00:00+00:00     CBSE  3229.02  3259.49  3190.56  3230.15   \n",
       "485  2021-08-31 05:00:00+00:00     CBSE  3430.00  3461.59  3384.24  3461.59   \n",
       "\n",
       "            volume  trade_count         vwap  symbol  \n",
       "243   46104.154992        26556   728.392387  ETHUSD  \n",
       "244   71896.942065        47622   780.118416  ETHUSD  \n",
       "245  213416.375742       114506  1010.719458  ETHUSD  \n",
       "246  765246.607376       333187  1019.675804  ETHUSD  \n",
       "247  444497.096675       214766  1066.271413  ETHUSD  \n",
       "..             ...          ...          ...     ...  \n",
       "481  138685.160423       195020  3212.315961  ETHUSD  \n",
       "482   38550.523803        57110  3225.844257  ETHUSD  \n",
       "483   26481.231700        46966  3186.311741  ETHUSD  \n",
       "484   48045.012451        64761  3223.533178  ETHUSD  \n",
       "485   60100.853061        73547  3426.485726  ETHUSD  \n",
       "\n",
       "[243 rows x 10 columns]"
      ]
     },
     "execution_count": 17,
     "metadata": {},
     "output_type": "execute_result"
    }
   ],
   "source": [
    "eth_prices = crypto_prices.loc[crypto_prices['symbol'] == 'ETHUSD']\n",
    "eth_prices"
   ]
  },
  {
   "cell_type": "code",
   "execution_count": 61,
   "id": "d9c092d7",
   "metadata": {},
   "outputs": [
    {
     "data": {
      "text/html": [
       "<div>\n",
       "<style scoped>\n",
       "    .dataframe tbody tr th:only-of-type {\n",
       "        vertical-align: middle;\n",
       "    }\n",
       "\n",
       "    .dataframe tbody tr th {\n",
       "        vertical-align: top;\n",
       "    }\n",
       "\n",
       "    .dataframe thead tr th {\n",
       "        text-align: left;\n",
       "    }\n",
       "</style>\n",
       "<table border=\"1\" class=\"dataframe\">\n",
       "  <thead>\n",
       "    <tr>\n",
       "      <th></th>\n",
       "      <th></th>\n",
       "      <th colspan=\"5\" halign=\"left\">AAPL</th>\n",
       "      <th colspan=\"5\" halign=\"left\">TSLA</th>\n",
       "    </tr>\n",
       "    <tr>\n",
       "      <th></th>\n",
       "      <th></th>\n",
       "      <th>open</th>\n",
       "      <th>high</th>\n",
       "      <th>low</th>\n",
       "      <th>close</th>\n",
       "      <th>volume</th>\n",
       "      <th>open</th>\n",
       "      <th>high</th>\n",
       "      <th>low</th>\n",
       "      <th>close</th>\n",
       "      <th>volume</th>\n",
       "    </tr>\n",
       "    <tr>\n",
       "      <th></th>\n",
       "      <th>time</th>\n",
       "      <th></th>\n",
       "      <th></th>\n",
       "      <th></th>\n",
       "      <th></th>\n",
       "      <th></th>\n",
       "      <th></th>\n",
       "      <th></th>\n",
       "      <th></th>\n",
       "      <th></th>\n",
       "      <th></th>\n",
       "    </tr>\n",
       "  </thead>\n",
       "  <tbody>\n",
       "    <tr>\n",
       "      <th>0</th>\n",
       "      <td>2021-01-04 00:00:00-05:00</td>\n",
       "      <td>133.52</td>\n",
       "      <td>133.6116</td>\n",
       "      <td>126.760</td>\n",
       "      <td>129.41</td>\n",
       "      <td>123353442</td>\n",
       "      <td>719.46</td>\n",
       "      <td>744.4899</td>\n",
       "      <td>717.1895</td>\n",
       "      <td>729.750</td>\n",
       "      <td>45293360</td>\n",
       "    </tr>\n",
       "    <tr>\n",
       "      <th>1</th>\n",
       "      <td>2021-01-05 00:00:00-05:00</td>\n",
       "      <td>128.89</td>\n",
       "      <td>131.7400</td>\n",
       "      <td>128.430</td>\n",
       "      <td>130.95</td>\n",
       "      <td>85139362</td>\n",
       "      <td>723.66</td>\n",
       "      <td>740.8400</td>\n",
       "      <td>719.2000</td>\n",
       "      <td>735.055</td>\n",
       "      <td>28402584</td>\n",
       "    </tr>\n",
       "    <tr>\n",
       "      <th>2</th>\n",
       "      <td>2021-01-06 00:00:00-05:00</td>\n",
       "      <td>127.72</td>\n",
       "      <td>131.0499</td>\n",
       "      <td>126.382</td>\n",
       "      <td>126.58</td>\n",
       "      <td>142064548</td>\n",
       "      <td>758.49</td>\n",
       "      <td>774.0000</td>\n",
       "      <td>749.1000</td>\n",
       "      <td>756.460</td>\n",
       "      <td>41989335</td>\n",
       "    </tr>\n",
       "    <tr>\n",
       "      <th>3</th>\n",
       "      <td>2021-01-07 00:00:00-05:00</td>\n",
       "      <td>128.36</td>\n",
       "      <td>131.6300</td>\n",
       "      <td>127.860</td>\n",
       "      <td>130.85</td>\n",
       "      <td>95314687</td>\n",
       "      <td>777.63</td>\n",
       "      <td>816.9900</td>\n",
       "      <td>775.2000</td>\n",
       "      <td>816.240</td>\n",
       "      <td>48080256</td>\n",
       "    </tr>\n",
       "    <tr>\n",
       "      <th>4</th>\n",
       "      <td>2021-01-08 00:00:00-05:00</td>\n",
       "      <td>132.43</td>\n",
       "      <td>132.6300</td>\n",
       "      <td>130.230</td>\n",
       "      <td>131.99</td>\n",
       "      <td>93211863</td>\n",
       "      <td>856.00</td>\n",
       "      <td>884.4900</td>\n",
       "      <td>838.3900</td>\n",
       "      <td>880.030</td>\n",
       "      <td>71814487</td>\n",
       "    </tr>\n",
       "  </tbody>\n",
       "</table>\n",
       "</div>"
      ],
      "text/plain": [
       "                                AAPL                                        \\\n",
       "                                open      high      low   close     volume   \n",
       "                        time                                                 \n",
       "0  2021-01-04 00:00:00-05:00  133.52  133.6116  126.760  129.41  123353442   \n",
       "1  2021-01-05 00:00:00-05:00  128.89  131.7400  128.430  130.95   85139362   \n",
       "2  2021-01-06 00:00:00-05:00  127.72  131.0499  126.382  126.58  142064548   \n",
       "3  2021-01-07 00:00:00-05:00  128.36  131.6300  127.860  130.85   95314687   \n",
       "4  2021-01-08 00:00:00-05:00  132.43  132.6300  130.230  131.99   93211863   \n",
       "\n",
       "     TSLA                                         \n",
       "     open      high       low    close    volume  \n",
       "                                                  \n",
       "0  719.46  744.4899  717.1895  729.750  45293360  \n",
       "1  723.66  740.8400  719.2000  735.055  28402584  \n",
       "2  758.49  774.0000  749.1000  756.460  41989335  \n",
       "3  777.63  816.9900  775.2000  816.240  48080256  \n",
       "4  856.00  884.4900  838.3900  880.030  71814487  "
      ]
     },
     "execution_count": 61,
     "metadata": {},
     "output_type": "execute_result"
    }
   ],
   "source": [
    "stocks_path = Path(\"../resources/stocks.csv\")\n",
    "stock_prices = pd.read_csv(stocks_path, header=[0,1,2])\n",
    "\n",
    "# https://stackoverflow.com/a/21324222/1704300\n",
    "for i, columns in enumerate(stock_prices.columns.levels):\n",
    "    columns_new = columns.tolist()\n",
    "    for j, row in enumerate(columns_new):\n",
    "        if \"Unnamed: \" in row:\n",
    "            columns_new[j] = \"\"\n",
    "    stock_prices = stock_prices.rename(columns=dict(zip(columns.tolist(), columns_new)),\n",
    "                        level=i)\n",
    "\n",
    "stock_prices.head()"
   ]
  },
  {
   "cell_type": "code",
   "execution_count": 56,
   "id": "e04feba2",
   "metadata": {},
   "outputs": [
    {
     "ename": "TypeError",
     "evalue": "'DataFrame' object is not callable",
     "output_type": "error",
     "traceback": [
      "\u001b[0;31m---------------------------------------------------------------------------\u001b[0m",
      "\u001b[0;31mTypeError\u001b[0m                                 Traceback (most recent call last)",
      "\u001b[0;32m/var/folders/r6/ccn0zhyx40g2f3y2s1050rl00000gp/T/ipykernel_21592/2670762547.py\u001b[0m in \u001b[0;36m<module>\u001b[0;34m\u001b[0m\n\u001b[0;32m----> 1\u001b[0;31m \u001b[0mapple_prices\u001b[0m \u001b[0;34m=\u001b[0m \u001b[0mstock_prices\u001b[0m\u001b[0;34m.\u001b[0m\u001b[0mloc\u001b[0m\u001b[0;34m[\u001b[0m\u001b[0mstock_prices\u001b[0m\u001b[0;34m[\u001b[0m\u001b[0;34m'AAPL'\u001b[0m\u001b[0;34m]\u001b[0m\u001b[0;34m(\u001b[0m\u001b[0;34m'close'\u001b[0m\u001b[0;34m)\u001b[0m\u001b[0;34m]\u001b[0m\u001b[0;34m\u001b[0m\u001b[0;34m\u001b[0m\u001b[0m\n\u001b[0m\u001b[1;32m      2\u001b[0m \u001b[0mapple_prices\u001b[0m\u001b[0;34m\u001b[0m\u001b[0;34m\u001b[0m\u001b[0m\n",
      "\u001b[0;31mTypeError\u001b[0m: 'DataFrame' object is not callable"
     ]
    }
   ],
   "source": [
    "apple_prices = stock_prices.loc[stock_prices['AAPL']('close')]\n",
    "apple_prices"
   ]
  },
  {
   "cell_type": "code",
   "execution_count": 37,
   "id": "67b0fc78",
   "metadata": {},
   "outputs": [
    {
     "data": {
      "text/html": [
       "<div>\n",
       "<style scoped>\n",
       "    .dataframe tbody tr th:only-of-type {\n",
       "        vertical-align: middle;\n",
       "    }\n",
       "\n",
       "    .dataframe tbody tr th {\n",
       "        vertical-align: top;\n",
       "    }\n",
       "\n",
       "    .dataframe thead th {\n",
       "        text-align: right;\n",
       "    }\n",
       "</style>\n",
       "<table border=\"1\" class=\"dataframe\">\n",
       "  <thead>\n",
       "    <tr style=\"text-align: right;\">\n",
       "      <th></th>\n",
       "      <th>Day</th>\n",
       "      <th>Tesla: (United States)</th>\n",
       "    </tr>\n",
       "  </thead>\n",
       "  <tbody>\n",
       "    <tr>\n",
       "      <th>0</th>\n",
       "      <td>2021-01-01</td>\n",
       "      <td>59</td>\n",
       "    </tr>\n",
       "    <tr>\n",
       "      <th>1</th>\n",
       "      <td>2021-01-02</td>\n",
       "      <td>58</td>\n",
       "    </tr>\n",
       "    <tr>\n",
       "      <th>2</th>\n",
       "      <td>2021-01-03</td>\n",
       "      <td>59</td>\n",
       "    </tr>\n",
       "    <tr>\n",
       "      <th>3</th>\n",
       "      <td>2021-01-04</td>\n",
       "      <td>41</td>\n",
       "    </tr>\n",
       "    <tr>\n",
       "      <th>4</th>\n",
       "      <td>2021-01-05</td>\n",
       "      <td>36</td>\n",
       "    </tr>\n",
       "  </tbody>\n",
       "</table>\n",
       "</div>"
      ],
      "text/plain": [
       "          Day  Tesla: (United States)\n",
       "0  2021-01-01                      59\n",
       "1  2021-01-02                      58\n",
       "2  2021-01-03                      59\n",
       "3  2021-01-04                      41\n",
       "4  2021-01-05                      36"
      ]
     },
     "execution_count": 37,
     "metadata": {},
     "output_type": "execute_result"
    }
   ],
   "source": [
    "tesla_path = Path(\"../resources/tesla-2021-01-2021-08.csv\")\n",
    "tesla_trends = pd.read_csv(tesla_path, skiprows = 1)\n",
    "tesla_trends.head()"
   ]
  },
  {
   "cell_type": "code",
   "execution_count": 38,
   "id": "1e1dd3d9",
   "metadata": {},
   "outputs": [
    {
     "data": {
      "text/html": [
       "<div>\n",
       "<style scoped>\n",
       "    .dataframe tbody tr th:only-of-type {\n",
       "        vertical-align: middle;\n",
       "    }\n",
       "\n",
       "    .dataframe tbody tr th {\n",
       "        vertical-align: top;\n",
       "    }\n",
       "\n",
       "    .dataframe thead th {\n",
       "        text-align: right;\n",
       "    }\n",
       "</style>\n",
       "<table border=\"1\" class=\"dataframe\">\n",
       "  <thead>\n",
       "    <tr style=\"text-align: right;\">\n",
       "      <th></th>\n",
       "      <th>Day</th>\n",
       "      <th>Apple: (United States)</th>\n",
       "    </tr>\n",
       "  </thead>\n",
       "  <tbody>\n",
       "    <tr>\n",
       "      <th>0</th>\n",
       "      <td>2021-01-01</td>\n",
       "      <td>91</td>\n",
       "    </tr>\n",
       "    <tr>\n",
       "      <th>1</th>\n",
       "      <td>2021-01-02</td>\n",
       "      <td>93</td>\n",
       "    </tr>\n",
       "    <tr>\n",
       "      <th>2</th>\n",
       "      <td>2021-01-03</td>\n",
       "      <td>87</td>\n",
       "    </tr>\n",
       "    <tr>\n",
       "      <th>3</th>\n",
       "      <td>2021-01-04</td>\n",
       "      <td>91</td>\n",
       "    </tr>\n",
       "    <tr>\n",
       "      <th>4</th>\n",
       "      <td>2021-01-05</td>\n",
       "      <td>92</td>\n",
       "    </tr>\n",
       "  </tbody>\n",
       "</table>\n",
       "</div>"
      ],
      "text/plain": [
       "          Day  Apple: (United States)\n",
       "0  2021-01-01                      91\n",
       "1  2021-01-02                      93\n",
       "2  2021-01-03                      87\n",
       "3  2021-01-04                      91\n",
       "4  2021-01-05                      92"
      ]
     },
     "execution_count": 38,
     "metadata": {},
     "output_type": "execute_result"
    }
   ],
   "source": [
    "apple_path = Path(\"../resources/apple-2021-01-2021-08.csv\")\n",
    "apple_trends = pd.read_csv(apple_path, skiprows = 1)\n",
    "apple_trends.head()"
   ]
  },
  {
   "cell_type": "code",
   "execution_count": 39,
   "id": "7f783efb",
   "metadata": {},
   "outputs": [
    {
     "data": {
      "text/html": [
       "<div>\n",
       "<style scoped>\n",
       "    .dataframe tbody tr th:only-of-type {\n",
       "        vertical-align: middle;\n",
       "    }\n",
       "\n",
       "    .dataframe tbody tr th {\n",
       "        vertical-align: top;\n",
       "    }\n",
       "\n",
       "    .dataframe thead th {\n",
       "        text-align: right;\n",
       "    }\n",
       "</style>\n",
       "<table border=\"1\" class=\"dataframe\">\n",
       "  <thead>\n",
       "    <tr style=\"text-align: right;\">\n",
       "      <th></th>\n",
       "      <th>Day</th>\n",
       "      <th>Bitcoin: (United States)</th>\n",
       "    </tr>\n",
       "  </thead>\n",
       "  <tbody>\n",
       "    <tr>\n",
       "      <th>0</th>\n",
       "      <td>2021-01-01</td>\n",
       "      <td>32</td>\n",
       "    </tr>\n",
       "    <tr>\n",
       "      <th>1</th>\n",
       "      <td>2021-01-02</td>\n",
       "      <td>54</td>\n",
       "    </tr>\n",
       "    <tr>\n",
       "      <th>2</th>\n",
       "      <td>2021-01-03</td>\n",
       "      <td>61</td>\n",
       "    </tr>\n",
       "    <tr>\n",
       "      <th>3</th>\n",
       "      <td>2021-01-04</td>\n",
       "      <td>52</td>\n",
       "    </tr>\n",
       "    <tr>\n",
       "      <th>4</th>\n",
       "      <td>2021-01-05</td>\n",
       "      <td>45</td>\n",
       "    </tr>\n",
       "  </tbody>\n",
       "</table>\n",
       "</div>"
      ],
      "text/plain": [
       "          Day  Bitcoin: (United States)\n",
       "0  2021-01-01                        32\n",
       "1  2021-01-02                        54\n",
       "2  2021-01-03                        61\n",
       "3  2021-01-04                        52\n",
       "4  2021-01-05                        45"
      ]
     },
     "execution_count": 39,
     "metadata": {},
     "output_type": "execute_result"
    }
   ],
   "source": [
    "btc_path = Path(\"../resources/btc-2021-01-2021-08.csv\")\n",
    "btc_trends = pd.read_csv(btc_path, skiprows = 1)\n",
    "btc_trends.head()"
   ]
  },
  {
   "cell_type": "code",
   "execution_count": 40,
   "id": "d53f2bef",
   "metadata": {},
   "outputs": [
    {
     "data": {
      "text/html": [
       "<div>\n",
       "<style scoped>\n",
       "    .dataframe tbody tr th:only-of-type {\n",
       "        vertical-align: middle;\n",
       "    }\n",
       "\n",
       "    .dataframe tbody tr th {\n",
       "        vertical-align: top;\n",
       "    }\n",
       "\n",
       "    .dataframe thead th {\n",
       "        text-align: right;\n",
       "    }\n",
       "</style>\n",
       "<table border=\"1\" class=\"dataframe\">\n",
       "  <thead>\n",
       "    <tr style=\"text-align: right;\">\n",
       "      <th></th>\n",
       "      <th>Day</th>\n",
       "      <th>Ethereum Crypto: (United States)</th>\n",
       "    </tr>\n",
       "  </thead>\n",
       "  <tbody>\n",
       "    <tr>\n",
       "      <th>0</th>\n",
       "      <td>2021-01-01</td>\n",
       "      <td>10</td>\n",
       "    </tr>\n",
       "    <tr>\n",
       "      <th>1</th>\n",
       "      <td>2021-01-02</td>\n",
       "      <td>7</td>\n",
       "    </tr>\n",
       "    <tr>\n",
       "      <th>2</th>\n",
       "      <td>2021-01-03</td>\n",
       "      <td>9</td>\n",
       "    </tr>\n",
       "    <tr>\n",
       "      <th>3</th>\n",
       "      <td>2021-01-04</td>\n",
       "      <td>25</td>\n",
       "    </tr>\n",
       "    <tr>\n",
       "      <th>4</th>\n",
       "      <td>2021-01-05</td>\n",
       "      <td>17</td>\n",
       "    </tr>\n",
       "  </tbody>\n",
       "</table>\n",
       "</div>"
      ],
      "text/plain": [
       "          Day  Ethereum Crypto: (United States)\n",
       "0  2021-01-01                                10\n",
       "1  2021-01-02                                 7\n",
       "2  2021-01-03                                 9\n",
       "3  2021-01-04                                25\n",
       "4  2021-01-05                                17"
      ]
     },
     "execution_count": 40,
     "metadata": {},
     "output_type": "execute_result"
    }
   ],
   "source": [
    "eth_path = Path(\"../resources/eth-2021-01-2021-08.csv\")\n",
    "eth_trends = pd.read_csv(eth_path, skiprows = 1)\n",
    "eth_trends.head()"
   ]
  },
  {
   "cell_type": "code",
   "execution_count": 44,
   "id": "00600734",
   "metadata": {},
   "outputs": [
    {
     "data": {
      "application/vnd.plotly.v1+json": {
       "config": {
        "plotlyServerURL": "https://plot.ly"
       },
       "data": [
        {
         "hovertemplate": "Day=%{x}<br>Tesla: (United States)=%{y}<extra></extra>",
         "legendgroup": "",
         "line": {
          "color": "#636efa",
          "dash": "solid"
         },
         "marker": {
          "symbol": "circle"
         },
         "mode": "lines",
         "name": "",
         "orientation": "v",
         "showlegend": false,
         "type": "scatter",
         "x": [
          "2021-01-01",
          "2021-01-02",
          "2021-01-03",
          "2021-01-04",
          "2021-01-05",
          "2021-01-06",
          "2021-01-07",
          "2021-01-08",
          "2021-01-09",
          "2021-01-10",
          "2021-01-11",
          "2021-01-12",
          "2021-01-13",
          "2021-01-14",
          "2021-01-15",
          "2021-01-16",
          "2021-01-17",
          "2021-01-18",
          "2021-01-19",
          "2021-01-20",
          "2021-01-21",
          "2021-01-22",
          "2021-01-23",
          "2021-01-24",
          "2021-01-25",
          "2021-01-26",
          "2021-01-27",
          "2021-01-28",
          "2021-01-29",
          "2021-01-30",
          "2021-01-31",
          "2021-02-01",
          "2021-02-02",
          "2021-02-03",
          "2021-02-04",
          "2021-02-05",
          "2021-02-06",
          "2021-02-07",
          "2021-02-08",
          "2021-02-09",
          "2021-02-10",
          "2021-02-11",
          "2021-02-12",
          "2021-02-13",
          "2021-02-14",
          "2021-02-15",
          "2021-02-16",
          "2021-02-17",
          "2021-02-18",
          "2021-02-19",
          "2021-02-20",
          "2021-02-21",
          "2021-02-22",
          "2021-02-23",
          "2021-02-24",
          "2021-02-25",
          "2021-02-26",
          "2021-02-27",
          "2021-02-28",
          "2021-03-01",
          "2021-03-02",
          "2021-03-03",
          "2021-03-04",
          "2021-03-05",
          "2021-03-06",
          "2021-03-07",
          "2021-03-08",
          "2021-03-09",
          "2021-03-10",
          "2021-03-11",
          "2021-03-12",
          "2021-03-13",
          "2021-03-14",
          "2021-03-15",
          "2021-03-16",
          "2021-03-17",
          "2021-03-18",
          "2021-03-19",
          "2021-03-20",
          "2021-03-21",
          "2021-03-22",
          "2021-03-23",
          "2021-03-24",
          "2021-03-25",
          "2021-03-26",
          "2021-03-27",
          "2021-03-28",
          "2021-03-29",
          "2021-03-30",
          "2021-03-31",
          "2021-04-01",
          "2021-04-02",
          "2021-04-03",
          "2021-04-04",
          "2021-04-05",
          "2021-04-06",
          "2021-04-07",
          "2021-04-08",
          "2021-04-09",
          "2021-04-10",
          "2021-04-11",
          "2021-04-12",
          "2021-04-13",
          "2021-04-14",
          "2021-04-15",
          "2021-04-16",
          "2021-04-17",
          "2021-04-18",
          "2021-04-19",
          "2021-04-20",
          "2021-04-21",
          "2021-04-22",
          "2021-04-23",
          "2021-04-24",
          "2021-04-25",
          "2021-04-26",
          "2021-04-27",
          "2021-04-28",
          "2021-04-29",
          "2021-04-30",
          "2021-05-01",
          "2021-05-02",
          "2021-05-03",
          "2021-05-04",
          "2021-05-05",
          "2021-05-06",
          "2021-05-07",
          "2021-05-08",
          "2021-05-09",
          "2021-05-10",
          "2021-05-11",
          "2021-05-12",
          "2021-05-13",
          "2021-05-14",
          "2021-05-15",
          "2021-05-16",
          "2021-05-17",
          "2021-05-18",
          "2021-05-19",
          "2021-05-20",
          "2021-05-21",
          "2021-05-22",
          "2021-05-23",
          "2021-05-24",
          "2021-05-25",
          "2021-05-26",
          "2021-05-27",
          "2021-05-28",
          "2021-05-29",
          "2021-05-30",
          "2021-05-31",
          "2021-06-01",
          "2021-06-02",
          "2021-06-03",
          "2021-06-04",
          "2021-06-05",
          "2021-06-06",
          "2021-06-07",
          "2021-06-08",
          "2021-06-09",
          "2021-06-10",
          "2021-06-11",
          "2021-06-12",
          "2021-06-13",
          "2021-06-14",
          "2021-06-15",
          "2021-06-16",
          "2021-06-17",
          "2021-06-18",
          "2021-06-19",
          "2021-06-20",
          "2021-06-21",
          "2021-06-22",
          "2021-06-23",
          "2021-06-24",
          "2021-06-25",
          "2021-06-26",
          "2021-06-27",
          "2021-06-28",
          "2021-06-29",
          "2021-06-30",
          "2021-07-01",
          "2021-07-02",
          "2021-07-03",
          "2021-07-04",
          "2021-07-05",
          "2021-07-06",
          "2021-07-07",
          "2021-07-08",
          "2021-07-09",
          "2021-07-10",
          "2021-07-11",
          "2021-07-12",
          "2021-07-13",
          "2021-07-14",
          "2021-07-15",
          "2021-07-16",
          "2021-07-17",
          "2021-07-18",
          "2021-07-19",
          "2021-07-20",
          "2021-07-21",
          "2021-07-22",
          "2021-07-23",
          "2021-07-24",
          "2021-07-25",
          "2021-07-26",
          "2021-07-27",
          "2021-07-28",
          "2021-07-29",
          "2021-07-30",
          "2021-07-31",
          "2021-08-01",
          "2021-08-02",
          "2021-08-03",
          "2021-08-04",
          "2021-08-05",
          "2021-08-06",
          "2021-08-07",
          "2021-08-08",
          "2021-08-09",
          "2021-08-10",
          "2021-08-11",
          "2021-08-12",
          "2021-08-13",
          "2021-08-14",
          "2021-08-15",
          "2021-08-16",
          "2021-08-17",
          "2021-08-18",
          "2021-08-19",
          "2021-08-20",
          "2021-08-21",
          "2021-08-22",
          "2021-08-23",
          "2021-08-24",
          "2021-08-25",
          "2021-08-26",
          "2021-08-27",
          "2021-08-28",
          "2021-08-29",
          "2021-08-30",
          "2021-08-31"
         ],
         "xaxis": "x",
         "y": [
          59,
          58,
          59,
          41,
          36,
          33,
          36,
          53,
          52,
          57,
          48,
          45,
          41,
          39,
          55,
          53,
          49,
          54,
          49,
          35,
          40,
          48,
          51,
          63,
          48,
          40,
          61,
          100,
          66,
          78,
          68,
          60,
          49,
          43,
          44,
          48,
          62,
          47,
          53,
          42,
          50,
          41,
          53,
          66,
          57,
          60,
          54,
          53,
          51,
          57,
          62,
          67,
          64,
          51,
          43,
          53,
          46,
          64,
          63,
          52,
          52,
          47,
          44,
          47,
          69,
          62,
          41,
          50,
          53,
          50,
          49,
          55,
          66,
          48,
          45,
          47,
          47,
          46,
          55,
          73,
          54,
          49,
          56,
          50,
          55,
          59,
          72,
          45,
          43,
          46,
          57,
          54,
          58,
          69,
          54,
          45,
          43,
          48,
          47,
          74,
          65,
          54,
          41,
          49,
          51,
          47,
          74,
          61,
          55,
          50,
          46,
          54,
          56,
          64,
          58,
          52,
          53,
          60,
          58,
          46,
          47,
          65,
          61,
          50,
          47,
          49,
          49,
          58,
          64,
          60,
          56,
          79,
          72,
          67,
          75,
          76,
          43,
          54,
          51,
          67,
          61,
          66,
          76,
          66,
          54,
          50,
          54,
          51,
          60,
          73,
          66,
          59,
          60,
          53,
          56,
          67,
          71,
          65,
          57,
          50,
          60,
          88,
          81,
          77,
          61,
          50,
          59,
          63,
          68,
          68,
          71,
          51,
          50,
          53,
          66,
          60,
          80,
          81,
          51,
          52,
          58,
          63,
          62,
          67,
          67,
          64,
          67,
          56,
          63,
          47,
          68,
          64,
          53,
          51,
          45,
          44,
          46,
          61,
          61,
          47,
          48,
          41,
          57,
          61,
          71,
          69,
          58,
          58,
          47,
          55,
          52,
          66,
          60,
          58,
          44,
          49,
          55,
          56,
          64,
          72,
          55,
          50,
          45,
          52,
          47,
          60,
          64,
          54,
          49,
          49,
          50,
          52,
          57,
          64,
          46,
          48,
          52,
          52,
          49,
          57,
          56,
          51,
          41
         ],
         "yaxis": "y"
        }
       ],
       "layout": {
        "autosize": true,
        "legend": {
         "tracegroupgap": 0
        },
        "template": {
         "data": {
          "bar": [
           {
            "error_x": {
             "color": "#2a3f5f"
            },
            "error_y": {
             "color": "#2a3f5f"
            },
            "marker": {
             "line": {
              "color": "#E5ECF6",
              "width": 0.5
             },
             "pattern": {
              "fillmode": "overlay",
              "size": 10,
              "solidity": 0.2
             }
            },
            "type": "bar"
           }
          ],
          "barpolar": [
           {
            "marker": {
             "line": {
              "color": "#E5ECF6",
              "width": 0.5
             },
             "pattern": {
              "fillmode": "overlay",
              "size": 10,
              "solidity": 0.2
             }
            },
            "type": "barpolar"
           }
          ],
          "carpet": [
           {
            "aaxis": {
             "endlinecolor": "#2a3f5f",
             "gridcolor": "white",
             "linecolor": "white",
             "minorgridcolor": "white",
             "startlinecolor": "#2a3f5f"
            },
            "baxis": {
             "endlinecolor": "#2a3f5f",
             "gridcolor": "white",
             "linecolor": "white",
             "minorgridcolor": "white",
             "startlinecolor": "#2a3f5f"
            },
            "type": "carpet"
           }
          ],
          "choropleth": [
           {
            "colorbar": {
             "outlinewidth": 0,
             "ticks": ""
            },
            "type": "choropleth"
           }
          ],
          "contour": [
           {
            "colorbar": {
             "outlinewidth": 0,
             "ticks": ""
            },
            "colorscale": [
             [
              0,
              "#0d0887"
             ],
             [
              0.1111111111111111,
              "#46039f"
             ],
             [
              0.2222222222222222,
              "#7201a8"
             ],
             [
              0.3333333333333333,
              "#9c179e"
             ],
             [
              0.4444444444444444,
              "#bd3786"
             ],
             [
              0.5555555555555556,
              "#d8576b"
             ],
             [
              0.6666666666666666,
              "#ed7953"
             ],
             [
              0.7777777777777778,
              "#fb9f3a"
             ],
             [
              0.8888888888888888,
              "#fdca26"
             ],
             [
              1,
              "#f0f921"
             ]
            ],
            "type": "contour"
           }
          ],
          "contourcarpet": [
           {
            "colorbar": {
             "outlinewidth": 0,
             "ticks": ""
            },
            "type": "contourcarpet"
           }
          ],
          "heatmap": [
           {
            "colorbar": {
             "outlinewidth": 0,
             "ticks": ""
            },
            "colorscale": [
             [
              0,
              "#0d0887"
             ],
             [
              0.1111111111111111,
              "#46039f"
             ],
             [
              0.2222222222222222,
              "#7201a8"
             ],
             [
              0.3333333333333333,
              "#9c179e"
             ],
             [
              0.4444444444444444,
              "#bd3786"
             ],
             [
              0.5555555555555556,
              "#d8576b"
             ],
             [
              0.6666666666666666,
              "#ed7953"
             ],
             [
              0.7777777777777778,
              "#fb9f3a"
             ],
             [
              0.8888888888888888,
              "#fdca26"
             ],
             [
              1,
              "#f0f921"
             ]
            ],
            "type": "heatmap"
           }
          ],
          "heatmapgl": [
           {
            "colorbar": {
             "outlinewidth": 0,
             "ticks": ""
            },
            "colorscale": [
             [
              0,
              "#0d0887"
             ],
             [
              0.1111111111111111,
              "#46039f"
             ],
             [
              0.2222222222222222,
              "#7201a8"
             ],
             [
              0.3333333333333333,
              "#9c179e"
             ],
             [
              0.4444444444444444,
              "#bd3786"
             ],
             [
              0.5555555555555556,
              "#d8576b"
             ],
             [
              0.6666666666666666,
              "#ed7953"
             ],
             [
              0.7777777777777778,
              "#fb9f3a"
             ],
             [
              0.8888888888888888,
              "#fdca26"
             ],
             [
              1,
              "#f0f921"
             ]
            ],
            "type": "heatmapgl"
           }
          ],
          "histogram": [
           {
            "marker": {
             "pattern": {
              "fillmode": "overlay",
              "size": 10,
              "solidity": 0.2
             }
            },
            "type": "histogram"
           }
          ],
          "histogram2d": [
           {
            "colorbar": {
             "outlinewidth": 0,
             "ticks": ""
            },
            "colorscale": [
             [
              0,
              "#0d0887"
             ],
             [
              0.1111111111111111,
              "#46039f"
             ],
             [
              0.2222222222222222,
              "#7201a8"
             ],
             [
              0.3333333333333333,
              "#9c179e"
             ],
             [
              0.4444444444444444,
              "#bd3786"
             ],
             [
              0.5555555555555556,
              "#d8576b"
             ],
             [
              0.6666666666666666,
              "#ed7953"
             ],
             [
              0.7777777777777778,
              "#fb9f3a"
             ],
             [
              0.8888888888888888,
              "#fdca26"
             ],
             [
              1,
              "#f0f921"
             ]
            ],
            "type": "histogram2d"
           }
          ],
          "histogram2dcontour": [
           {
            "colorbar": {
             "outlinewidth": 0,
             "ticks": ""
            },
            "colorscale": [
             [
              0,
              "#0d0887"
             ],
             [
              0.1111111111111111,
              "#46039f"
             ],
             [
              0.2222222222222222,
              "#7201a8"
             ],
             [
              0.3333333333333333,
              "#9c179e"
             ],
             [
              0.4444444444444444,
              "#bd3786"
             ],
             [
              0.5555555555555556,
              "#d8576b"
             ],
             [
              0.6666666666666666,
              "#ed7953"
             ],
             [
              0.7777777777777778,
              "#fb9f3a"
             ],
             [
              0.8888888888888888,
              "#fdca26"
             ],
             [
              1,
              "#f0f921"
             ]
            ],
            "type": "histogram2dcontour"
           }
          ],
          "mesh3d": [
           {
            "colorbar": {
             "outlinewidth": 0,
             "ticks": ""
            },
            "type": "mesh3d"
           }
          ],
          "parcoords": [
           {
            "line": {
             "colorbar": {
              "outlinewidth": 0,
              "ticks": ""
             }
            },
            "type": "parcoords"
           }
          ],
          "pie": [
           {
            "automargin": true,
            "type": "pie"
           }
          ],
          "scatter": [
           {
            "marker": {
             "colorbar": {
              "outlinewidth": 0,
              "ticks": ""
             }
            },
            "type": "scatter"
           }
          ],
          "scatter3d": [
           {
            "line": {
             "colorbar": {
              "outlinewidth": 0,
              "ticks": ""
             }
            },
            "marker": {
             "colorbar": {
              "outlinewidth": 0,
              "ticks": ""
             }
            },
            "type": "scatter3d"
           }
          ],
          "scattercarpet": [
           {
            "marker": {
             "colorbar": {
              "outlinewidth": 0,
              "ticks": ""
             }
            },
            "type": "scattercarpet"
           }
          ],
          "scattergeo": [
           {
            "marker": {
             "colorbar": {
              "outlinewidth": 0,
              "ticks": ""
             }
            },
            "type": "scattergeo"
           }
          ],
          "scattergl": [
           {
            "marker": {
             "colorbar": {
              "outlinewidth": 0,
              "ticks": ""
             }
            },
            "type": "scattergl"
           }
          ],
          "scattermapbox": [
           {
            "marker": {
             "colorbar": {
              "outlinewidth": 0,
              "ticks": ""
             }
            },
            "type": "scattermapbox"
           }
          ],
          "scatterpolar": [
           {
            "marker": {
             "colorbar": {
              "outlinewidth": 0,
              "ticks": ""
             }
            },
            "type": "scatterpolar"
           }
          ],
          "scatterpolargl": [
           {
            "marker": {
             "colorbar": {
              "outlinewidth": 0,
              "ticks": ""
             }
            },
            "type": "scatterpolargl"
           }
          ],
          "scatterternary": [
           {
            "marker": {
             "colorbar": {
              "outlinewidth": 0,
              "ticks": ""
             }
            },
            "type": "scatterternary"
           }
          ],
          "surface": [
           {
            "colorbar": {
             "outlinewidth": 0,
             "ticks": ""
            },
            "colorscale": [
             [
              0,
              "#0d0887"
             ],
             [
              0.1111111111111111,
              "#46039f"
             ],
             [
              0.2222222222222222,
              "#7201a8"
             ],
             [
              0.3333333333333333,
              "#9c179e"
             ],
             [
              0.4444444444444444,
              "#bd3786"
             ],
             [
              0.5555555555555556,
              "#d8576b"
             ],
             [
              0.6666666666666666,
              "#ed7953"
             ],
             [
              0.7777777777777778,
              "#fb9f3a"
             ],
             [
              0.8888888888888888,
              "#fdca26"
             ],
             [
              1,
              "#f0f921"
             ]
            ],
            "type": "surface"
           }
          ],
          "table": [
           {
            "cells": {
             "fill": {
              "color": "#EBF0F8"
             },
             "line": {
              "color": "white"
             }
            },
            "header": {
             "fill": {
              "color": "#C8D4E3"
             },
             "line": {
              "color": "white"
             }
            },
            "type": "table"
           }
          ]
         },
         "layout": {
          "annotationdefaults": {
           "arrowcolor": "#2a3f5f",
           "arrowhead": 0,
           "arrowwidth": 1
          },
          "autotypenumbers": "strict",
          "coloraxis": {
           "colorbar": {
            "outlinewidth": 0,
            "ticks": ""
           }
          },
          "colorscale": {
           "diverging": [
            [
             0,
             "#8e0152"
            ],
            [
             0.1,
             "#c51b7d"
            ],
            [
             0.2,
             "#de77ae"
            ],
            [
             0.3,
             "#f1b6da"
            ],
            [
             0.4,
             "#fde0ef"
            ],
            [
             0.5,
             "#f7f7f7"
            ],
            [
             0.6,
             "#e6f5d0"
            ],
            [
             0.7,
             "#b8e186"
            ],
            [
             0.8,
             "#7fbc41"
            ],
            [
             0.9,
             "#4d9221"
            ],
            [
             1,
             "#276419"
            ]
           ],
           "sequential": [
            [
             0,
             "#0d0887"
            ],
            [
             0.1111111111111111,
             "#46039f"
            ],
            [
             0.2222222222222222,
             "#7201a8"
            ],
            [
             0.3333333333333333,
             "#9c179e"
            ],
            [
             0.4444444444444444,
             "#bd3786"
            ],
            [
             0.5555555555555556,
             "#d8576b"
            ],
            [
             0.6666666666666666,
             "#ed7953"
            ],
            [
             0.7777777777777778,
             "#fb9f3a"
            ],
            [
             0.8888888888888888,
             "#fdca26"
            ],
            [
             1,
             "#f0f921"
            ]
           ],
           "sequentialminus": [
            [
             0,
             "#0d0887"
            ],
            [
             0.1111111111111111,
             "#46039f"
            ],
            [
             0.2222222222222222,
             "#7201a8"
            ],
            [
             0.3333333333333333,
             "#9c179e"
            ],
            [
             0.4444444444444444,
             "#bd3786"
            ],
            [
             0.5555555555555556,
             "#d8576b"
            ],
            [
             0.6666666666666666,
             "#ed7953"
            ],
            [
             0.7777777777777778,
             "#fb9f3a"
            ],
            [
             0.8888888888888888,
             "#fdca26"
            ],
            [
             1,
             "#f0f921"
            ]
           ]
          },
          "colorway": [
           "#636efa",
           "#EF553B",
           "#00cc96",
           "#ab63fa",
           "#FFA15A",
           "#19d3f3",
           "#FF6692",
           "#B6E880",
           "#FF97FF",
           "#FECB52"
          ],
          "font": {
           "color": "#2a3f5f"
          },
          "geo": {
           "bgcolor": "white",
           "lakecolor": "white",
           "landcolor": "#E5ECF6",
           "showlakes": true,
           "showland": true,
           "subunitcolor": "white"
          },
          "hoverlabel": {
           "align": "left"
          },
          "hovermode": "closest",
          "mapbox": {
           "style": "light"
          },
          "paper_bgcolor": "white",
          "plot_bgcolor": "#E5ECF6",
          "polar": {
           "angularaxis": {
            "gridcolor": "white",
            "linecolor": "white",
            "ticks": ""
           },
           "bgcolor": "#E5ECF6",
           "radialaxis": {
            "gridcolor": "white",
            "linecolor": "white",
            "ticks": ""
           }
          },
          "scene": {
           "xaxis": {
            "backgroundcolor": "#E5ECF6",
            "gridcolor": "white",
            "gridwidth": 2,
            "linecolor": "white",
            "showbackground": true,
            "ticks": "",
            "zerolinecolor": "white"
           },
           "yaxis": {
            "backgroundcolor": "#E5ECF6",
            "gridcolor": "white",
            "gridwidth": 2,
            "linecolor": "white",
            "showbackground": true,
            "ticks": "",
            "zerolinecolor": "white"
           },
           "zaxis": {
            "backgroundcolor": "#E5ECF6",
            "gridcolor": "white",
            "gridwidth": 2,
            "linecolor": "white",
            "showbackground": true,
            "ticks": "",
            "zerolinecolor": "white"
           }
          },
          "shapedefaults": {
           "line": {
            "color": "#2a3f5f"
           }
          },
          "ternary": {
           "aaxis": {
            "gridcolor": "white",
            "linecolor": "white",
            "ticks": ""
           },
           "baxis": {
            "gridcolor": "white",
            "linecolor": "white",
            "ticks": ""
           },
           "bgcolor": "#E5ECF6",
           "caxis": {
            "gridcolor": "white",
            "linecolor": "white",
            "ticks": ""
           }
          },
          "title": {
           "x": 0.05
          },
          "xaxis": {
           "automargin": true,
           "gridcolor": "white",
           "linecolor": "white",
           "ticks": "",
           "title": {
            "standoff": 15
           },
           "zerolinecolor": "white",
           "zerolinewidth": 2
          },
          "yaxis": {
           "automargin": true,
           "gridcolor": "white",
           "linecolor": "white",
           "ticks": "",
           "title": {
            "standoff": 15
           },
           "zerolinecolor": "white",
           "zerolinewidth": 2
          }
         }
        },
        "title": {
         "text": "Tesla Google Trends"
        },
        "xaxis": {
         "anchor": "y",
         "autorange": true,
         "domain": [
          0,
          1
         ],
         "range": [
          "2021-01-01",
          "2021-08-31"
         ],
         "title": {
          "text": "Day"
         },
         "type": "date"
        },
        "yaxis": {
         "anchor": "x",
         "autorange": true,
         "domain": [
          0,
          1
         ],
         "range": [
          29.27777777777778,
          103.72222222222223
         ],
         "title": {
          "text": "Tesla: (United States)"
         },
         "type": "linear"
        }
       }
      },
      "image/png": "[encoded data removed]",
      "text/html": [
       "<div>                            <div id=\"02be489a-db8a-48ed-8d96-7cc710b1f00d\" class=\"plotly-graph-div\" style=\"height:525px; width:100%;\"></div>            <script type=\"text/javascript\">                require([\"plotly\"], function(Plotly) {                    window.PLOTLYENV=window.PLOTLYENV || {};                                    if (document.getElementById(\"02be489a-db8a-48ed-8d96-7cc710b1f00d\")) {                    Plotly.newPlot(                        \"02be489a-db8a-48ed-8d96-7cc710b1f00d\",                        [{\"hovertemplate\":\"Day=%{x}<br>Tesla: (United States)=%{y}<extra></extra>\",\"legendgroup\":\"\",\"line\":{\"color\":\"#636efa\",\"dash\":\"solid\"},\"marker\":{\"symbol\":\"circle\"},\"mode\":\"lines\",\"name\":\"\",\"orientation\":\"v\",\"showlegend\":false,\"x\":[\"2021-01-01\",\"2021-01-02\",\"2021-01-03\",\"2021-01-04\",\"2021-01-05\",\"2021-01-06\",\"2021-01-07\",\"2021-01-08\",\"2021-01-09\",\"2021-01-10\",\"2021-01-11\",\"2021-01-12\",\"2021-01-13\",\"2021-01-14\",\"2021-01-15\",\"2021-01-16\",\"2021-01-17\",\"2021-01-18\",\"2021-01-19\",\"2021-01-20\",\"2021-01-21\",\"2021-01-22\",\"2021-01-23\",\"2021-01-24\",\"2021-01-25\",\"2021-01-26\",\"2021-01-27\",\"2021-01-28\",\"2021-01-29\",\"2021-01-30\",\"2021-01-31\",\"2021-02-01\",\"2021-02-02\",\"2021-02-03\",\"2021-02-04\",\"2021-02-05\",\"2021-02-06\",\"2021-02-07\",\"2021-02-08\",\"2021-02-09\",\"2021-02-10\",\"2021-02-11\",\"2021-02-12\",\"2021-02-13\",\"2021-02-14\",\"2021-02-15\",\"2021-02-16\",\"2021-02-17\",\"2021-02-18\",\"2021-02-19\",\"2021-02-20\",\"2021-02-21\",\"2021-02-22\",\"2021-02-23\",\"2021-02-24\",\"2021-02-25\",\"2021-02-26\",\"2021-02-27\",\"2021-02-28\",\"2021-03-01\",\"2021-03-02\",\"2021-03-03\",\"2021-03-04\",\"2021-03-05\",\"2021-03-06\",\"2021-03-07\",\"2021-03-08\",\"2021-03-09\",\"2021-03-10\",\"2021-03-11\",\"2021-03-12\",\"2021-03-13\",\"2021-03-14\",\"2021-03-15\",\"2021-03-16\",\"2021-03-17\",\"2021-03-18\",\"2021-03-19\",\"2021-03-20\",\"2021-03-21\",\"2021-03-22\",\"2021-03-23\",\"2021-03-24\",\"2021-03-25\",\"2021-03-26\",\"2021-03-27\",\"2021-03-28\",\"2021-03-29\",\"2021-03-30\",\"2021-03-31\",\"2021-04-01\",\"2021-04-02\",\"2021-04-03\",\"2021-04-04\",\"2021-04-05\",\"2021-04-06\",\"2021-04-07\",\"2021-04-08\",\"2021-04-09\",\"2021-04-10\",\"2021-04-11\",\"2021-04-12\",\"2021-04-13\",\"2021-04-14\",\"2021-04-15\",\"2021-04-16\",\"2021-04-17\",\"2021-04-18\",\"2021-04-19\",\"2021-04-20\",\"2021-04-21\",\"2021-04-22\",\"2021-04-23\",\"2021-04-24\",\"2021-04-25\",\"2021-04-26\",\"2021-04-27\",\"2021-04-28\",\"2021-04-29\",\"2021-04-30\",\"2021-05-01\",\"2021-05-02\",\"2021-05-03\",\"2021-05-04\",\"2021-05-05\",\"2021-05-06\",\"2021-05-07\",\"2021-05-08\",\"2021-05-09\",\"2021-05-10\",\"2021-05-11\",\"2021-05-12\",\"2021-05-13\",\"2021-05-14\",\"2021-05-15\",\"2021-05-16\",\"2021-05-17\",\"2021-05-18\",\"2021-05-19\",\"2021-05-20\",\"2021-05-21\",\"2021-05-22\",\"2021-05-23\",\"2021-05-24\",\"2021-05-25\",\"2021-05-26\",\"2021-05-27\",\"2021-05-28\",\"2021-05-29\",\"2021-05-30\",\"2021-05-31\",\"2021-06-01\",\"2021-06-02\",\"2021-06-03\",\"2021-06-04\",\"2021-06-05\",\"2021-06-06\",\"2021-06-07\",\"2021-06-08\",\"2021-06-09\",\"2021-06-10\",\"2021-06-11\",\"2021-06-12\",\"2021-06-13\",\"2021-06-14\",\"2021-06-15\",\"2021-06-16\",\"2021-06-17\",\"2021-06-18\",\"2021-06-19\",\"2021-06-20\",\"2021-06-21\",\"2021-06-22\",\"2021-06-23\",\"2021-06-24\",\"2021-06-25\",\"2021-06-26\",\"2021-06-27\",\"2021-06-28\",\"2021-06-29\",\"2021-06-30\",\"2021-07-01\",\"2021-07-02\",\"2021-07-03\",\"2021-07-04\",\"2021-07-05\",\"2021-07-06\",\"2021-07-07\",\"2021-07-08\",\"2021-07-09\",\"2021-07-10\",\"2021-07-11\",\"2021-07-12\",\"2021-07-13\",\"2021-07-14\",\"2021-07-15\",\"2021-07-16\",\"2021-07-17\",\"2021-07-18\",\"2021-07-19\",\"2021-07-20\",\"2021-07-21\",\"2021-07-22\",\"2021-07-23\",\"2021-07-24\",\"2021-07-25\",\"2021-07-26\",\"2021-07-27\",\"2021-07-28\",\"2021-07-29\",\"2021-07-30\",\"2021-07-31\",\"2021-08-01\",\"2021-08-02\",\"2021-08-03\",\"2021-08-04\",\"2021-08-05\",\"2021-08-06\",\"2021-08-07\",\"2021-08-08\",\"2021-08-09\",\"2021-08-10\",\"2021-08-11\",\"2021-08-12\",\"2021-08-13\",\"2021-08-14\",\"2021-08-15\",\"2021-08-16\",\"2021-08-17\",\"2021-08-18\",\"2021-08-19\",\"2021-08-20\",\"2021-08-21\",\"2021-08-22\",\"2021-08-23\",\"2021-08-24\",\"2021-08-25\",\"2021-08-26\",\"2021-08-27\",\"2021-08-28\",\"2021-08-29\",\"2021-08-30\",\"2021-08-31\"],\"xaxis\":\"x\",\"y\":[59,58,59,41,36,33,36,53,52,57,48,45,41,39,55,53,49,54,49,35,40,48,51,63,48,40,61,100,66,78,68,60,49,43,44,48,62,47,53,42,50,41,53,66,57,60,54,53,51,57,62,67,64,51,43,53,46,64,63,52,52,47,44,47,69,62,41,50,53,50,49,55,66,48,45,47,47,46,55,73,54,49,56,50,55,59,72,45,43,46,57,54,58,69,54,45,43,48,47,74,65,54,41,49,51,47,74,61,55,50,46,54,56,64,58,52,53,60,58,46,47,65,61,50,47,49,49,58,64,60,56,79,72,67,75,76,43,54,51,67,61,66,76,66,54,50,54,51,60,73,66,59,60,53,56,67,71,65,57,50,60,88,81,77,61,50,59,63,68,68,71,51,50,53,66,60,80,81,51,52,58,63,62,67,67,64,67,56,63,47,68,64,53,51,45,44,46,61,61,47,48,41,57,61,71,69,58,58,47,55,52,66,60,58,44,49,55,56,64,72,55,50,45,52,47,60,64,54,49,49,50,52,57,64,46,48,52,52,49,57,56,51,41],\"yaxis\":\"y\",\"type\":\"scatter\"}],                        {\"template\":{\"data\":{\"bar\":[{\"error_x\":{\"color\":\"#2a3f5f\"},\"error_y\":{\"color\":\"#2a3f5f\"},\"marker\":{\"line\":{\"color\":\"#E5ECF6\",\"width\":0.5},\"pattern\":{\"fillmode\":\"overlay\",\"size\":10,\"solidity\":0.2}},\"type\":\"bar\"}],\"barpolar\":[{\"marker\":{\"line\":{\"color\":\"#E5ECF6\",\"width\":0.5},\"pattern\":{\"fillmode\":\"overlay\",\"size\":10,\"solidity\":0.2}},\"type\":\"barpolar\"}],\"carpet\":[{\"aaxis\":{\"endlinecolor\":\"#2a3f5f\",\"gridcolor\":\"white\",\"linecolor\":\"white\",\"minorgridcolor\":\"white\",\"startlinecolor\":\"#2a3f5f\"},\"baxis\":{\"endlinecolor\":\"#2a3f5f\",\"gridcolor\":\"white\",\"linecolor\":\"white\",\"minorgridcolor\":\"white\",\"startlinecolor\":\"#2a3f5f\"},\"type\":\"carpet\"}],\"choropleth\":[{\"colorbar\":{\"outlinewidth\":0,\"ticks\":\"\"},\"type\":\"choropleth\"}],\"contour\":[{\"colorbar\":{\"outlinewidth\":0,\"ticks\":\"\"},\"colorscale\":[[0.0,\"#0d0887\"],[0.1111111111111111,\"#46039f\"],[0.2222222222222222,\"#7201a8\"],[0.3333333333333333,\"#9c179e\"],[0.4444444444444444,\"#bd3786\"],[0.5555555555555556,\"#d8576b\"],[0.6666666666666666,\"#ed7953\"],[0.7777777777777778,\"#fb9f3a\"],[0.8888888888888888,\"#fdca26\"],[1.0,\"#f0f921\"]],\"type\":\"contour\"}],\"contourcarpet\":[{\"colorbar\":{\"outlinewidth\":0,\"ticks\":\"\"},\"type\":\"contourcarpet\"}],\"heatmap\":[{\"colorbar\":{\"outlinewidth\":0,\"ticks\":\"\"},\"colorscale\":[[0.0,\"#0d0887\"],[0.1111111111111111,\"#46039f\"],[0.2222222222222222,\"#7201a8\"],[0.3333333333333333,\"#9c179e\"],[0.4444444444444444,\"#bd3786\"],[0.5555555555555556,\"#d8576b\"],[0.6666666666666666,\"#ed7953\"],[0.7777777777777778,\"#fb9f3a\"],[0.8888888888888888,\"#fdca26\"],[1.0,\"#f0f921\"]],\"type\":\"heatmap\"}],\"heatmapgl\":[{\"colorbar\":{\"outlinewidth\":0,\"ticks\":\"\"},\"colorscale\":[[0.0,\"#0d0887\"],[0.1111111111111111,\"#46039f\"],[0.2222222222222222,\"#7201a8\"],[0.3333333333333333,\"#9c179e\"],[0.4444444444444444,\"#bd3786\"],[0.5555555555555556,\"#d8576b\"],[0.6666666666666666,\"#ed7953\"],[0.7777777777777778,\"#fb9f3a\"],[0.8888888888888888,\"#fdca26\"],[1.0,\"#f0f921\"]],\"type\":\"heatmapgl\"}],\"histogram\":[{\"marker\":{\"pattern\":{\"fillmode\":\"overlay\",\"size\":10,\"solidity\":0.2}},\"type\":\"histogram\"}],\"histogram2d\":[{\"colorbar\":{\"outlinewidth\":0,\"ticks\":\"\"},\"colorscale\":[[0.0,\"#0d0887\"],[0.1111111111111111,\"#46039f\"],[0.2222222222222222,\"#7201a8\"],[0.3333333333333333,\"#9c179e\"],[0.4444444444444444,\"#bd3786\"],[0.5555555555555556,\"#d8576b\"],[0.6666666666666666,\"#ed7953\"],[0.7777777777777778,\"#fb9f3a\"],[0.8888888888888888,\"#fdca26\"],[1.0,\"#f0f921\"]],\"type\":\"histogram2d\"}],\"histogram2dcontour\":[{\"colorbar\":{\"outlinewidth\":0,\"ticks\":\"\"},\"colorscale\":[[0.0,\"#0d0887\"],[0.1111111111111111,\"#46039f\"],[0.2222222222222222,\"#7201a8\"],[0.3333333333333333,\"#9c179e\"],[0.4444444444444444,\"#bd3786\"],[0.5555555555555556,\"#d8576b\"],[0.6666666666666666,\"#ed7953\"],[0.7777777777777778,\"#fb9f3a\"],[0.8888888888888888,\"#fdca26\"],[1.0,\"#f0f921\"]],\"type\":\"histogram2dcontour\"}],\"mesh3d\":[{\"colorbar\":{\"outlinewidth\":0,\"ticks\":\"\"},\"type\":\"mesh3d\"}],\"parcoords\":[{\"line\":{\"colorbar\":{\"outlinewidth\":0,\"ticks\":\"\"}},\"type\":\"parcoords\"}],\"pie\":[{\"automargin\":true,\"type\":\"pie\"}],\"scatter\":[{\"marker\":{\"colorbar\":{\"outlinewidth\":0,\"ticks\":\"\"}},\"type\":\"scatter\"}],\"scatter3d\":[{\"line\":{\"colorbar\":{\"outlinewidth\":0,\"ticks\":\"\"}},\"marker\":{\"colorbar\":{\"outlinewidth\":0,\"ticks\":\"\"}},\"type\":\"scatter3d\"}],\"scattercarpet\":[{\"marker\":{\"colorbar\":{\"outlinewidth\":0,\"ticks\":\"\"}},\"type\":\"scattercarpet\"}],\"scattergeo\":[{\"marker\":{\"colorbar\":{\"outlinewidth\":0,\"ticks\":\"\"}},\"type\":\"scattergeo\"}],\"scattergl\":[{\"marker\":{\"colorbar\":{\"outlinewidth\":0,\"ticks\":\"\"}},\"type\":\"scattergl\"}],\"scattermapbox\":[{\"marker\":{\"colorbar\":{\"outlinewidth\":0,\"ticks\":\"\"}},\"type\":\"scattermapbox\"}],\"scatterpolar\":[{\"marker\":{\"colorbar\":{\"outlinewidth\":0,\"ticks\":\"\"}},\"type\":\"scatterpolar\"}],\"scatterpolargl\":[{\"marker\":{\"colorbar\":{\"outlinewidth\":0,\"ticks\":\"\"}},\"type\":\"scatterpolargl\"}],\"scatterternary\":[{\"marker\":{\"colorbar\":{\"outlinewidth\":0,\"ticks\":\"\"}},\"type\":\"scatterternary\"}],\"surface\":[{\"colorbar\":{\"outlinewidth\":0,\"ticks\":\"\"},\"colorscale\":[[0.0,\"#0d0887\"],[0.1111111111111111,\"#46039f\"],[0.2222222222222222,\"#7201a8\"],[0.3333333333333333,\"#9c179e\"],[0.4444444444444444,\"#bd3786\"],[0.5555555555555556,\"#d8576b\"],[0.6666666666666666,\"#ed7953\"],[0.7777777777777778,\"#fb9f3a\"],[0.8888888888888888,\"#fdca26\"],[1.0,\"#f0f921\"]],\"type\":\"surface\"}],\"table\":[{\"cells\":{\"fill\":{\"color\":\"#EBF0F8\"},\"line\":{\"color\":\"white\"}},\"header\":{\"fill\":{\"color\":\"#C8D4E3\"},\"line\":{\"color\":\"white\"}},\"type\":\"table\"}]},\"layout\":{\"annotationdefaults\":{\"arrowcolor\":\"#2a3f5f\",\"arrowhead\":0,\"arrowwidth\":1},\"autotypenumbers\":\"strict\",\"coloraxis\":{\"colorbar\":{\"outlinewidth\":0,\"ticks\":\"\"}},\"colorscale\":{\"diverging\":[[0,\"#8e0152\"],[0.1,\"#c51b7d\"],[0.2,\"#de77ae\"],[0.3,\"#f1b6da\"],[0.4,\"#fde0ef\"],[0.5,\"#f7f7f7\"],[0.6,\"#e6f5d0\"],[0.7,\"#b8e186\"],[0.8,\"#7fbc41\"],[0.9,\"#4d9221\"],[1,\"#276419\"]],\"sequential\":[[0.0,\"#0d0887\"],[0.1111111111111111,\"#46039f\"],[0.2222222222222222,\"#7201a8\"],[0.3333333333333333,\"#9c179e\"],[0.4444444444444444,\"#bd3786\"],[0.5555555555555556,\"#d8576b\"],[0.6666666666666666,\"#ed7953\"],[0.7777777777777778,\"#fb9f3a\"],[0.8888888888888888,\"#fdca26\"],[1.0,\"#f0f921\"]],\"sequentialminus\":[[0.0,\"#0d0887\"],[0.1111111111111111,\"#46039f\"],[0.2222222222222222,\"#7201a8\"],[0.3333333333333333,\"#9c179e\"],[0.4444444444444444,\"#bd3786\"],[0.5555555555555556,\"#d8576b\"],[0.6666666666666666,\"#ed7953\"],[0.7777777777777778,\"#fb9f3a\"],[0.8888888888888888,\"#fdca26\"],[1.0,\"#f0f921\"]]},\"colorway\":[\"#636efa\",\"#EF553B\",\"#00cc96\",\"#ab63fa\",\"#FFA15A\",\"#19d3f3\",\"#FF6692\",\"#B6E880\",\"#FF97FF\",\"#FECB52\"],\"font\":{\"color\":\"#2a3f5f\"},\"geo\":{\"bgcolor\":\"white\",\"lakecolor\":\"white\",\"landcolor\":\"#E5ECF6\",\"showlakes\":true,\"showland\":true,\"subunitcolor\":\"white\"},\"hoverlabel\":{\"align\":\"left\"},\"hovermode\":\"closest\",\"mapbox\":{\"style\":\"light\"},\"paper_bgcolor\":\"white\",\"plot_bgcolor\":\"#E5ECF6\",\"polar\":{\"angularaxis\":{\"gridcolor\":\"white\",\"linecolor\":\"white\",\"ticks\":\"\"},\"bgcolor\":\"#E5ECF6\",\"radialaxis\":{\"gridcolor\":\"white\",\"linecolor\":\"white\",\"ticks\":\"\"}},\"scene\":{\"xaxis\":{\"backgroundcolor\":\"#E5ECF6\",\"gridcolor\":\"white\",\"gridwidth\":2,\"linecolor\":\"white\",\"showbackground\":true,\"ticks\":\"\",\"zerolinecolor\":\"white\"},\"yaxis\":{\"backgroundcolor\":\"#E5ECF6\",\"gridcolor\":\"white\",\"gridwidth\":2,\"linecolor\":\"white\",\"showbackground\":true,\"ticks\":\"\",\"zerolinecolor\":\"white\"},\"zaxis\":{\"backgroundcolor\":\"#E5ECF6\",\"gridcolor\":\"white\",\"gridwidth\":2,\"linecolor\":\"white\",\"showbackground\":true,\"ticks\":\"\",\"zerolinecolor\":\"white\"}},\"shapedefaults\":{\"line\":{\"color\":\"#2a3f5f\"}},\"ternary\":{\"aaxis\":{\"gridcolor\":\"white\",\"linecolor\":\"white\",\"ticks\":\"\"},\"baxis\":{\"gridcolor\":\"white\",\"linecolor\":\"white\",\"ticks\":\"\"},\"bgcolor\":\"#E5ECF6\",\"caxis\":{\"gridcolor\":\"white\",\"linecolor\":\"white\",\"ticks\":\"\"}},\"title\":{\"x\":0.05},\"xaxis\":{\"automargin\":true,\"gridcolor\":\"white\",\"linecolor\":\"white\",\"ticks\":\"\",\"title\":{\"standoff\":15},\"zerolinecolor\":\"white\",\"zerolinewidth\":2},\"yaxis\":{\"automargin\":true,\"gridcolor\":\"white\",\"linecolor\":\"white\",\"ticks\":\"\",\"title\":{\"standoff\":15},\"zerolinecolor\":\"white\",\"zerolinewidth\":2}}},\"xaxis\":{\"anchor\":\"y\",\"domain\":[0.0,1.0],\"title\":{\"text\":\"Day\"}},\"yaxis\":{\"anchor\":\"x\",\"domain\":[0.0,1.0],\"title\":{\"text\":\"Tesla: (United States)\"}},\"legend\":{\"tracegroupgap\":0},\"title\":{\"text\":\"Tesla Google Trends\"}},                        {\"responsive\": true}                    ).then(function(){\n",
       "                            \n",
       "var gd = document.getElementById('02be489a-db8a-48ed-8d96-7cc710b1f00d');\n",
       "var x = new MutationObserver(function (mutations, observer) {{\n",
       "        var display = window.getComputedStyle(gd).display;\n",
       "        if (!display || display === 'none') {{\n",
       "            console.log([gd, 'removed!']);\n",
       "            Plotly.purge(gd);\n",
       "            observer.disconnect();\n",
       "        }}\n",
       "}});\n",
       "\n",
       "// Listen for the removal of the full notebook cells\n",
       "var notebookContainer = gd.closest('#notebook-container');\n",
       "if (notebookContainer) {{\n",
       "    x.observe(notebookContainer, {childList: true});\n",
       "}}\n",
       "\n",
       "// Listen for the clearing of the current output cell\n",
       "var outputEl = gd.closest('.output');\n",
       "if (outputEl) {{\n",
       "    x.observe(outputEl, {childList: true});\n",
       "}}\n",
       "\n",
       "                        })                };                });            </script>        </div>"
      ]
     },
     "metadata": {},
     "output_type": "display_data"
    }
   ],
   "source": [
    "tesla_trend_chart_line = px.line(\n",
    "    tesla_trends,\n",
    "    x=\"Day\",\n",
    "    y=\"Tesla: (United States)\",\n",
    "    title=\"Tesla Google Trends\",\n",
    ")\n",
    "tesla_trend_chart_line"
   ]
  },
  {
   "cell_type": "code",
   "execution_count": 45,
   "id": "97d78d53",
   "metadata": {},
   "outputs": [
    {
     "data": {
      "application/vnd.plotly.v1+json": {
       "config": {
        "plotlyServerURL": "https://plot.ly"
       },
       "data": [
        {
         "alignmentgroup": "True",
         "hovertemplate": "Day=%{x}<br>Tesla: (United States)=%{y}<extra></extra>",
         "legendgroup": "",
         "marker": {
          "color": "#636efa",
          "pattern": {
           "shape": ""
          }
         },
         "name": "",
         "offsetgroup": "",
         "orientation": "v",
         "showlegend": false,
         "textposition": "auto",
         "type": "bar",
         "x": [
          "2021-01-01",
          "2021-01-02",
          "2021-01-03",
          "2021-01-04",
          "2021-01-05",
          "2021-01-06",
          "2021-01-07",
          "2021-01-08",
          "2021-01-09",
          "2021-01-10",
          "2021-01-11",
          "2021-01-12",
          "2021-01-13",
          "2021-01-14",
          "2021-01-15",
          "2021-01-16",
          "2021-01-17",
          "2021-01-18",
          "2021-01-19",
          "2021-01-20",
          "2021-01-21",
          "2021-01-22",
          "2021-01-23",
          "2021-01-24",
          "2021-01-25",
          "2021-01-26",
          "2021-01-27",
          "2021-01-28",
          "2021-01-29",
          "2021-01-30",
          "2021-01-31",
          "2021-02-01",
          "2021-02-02",
          "2021-02-03",
          "2021-02-04",
          "2021-02-05",
          "2021-02-06",
          "2021-02-07",
          "2021-02-08",
          "2021-02-09",
          "2021-02-10",
          "2021-02-11",
          "2021-02-12",
          "2021-02-13",
          "2021-02-14",
          "2021-02-15",
          "2021-02-16",
          "2021-02-17",
          "2021-02-18",
          "2021-02-19",
          "2021-02-20",
          "2021-02-21",
          "2021-02-22",
          "2021-02-23",
          "2021-02-24",
          "2021-02-25",
          "2021-02-26",
          "2021-02-27",
          "2021-02-28",
          "2021-03-01",
          "2021-03-02",
          "2021-03-03",
          "2021-03-04",
          "2021-03-05",
          "2021-03-06",
          "2021-03-07",
          "2021-03-08",
          "2021-03-09",
          "2021-03-10",
          "2021-03-11",
          "2021-03-12",
          "2021-03-13",
          "2021-03-14",
          "2021-03-15",
          "2021-03-16",
          "2021-03-17",
          "2021-03-18",
          "2021-03-19",
          "2021-03-20",
          "2021-03-21",
          "2021-03-22",
          "2021-03-23",
          "2021-03-24",
          "2021-03-25",
          "2021-03-26",
          "2021-03-27",
          "2021-03-28",
          "2021-03-29",
          "2021-03-30",
          "2021-03-31",
          "2021-04-01",
          "2021-04-02",
          "2021-04-03",
          "2021-04-04",
          "2021-04-05",
          "2021-04-06",
          "2021-04-07",
          "2021-04-08",
          "2021-04-09",
          "2021-04-10",
          "2021-04-11",
          "2021-04-12",
          "2021-04-13",
          "2021-04-14",
          "2021-04-15",
          "2021-04-16",
          "2021-04-17",
          "2021-04-18",
          "2021-04-19",
          "2021-04-20",
          "2021-04-21",
          "2021-04-22",
          "2021-04-23",
          "2021-04-24",
          "2021-04-25",
          "2021-04-26",
          "2021-04-27",
          "2021-04-28",
          "2021-04-29",
          "2021-04-30",
          "2021-05-01",
          "2021-05-02",
          "2021-05-03",
          "2021-05-04",
          "2021-05-05",
          "2021-05-06",
          "2021-05-07",
          "2021-05-08",
          "2021-05-09",
          "2021-05-10",
          "2021-05-11",
          "2021-05-12",
          "2021-05-13",
          "2021-05-14",
          "2021-05-15",
          "2021-05-16",
          "2021-05-17",
          "2021-05-18",
          "2021-05-19",
          "2021-05-20",
          "2021-05-21",
          "2021-05-22",
          "2021-05-23",
          "2021-05-24",
          "2021-05-25",
          "2021-05-26",
          "2021-05-27",
          "2021-05-28",
          "2021-05-29",
          "2021-05-30",
          "2021-05-31",
          "2021-06-01",
          "2021-06-02",
          "2021-06-03",
          "2021-06-04",
          "2021-06-05",
          "2021-06-06",
          "2021-06-07",
          "2021-06-08",
          "2021-06-09",
          "2021-06-10",
          "2021-06-11",
          "2021-06-12",
          "2021-06-13",
          "2021-06-14",
          "2021-06-15",
          "2021-06-16",
          "2021-06-17",
          "2021-06-18",
          "2021-06-19",
          "2021-06-20",
          "2021-06-21",
          "2021-06-22",
          "2021-06-23",
          "2021-06-24",
          "2021-06-25",
          "2021-06-26",
          "2021-06-27",
          "2021-06-28",
          "2021-06-29",
          "2021-06-30",
          "2021-07-01",
          "2021-07-02",
          "2021-07-03",
          "2021-07-04",
          "2021-07-05",
          "2021-07-06",
          "2021-07-07",
          "2021-07-08",
          "2021-07-09",
          "2021-07-10",
          "2021-07-11",
          "2021-07-12",
          "2021-07-13",
          "2021-07-14",
          "2021-07-15",
          "2021-07-16",
          "2021-07-17",
          "2021-07-18",
          "2021-07-19",
          "2021-07-20",
          "2021-07-21",
          "2021-07-22",
          "2021-07-23",
          "2021-07-24",
          "2021-07-25",
          "2021-07-26",
          "2021-07-27",
          "2021-07-28",
          "2021-07-29",
          "2021-07-30",
          "2021-07-31",
          "2021-08-01",
          "2021-08-02",
          "2021-08-03",
          "2021-08-04",
          "2021-08-05",
          "2021-08-06",
          "2021-08-07",
          "2021-08-08",
          "2021-08-09",
          "2021-08-10",
          "2021-08-11",
          "2021-08-12",
          "2021-08-13",
          "2021-08-14",
          "2021-08-15",
          "2021-08-16",
          "2021-08-17",
          "2021-08-18",
          "2021-08-19",
          "2021-08-20",
          "2021-08-21",
          "2021-08-22",
          "2021-08-23",
          "2021-08-24",
          "2021-08-25",
          "2021-08-26",
          "2021-08-27",
          "2021-08-28",
          "2021-08-29",
          "2021-08-30",
          "2021-08-31"
         ],
         "xaxis": "x",
         "y": [
          59,
          58,
          59,
          41,
          36,
          33,
          36,
          53,
          52,
          57,
          48,
          45,
          41,
          39,
          55,
          53,
          49,
          54,
          49,
          35,
          40,
          48,
          51,
          63,
          48,
          40,
          61,
          100,
          66,
          78,
          68,
          60,
          49,
          43,
          44,
          48,
          62,
          47,
          53,
          42,
          50,
          41,
          53,
          66,
          57,
          60,
          54,
          53,
          51,
          57,
          62,
          67,
          64,
          51,
          43,
          53,
          46,
          64,
          63,
          52,
          52,
          47,
          44,
          47,
          69,
          62,
          41,
          50,
          53,
          50,
          49,
          55,
          66,
          48,
          45,
          47,
          47,
          46,
          55,
          73,
          54,
          49,
          56,
          50,
          55,
          59,
          72,
          45,
          43,
          46,
          57,
          54,
          58,
          69,
          54,
          45,
          43,
          48,
          47,
          74,
          65,
          54,
          41,
          49,
          51,
          47,
          74,
          61,
          55,
          50,
          46,
          54,
          56,
          64,
          58,
          52,
          53,
          60,
          58,
          46,
          47,
          65,
          61,
          50,
          47,
          49,
          49,
          58,
          64,
          60,
          56,
          79,
          72,
          67,
          75,
          76,
          43,
          54,
          51,
          67,
          61,
          66,
          76,
          66,
          54,
          50,
          54,
          51,
          60,
          73,
          66,
          59,
          60,
          53,
          56,
          67,
          71,
          65,
          57,
          50,
          60,
          88,
          81,
          77,
          61,
          50,
          59,
          63,
          68,
          68,
          71,
          51,
          50,
          53,
          66,
          60,
          80,
          81,
          51,
          52,
          58,
          63,
          62,
          67,
          67,
          64,
          67,
          56,
          63,
          47,
          68,
          64,
          53,
          51,
          45,
          44,
          46,
          61,
          61,
          47,
          48,
          41,
          57,
          61,
          71,
          69,
          58,
          58,
          47,
          55,
          52,
          66,
          60,
          58,
          44,
          49,
          55,
          56,
          64,
          72,
          55,
          50,
          45,
          52,
          47,
          60,
          64,
          54,
          49,
          49,
          50,
          52,
          57,
          64,
          46,
          48,
          52,
          52,
          49,
          57,
          56,
          51,
          41
         ],
         "yaxis": "y"
        }
       ],
       "layout": {
        "autosize": true,
        "barmode": "relative",
        "legend": {
         "tracegroupgap": 0
        },
        "template": {
         "data": {
          "bar": [
           {
            "error_x": {
             "color": "#2a3f5f"
            },
            "error_y": {
             "color": "#2a3f5f"
            },
            "marker": {
             "line": {
              "color": "#E5ECF6",
              "width": 0.5
             },
             "pattern": {
              "fillmode": "overlay",
              "size": 10,
              "solidity": 0.2
             }
            },
            "type": "bar"
           }
          ],
          "barpolar": [
           {
            "marker": {
             "line": {
              "color": "#E5ECF6",
              "width": 0.5
             },
             "pattern": {
              "fillmode": "overlay",
              "size": 10,
              "solidity": 0.2
             }
            },
            "type": "barpolar"
           }
          ],
          "carpet": [
           {
            "aaxis": {
             "endlinecolor": "#2a3f5f",
             "gridcolor": "white",
             "linecolor": "white",
             "minorgridcolor": "white",
             "startlinecolor": "#2a3f5f"
            },
            "baxis": {
             "endlinecolor": "#2a3f5f",
             "gridcolor": "white",
             "linecolor": "white",
             "minorgridcolor": "white",
             "startlinecolor": "#2a3f5f"
            },
            "type": "carpet"
           }
          ],
          "choropleth": [
           {
            "colorbar": {
             "outlinewidth": 0,
             "ticks": ""
            },
            "type": "choropleth"
           }
          ],
          "contour": [
           {
            "colorbar": {
             "outlinewidth": 0,
             "ticks": ""
            },
            "colorscale": [
             [
              0,
              "#0d0887"
             ],
             [
              0.1111111111111111,
              "#46039f"
             ],
             [
              0.2222222222222222,
              "#7201a8"
             ],
             [
              0.3333333333333333,
              "#9c179e"
             ],
             [
              0.4444444444444444,
              "#bd3786"
             ],
             [
              0.5555555555555556,
              "#d8576b"
             ],
             [
              0.6666666666666666,
              "#ed7953"
             ],
             [
              0.7777777777777778,
              "#fb9f3a"
             ],
             [
              0.8888888888888888,
              "#fdca26"
             ],
             [
              1,
              "#f0f921"
             ]
            ],
            "type": "contour"
           }
          ],
          "contourcarpet": [
           {
            "colorbar": {
             "outlinewidth": 0,
             "ticks": ""
            },
            "type": "contourcarpet"
           }
          ],
          "heatmap": [
           {
            "colorbar": {
             "outlinewidth": 0,
             "ticks": ""
            },
            "colorscale": [
             [
              0,
              "#0d0887"
             ],
             [
              0.1111111111111111,
              "#46039f"
             ],
             [
              0.2222222222222222,
              "#7201a8"
             ],
             [
              0.3333333333333333,
              "#9c179e"
             ],
             [
              0.4444444444444444,
              "#bd3786"
             ],
             [
              0.5555555555555556,
              "#d8576b"
             ],
             [
              0.6666666666666666,
              "#ed7953"
             ],
             [
              0.7777777777777778,
              "#fb9f3a"
             ],
             [
              0.8888888888888888,
              "#fdca26"
             ],
             [
              1,
              "#f0f921"
             ]
            ],
            "type": "heatmap"
           }
          ],
          "heatmapgl": [
           {
            "colorbar": {
             "outlinewidth": 0,
             "ticks": ""
            },
            "colorscale": [
             [
              0,
              "#0d0887"
             ],
             [
              0.1111111111111111,
              "#46039f"
             ],
             [
              0.2222222222222222,
              "#7201a8"
             ],
             [
              0.3333333333333333,
              "#9c179e"
             ],
             [
              0.4444444444444444,
              "#bd3786"
             ],
             [
              0.5555555555555556,
              "#d8576b"
             ],
             [
              0.6666666666666666,
              "#ed7953"
             ],
             [
              0.7777777777777778,
              "#fb9f3a"
             ],
             [
              0.8888888888888888,
              "#fdca26"
             ],
             [
              1,
              "#f0f921"
             ]
            ],
            "type": "heatmapgl"
           }
          ],
          "histogram": [
           {
            "marker": {
             "pattern": {
              "fillmode": "overlay",
              "size": 10,
              "solidity": 0.2
             }
            },
            "type": "histogram"
           }
          ],
          "histogram2d": [
           {
            "colorbar": {
             "outlinewidth": 0,
             "ticks": ""
            },
            "colorscale": [
             [
              0,
              "#0d0887"
             ],
             [
              0.1111111111111111,
              "#46039f"
             ],
             [
              0.2222222222222222,
              "#7201a8"
             ],
             [
              0.3333333333333333,
              "#9c179e"
             ],
             [
              0.4444444444444444,
              "#bd3786"
             ],
             [
              0.5555555555555556,
              "#d8576b"
             ],
             [
              0.6666666666666666,
              "#ed7953"
             ],
             [
              0.7777777777777778,
              "#fb9f3a"
             ],
             [
              0.8888888888888888,
              "#fdca26"
             ],
             [
              1,
              "#f0f921"
             ]
            ],
            "type": "histogram2d"
           }
          ],
          "histogram2dcontour": [
           {
            "colorbar": {
             "outlinewidth": 0,
             "ticks": ""
            },
            "colorscale": [
             [
              0,
              "#0d0887"
             ],
             [
              0.1111111111111111,
              "#46039f"
             ],
             [
              0.2222222222222222,
              "#7201a8"
             ],
             [
              0.3333333333333333,
              "#9c179e"
             ],
             [
              0.4444444444444444,
              "#bd3786"
             ],
             [
              0.5555555555555556,
              "#d8576b"
             ],
             [
              0.6666666666666666,
              "#ed7953"
             ],
             [
              0.7777777777777778,
              "#fb9f3a"
             ],
             [
              0.8888888888888888,
              "#fdca26"
             ],
             [
              1,
              "#f0f921"
             ]
            ],
            "type": "histogram2dcontour"
           }
          ],
          "mesh3d": [
           {
            "colorbar": {
             "outlinewidth": 0,
             "ticks": ""
            },
            "type": "mesh3d"
           }
          ],
          "parcoords": [
           {
            "line": {
             "colorbar": {
              "outlinewidth": 0,
              "ticks": ""
             }
            },
            "type": "parcoords"
           }
          ],
          "pie": [
           {
            "automargin": true,
            "type": "pie"
           }
          ],
          "scatter": [
           {
            "marker": {
             "colorbar": {
              "outlinewidth": 0,
              "ticks": ""
             }
            },
            "type": "scatter"
           }
          ],
          "scatter3d": [
           {
            "line": {
             "colorbar": {
              "outlinewidth": 0,
              "ticks": ""
             }
            },
            "marker": {
             "colorbar": {
              "outlinewidth": 0,
              "ticks": ""
             }
            },
            "type": "scatter3d"
           }
          ],
          "scattercarpet": [
           {
            "marker": {
             "colorbar": {
              "outlinewidth": 0,
              "ticks": ""
             }
            },
            "type": "scattercarpet"
           }
          ],
          "scattergeo": [
           {
            "marker": {
             "colorbar": {
              "outlinewidth": 0,
              "ticks": ""
             }
            },
            "type": "scattergeo"
           }
          ],
          "scattergl": [
           {
            "marker": {
             "colorbar": {
              "outlinewidth": 0,
              "ticks": ""
             }
            },
            "type": "scattergl"
           }
          ],
          "scattermapbox": [
           {
            "marker": {
             "colorbar": {
              "outlinewidth": 0,
              "ticks": ""
             }
            },
            "type": "scattermapbox"
           }
          ],
          "scatterpolar": [
           {
            "marker": {
             "colorbar": {
              "outlinewidth": 0,
              "ticks": ""
             }
            },
            "type": "scatterpolar"
           }
          ],
          "scatterpolargl": [
           {
            "marker": {
             "colorbar": {
              "outlinewidth": 0,
              "ticks": ""
             }
            },
            "type": "scatterpolargl"
           }
          ],
          "scatterternary": [
           {
            "marker": {
             "colorbar": {
              "outlinewidth": 0,
              "ticks": ""
             }
            },
            "type": "scatterternary"
           }
          ],
          "surface": [
           {
            "colorbar": {
             "outlinewidth": 0,
             "ticks": ""
            },
            "colorscale": [
             [
              0,
              "#0d0887"
             ],
             [
              0.1111111111111111,
              "#46039f"
             ],
             [
              0.2222222222222222,
              "#7201a8"
             ],
             [
              0.3333333333333333,
              "#9c179e"
             ],
             [
              0.4444444444444444,
              "#bd3786"
             ],
             [
              0.5555555555555556,
              "#d8576b"
             ],
             [
              0.6666666666666666,
              "#ed7953"
             ],
             [
              0.7777777777777778,
              "#fb9f3a"
             ],
             [
              0.8888888888888888,
              "#fdca26"
             ],
             [
              1,
              "#f0f921"
             ]
            ],
            "type": "surface"
           }
          ],
          "table": [
           {
            "cells": {
             "fill": {
              "color": "#EBF0F8"
             },
             "line": {
              "color": "white"
             }
            },
            "header": {
             "fill": {
              "color": "#C8D4E3"
             },
             "line": {
              "color": "white"
             }
            },
            "type": "table"
           }
          ]
         },
         "layout": {
          "annotationdefaults": {
           "arrowcolor": "#2a3f5f",
           "arrowhead": 0,
           "arrowwidth": 1
          },
          "autotypenumbers": "strict",
          "coloraxis": {
           "colorbar": {
            "outlinewidth": 0,
            "ticks": ""
           }
          },
          "colorscale": {
           "diverging": [
            [
             0,
             "#8e0152"
            ],
            [
             0.1,
             "#c51b7d"
            ],
            [
             0.2,
             "#de77ae"
            ],
            [
             0.3,
             "#f1b6da"
            ],
            [
             0.4,
             "#fde0ef"
            ],
            [
             0.5,
             "#f7f7f7"
            ],
            [
             0.6,
             "#e6f5d0"
            ],
            [
             0.7,
             "#b8e186"
            ],
            [
             0.8,
             "#7fbc41"
            ],
            [
             0.9,
             "#4d9221"
            ],
            [
             1,
             "#276419"
            ]
           ],
           "sequential": [
            [
             0,
             "#0d0887"
            ],
            [
             0.1111111111111111,
             "#46039f"
            ],
            [
             0.2222222222222222,
             "#7201a8"
            ],
            [
             0.3333333333333333,
             "#9c179e"
            ],
            [
             0.4444444444444444,
             "#bd3786"
            ],
            [
             0.5555555555555556,
             "#d8576b"
            ],
            [
             0.6666666666666666,
             "#ed7953"
            ],
            [
             0.7777777777777778,
             "#fb9f3a"
            ],
            [
             0.8888888888888888,
             "#fdca26"
            ],
            [
             1,
             "#f0f921"
            ]
           ],
           "sequentialminus": [
            [
             0,
             "#0d0887"
            ],
            [
             0.1111111111111111,
             "#46039f"
            ],
            [
             0.2222222222222222,
             "#7201a8"
            ],
            [
             0.3333333333333333,
             "#9c179e"
            ],
            [
             0.4444444444444444,
             "#bd3786"
            ],
            [
             0.5555555555555556,
             "#d8576b"
            ],
            [
             0.6666666666666666,
             "#ed7953"
            ],
            [
             0.7777777777777778,
             "#fb9f3a"
            ],
            [
             0.8888888888888888,
             "#fdca26"
            ],
            [
             1,
             "#f0f921"
            ]
           ]
          },
          "colorway": [
           "#636efa",
           "#EF553B",
           "#00cc96",
           "#ab63fa",
           "#FFA15A",
           "#19d3f3",
           "#FF6692",
           "#B6E880",
           "#FF97FF",
           "#FECB52"
          ],
          "font": {
           "color": "#2a3f5f"
          },
          "geo": {
           "bgcolor": "white",
           "lakecolor": "white",
           "landcolor": "#E5ECF6",
           "showlakes": true,
           "showland": true,
           "subunitcolor": "white"
          },
          "hoverlabel": {
           "align": "left"
          },
          "hovermode": "closest",
          "mapbox": {
           "style": "light"
          },
          "paper_bgcolor": "white",
          "plot_bgcolor": "#E5ECF6",
          "polar": {
           "angularaxis": {
            "gridcolor": "white",
            "linecolor": "white",
            "ticks": ""
           },
           "bgcolor": "#E5ECF6",
           "radialaxis": {
            "gridcolor": "white",
            "linecolor": "white",
            "ticks": ""
           }
          },
          "scene": {
           "xaxis": {
            "backgroundcolor": "#E5ECF6",
            "gridcolor": "white",
            "gridwidth": 2,
            "linecolor": "white",
            "showbackground": true,
            "ticks": "",
            "zerolinecolor": "white"
           },
           "yaxis": {
            "backgroundcolor": "#E5ECF6",
            "gridcolor": "white",
            "gridwidth": 2,
            "linecolor": "white",
            "showbackground": true,
            "ticks": "",
            "zerolinecolor": "white"
           },
           "zaxis": {
            "backgroundcolor": "#E5ECF6",
            "gridcolor": "white",
            "gridwidth": 2,
            "linecolor": "white",
            "showbackground": true,
            "ticks": "",
            "zerolinecolor": "white"
           }
          },
          "shapedefaults": {
           "line": {
            "color": "#2a3f5f"
           }
          },
          "ternary": {
           "aaxis": {
            "gridcolor": "white",
            "linecolor": "white",
            "ticks": ""
           },
           "baxis": {
            "gridcolor": "white",
            "linecolor": "white",
            "ticks": ""
           },
           "bgcolor": "#E5ECF6",
           "caxis": {
            "gridcolor": "white",
            "linecolor": "white",
            "ticks": ""
           }
          },
          "title": {
           "x": 0.05
          },
          "xaxis": {
           "automargin": true,
           "gridcolor": "white",
           "linecolor": "white",
           "ticks": "",
           "title": {
            "standoff": 15
           },
           "zerolinecolor": "white",
           "zerolinewidth": 2
          },
          "yaxis": {
           "automargin": true,
           "gridcolor": "white",
           "linecolor": "white",
           "ticks": "",
           "title": {
            "standoff": 15
           },
           "zerolinecolor": "white",
           "zerolinewidth": 2
          }
         }
        },
        "title": {
         "text": "Tesla Google Trends"
        },
        "xaxis": {
         "anchor": "y",
         "autorange": true,
         "domain": [
          0,
          1
         ],
         "range": [
          "2020-12-31 12:00",
          "2021-08-31 12:00"
         ],
         "title": {
          "text": "Day"
         },
         "type": "date"
        },
        "yaxis": {
         "anchor": "x",
         "autorange": true,
         "domain": [
          0,
          1
         ],
         "range": [
          0,
          105.26315789473684
         ],
         "title": {
          "text": "Tesla: (United States)"
         },
         "type": "linear"
        }
       }
      },
      "image/png": "[encoded data removed]",
      "text/html": [
       "<div>                            <div id=\"0cbbf200-7528-473a-a347-9395369ce5b5\" class=\"plotly-graph-div\" style=\"height:525px; width:100%;\"></div>            <script type=\"text/javascript\">                require([\"plotly\"], function(Plotly) {                    window.PLOTLYENV=window.PLOTLYENV || {};                                    if (document.getElementById(\"0cbbf200-7528-473a-a347-9395369ce5b5\")) {                    Plotly.newPlot(                        \"0cbbf200-7528-473a-a347-9395369ce5b5\",                        [{\"alignmentgroup\":\"True\",\"hovertemplate\":\"Day=%{x}<br>Tesla: (United States)=%{y}<extra></extra>\",\"legendgroup\":\"\",\"marker\":{\"color\":\"#636efa\",\"pattern\":{\"shape\":\"\"}},\"name\":\"\",\"offsetgroup\":\"\",\"orientation\":\"v\",\"showlegend\":false,\"textposition\":\"auto\",\"x\":[\"2021-01-01\",\"2021-01-02\",\"2021-01-03\",\"2021-01-04\",\"2021-01-05\",\"2021-01-06\",\"2021-01-07\",\"2021-01-08\",\"2021-01-09\",\"2021-01-10\",\"2021-01-11\",\"2021-01-12\",\"2021-01-13\",\"2021-01-14\",\"2021-01-15\",\"2021-01-16\",\"2021-01-17\",\"2021-01-18\",\"2021-01-19\",\"2021-01-20\",\"2021-01-21\",\"2021-01-22\",\"2021-01-23\",\"2021-01-24\",\"2021-01-25\",\"2021-01-26\",\"2021-01-27\",\"2021-01-28\",\"2021-01-29\",\"2021-01-30\",\"2021-01-31\",\"2021-02-01\",\"2021-02-02\",\"2021-02-03\",\"2021-02-04\",\"2021-02-05\",\"2021-02-06\",\"2021-02-07\",\"2021-02-08\",\"2021-02-09\",\"2021-02-10\",\"2021-02-11\",\"2021-02-12\",\"2021-02-13\",\"2021-02-14\",\"2021-02-15\",\"2021-02-16\",\"2021-02-17\",\"2021-02-18\",\"2021-02-19\",\"2021-02-20\",\"2021-02-21\",\"2021-02-22\",\"2021-02-23\",\"2021-02-24\",\"2021-02-25\",\"2021-02-26\",\"2021-02-27\",\"2021-02-28\",\"2021-03-01\",\"2021-03-02\",\"2021-03-03\",\"2021-03-04\",\"2021-03-05\",\"2021-03-06\",\"2021-03-07\",\"2021-03-08\",\"2021-03-09\",\"2021-03-10\",\"2021-03-11\",\"2021-03-12\",\"2021-03-13\",\"2021-03-14\",\"2021-03-15\",\"2021-03-16\",\"2021-03-17\",\"2021-03-18\",\"2021-03-19\",\"2021-03-20\",\"2021-03-21\",\"2021-03-22\",\"2021-03-23\",\"2021-03-24\",\"2021-03-25\",\"2021-03-26\",\"2021-03-27\",\"2021-03-28\",\"2021-03-29\",\"2021-03-30\",\"2021-03-31\",\"2021-04-01\",\"2021-04-02\",\"2021-04-03\",\"2021-04-04\",\"2021-04-05\",\"2021-04-06\",\"2021-04-07\",\"2021-04-08\",\"2021-04-09\",\"2021-04-10\",\"2021-04-11\",\"2021-04-12\",\"2021-04-13\",\"2021-04-14\",\"2021-04-15\",\"2021-04-16\",\"2021-04-17\",\"2021-04-18\",\"2021-04-19\",\"2021-04-20\",\"2021-04-21\",\"2021-04-22\",\"2021-04-23\",\"2021-04-24\",\"2021-04-25\",\"2021-04-26\",\"2021-04-27\",\"2021-04-28\",\"2021-04-29\",\"2021-04-30\",\"2021-05-01\",\"2021-05-02\",\"2021-05-03\",\"2021-05-04\",\"2021-05-05\",\"2021-05-06\",\"2021-05-07\",\"2021-05-08\",\"2021-05-09\",\"2021-05-10\",\"2021-05-11\",\"2021-05-12\",\"2021-05-13\",\"2021-05-14\",\"2021-05-15\",\"2021-05-16\",\"2021-05-17\",\"2021-05-18\",\"2021-05-19\",\"2021-05-20\",\"2021-05-21\",\"2021-05-22\",\"2021-05-23\",\"2021-05-24\",\"2021-05-25\",\"2021-05-26\",\"2021-05-27\",\"2021-05-28\",\"2021-05-29\",\"2021-05-30\",\"2021-05-31\",\"2021-06-01\",\"2021-06-02\",\"2021-06-03\",\"2021-06-04\",\"2021-06-05\",\"2021-06-06\",\"2021-06-07\",\"2021-06-08\",\"2021-06-09\",\"2021-06-10\",\"2021-06-11\",\"2021-06-12\",\"2021-06-13\",\"2021-06-14\",\"2021-06-15\",\"2021-06-16\",\"2021-06-17\",\"2021-06-18\",\"2021-06-19\",\"2021-06-20\",\"2021-06-21\",\"2021-06-22\",\"2021-06-23\",\"2021-06-24\",\"2021-06-25\",\"2021-06-26\",\"2021-06-27\",\"2021-06-28\",\"2021-06-29\",\"2021-06-30\",\"2021-07-01\",\"2021-07-02\",\"2021-07-03\",\"2021-07-04\",\"2021-07-05\",\"2021-07-06\",\"2021-07-07\",\"2021-07-08\",\"2021-07-09\",\"2021-07-10\",\"2021-07-11\",\"2021-07-12\",\"2021-07-13\",\"2021-07-14\",\"2021-07-15\",\"2021-07-16\",\"2021-07-17\",\"2021-07-18\",\"2021-07-19\",\"2021-07-20\",\"2021-07-21\",\"2021-07-22\",\"2021-07-23\",\"2021-07-24\",\"2021-07-25\",\"2021-07-26\",\"2021-07-27\",\"2021-07-28\",\"2021-07-29\",\"2021-07-30\",\"2021-07-31\",\"2021-08-01\",\"2021-08-02\",\"2021-08-03\",\"2021-08-04\",\"2021-08-05\",\"2021-08-06\",\"2021-08-07\",\"2021-08-08\",\"2021-08-09\",\"2021-08-10\",\"2021-08-11\",\"2021-08-12\",\"2021-08-13\",\"2021-08-14\",\"2021-08-15\",\"2021-08-16\",\"2021-08-17\",\"2021-08-18\",\"2021-08-19\",\"2021-08-20\",\"2021-08-21\",\"2021-08-22\",\"2021-08-23\",\"2021-08-24\",\"2021-08-25\",\"2021-08-26\",\"2021-08-27\",\"2021-08-28\",\"2021-08-29\",\"2021-08-30\",\"2021-08-31\"],\"xaxis\":\"x\",\"y\":[59,58,59,41,36,33,36,53,52,57,48,45,41,39,55,53,49,54,49,35,40,48,51,63,48,40,61,100,66,78,68,60,49,43,44,48,62,47,53,42,50,41,53,66,57,60,54,53,51,57,62,67,64,51,43,53,46,64,63,52,52,47,44,47,69,62,41,50,53,50,49,55,66,48,45,47,47,46,55,73,54,49,56,50,55,59,72,45,43,46,57,54,58,69,54,45,43,48,47,74,65,54,41,49,51,47,74,61,55,50,46,54,56,64,58,52,53,60,58,46,47,65,61,50,47,49,49,58,64,60,56,79,72,67,75,76,43,54,51,67,61,66,76,66,54,50,54,51,60,73,66,59,60,53,56,67,71,65,57,50,60,88,81,77,61,50,59,63,68,68,71,51,50,53,66,60,80,81,51,52,58,63,62,67,67,64,67,56,63,47,68,64,53,51,45,44,46,61,61,47,48,41,57,61,71,69,58,58,47,55,52,66,60,58,44,49,55,56,64,72,55,50,45,52,47,60,64,54,49,49,50,52,57,64,46,48,52,52,49,57,56,51,41],\"yaxis\":\"y\",\"type\":\"bar\"}],                        {\"template\":{\"data\":{\"bar\":[{\"error_x\":{\"color\":\"#2a3f5f\"},\"error_y\":{\"color\":\"#2a3f5f\"},\"marker\":{\"line\":{\"color\":\"#E5ECF6\",\"width\":0.5},\"pattern\":{\"fillmode\":\"overlay\",\"size\":10,\"solidity\":0.2}},\"type\":\"bar\"}],\"barpolar\":[{\"marker\":{\"line\":{\"color\":\"#E5ECF6\",\"width\":0.5},\"pattern\":{\"fillmode\":\"overlay\",\"size\":10,\"solidity\":0.2}},\"type\":\"barpolar\"}],\"carpet\":[{\"aaxis\":{\"endlinecolor\":\"#2a3f5f\",\"gridcolor\":\"white\",\"linecolor\":\"white\",\"minorgridcolor\":\"white\",\"startlinecolor\":\"#2a3f5f\"},\"baxis\":{\"endlinecolor\":\"#2a3f5f\",\"gridcolor\":\"white\",\"linecolor\":\"white\",\"minorgridcolor\":\"white\",\"startlinecolor\":\"#2a3f5f\"},\"type\":\"carpet\"}],\"choropleth\":[{\"colorbar\":{\"outlinewidth\":0,\"ticks\":\"\"},\"type\":\"choropleth\"}],\"contour\":[{\"colorbar\":{\"outlinewidth\":0,\"ticks\":\"\"},\"colorscale\":[[0.0,\"#0d0887\"],[0.1111111111111111,\"#46039f\"],[0.2222222222222222,\"#7201a8\"],[0.3333333333333333,\"#9c179e\"],[0.4444444444444444,\"#bd3786\"],[0.5555555555555556,\"#d8576b\"],[0.6666666666666666,\"#ed7953\"],[0.7777777777777778,\"#fb9f3a\"],[0.8888888888888888,\"#fdca26\"],[1.0,\"#f0f921\"]],\"type\":\"contour\"}],\"contourcarpet\":[{\"colorbar\":{\"outlinewidth\":0,\"ticks\":\"\"},\"type\":\"contourcarpet\"}],\"heatmap\":[{\"colorbar\":{\"outlinewidth\":0,\"ticks\":\"\"},\"colorscale\":[[0.0,\"#0d0887\"],[0.1111111111111111,\"#46039f\"],[0.2222222222222222,\"#7201a8\"],[0.3333333333333333,\"#9c179e\"],[0.4444444444444444,\"#bd3786\"],[0.5555555555555556,\"#d8576b\"],[0.6666666666666666,\"#ed7953\"],[0.7777777777777778,\"#fb9f3a\"],[0.8888888888888888,\"#fdca26\"],[1.0,\"#f0f921\"]],\"type\":\"heatmap\"}],\"heatmapgl\":[{\"colorbar\":{\"outlinewidth\":0,\"ticks\":\"\"},\"colorscale\":[[0.0,\"#0d0887\"],[0.1111111111111111,\"#46039f\"],[0.2222222222222222,\"#7201a8\"],[0.3333333333333333,\"#9c179e\"],[0.4444444444444444,\"#bd3786\"],[0.5555555555555556,\"#d8576b\"],[0.6666666666666666,\"#ed7953\"],[0.7777777777777778,\"#fb9f3a\"],[0.8888888888888888,\"#fdca26\"],[1.0,\"#f0f921\"]],\"type\":\"heatmapgl\"}],\"histogram\":[{\"marker\":{\"pattern\":{\"fillmode\":\"overlay\",\"size\":10,\"solidity\":0.2}},\"type\":\"histogram\"}],\"histogram2d\":[{\"colorbar\":{\"outlinewidth\":0,\"ticks\":\"\"},\"colorscale\":[[0.0,\"#0d0887\"],[0.1111111111111111,\"#46039f\"],[0.2222222222222222,\"#7201a8\"],[0.3333333333333333,\"#9c179e\"],[0.4444444444444444,\"#bd3786\"],[0.5555555555555556,\"#d8576b\"],[0.6666666666666666,\"#ed7953\"],[0.7777777777777778,\"#fb9f3a\"],[0.8888888888888888,\"#fdca26\"],[1.0,\"#f0f921\"]],\"type\":\"histogram2d\"}],\"histogram2dcontour\":[{\"colorbar\":{\"outlinewidth\":0,\"ticks\":\"\"},\"colorscale\":[[0.0,\"#0d0887\"],[0.1111111111111111,\"#46039f\"],[0.2222222222222222,\"#7201a8\"],[0.3333333333333333,\"#9c179e\"],[0.4444444444444444,\"#bd3786\"],[0.5555555555555556,\"#d8576b\"],[0.6666666666666666,\"#ed7953\"],[0.7777777777777778,\"#fb9f3a\"],[0.8888888888888888,\"#fdca26\"],[1.0,\"#f0f921\"]],\"type\":\"histogram2dcontour\"}],\"mesh3d\":[{\"colorbar\":{\"outlinewidth\":0,\"ticks\":\"\"},\"type\":\"mesh3d\"}],\"parcoords\":[{\"line\":{\"colorbar\":{\"outlinewidth\":0,\"ticks\":\"\"}},\"type\":\"parcoords\"}],\"pie\":[{\"automargin\":true,\"type\":\"pie\"}],\"scatter\":[{\"marker\":{\"colorbar\":{\"outlinewidth\":0,\"ticks\":\"\"}},\"type\":\"scatter\"}],\"scatter3d\":[{\"line\":{\"colorbar\":{\"outlinewidth\":0,\"ticks\":\"\"}},\"marker\":{\"colorbar\":{\"outlinewidth\":0,\"ticks\":\"\"}},\"type\":\"scatter3d\"}],\"scattercarpet\":[{\"marker\":{\"colorbar\":{\"outlinewidth\":0,\"ticks\":\"\"}},\"type\":\"scattercarpet\"}],\"scattergeo\":[{\"marker\":{\"colorbar\":{\"outlinewidth\":0,\"ticks\":\"\"}},\"type\":\"scattergeo\"}],\"scattergl\":[{\"marker\":{\"colorbar\":{\"outlinewidth\":0,\"ticks\":\"\"}},\"type\":\"scattergl\"}],\"scattermapbox\":[{\"marker\":{\"colorbar\":{\"outlinewidth\":0,\"ticks\":\"\"}},\"type\":\"scattermapbox\"}],\"scatterpolar\":[{\"marker\":{\"colorbar\":{\"outlinewidth\":0,\"ticks\":\"\"}},\"type\":\"scatterpolar\"}],\"scatterpolargl\":[{\"marker\":{\"colorbar\":{\"outlinewidth\":0,\"ticks\":\"\"}},\"type\":\"scatterpolargl\"}],\"scatterternary\":[{\"marker\":{\"colorbar\":{\"outlinewidth\":0,\"ticks\":\"\"}},\"type\":\"scatterternary\"}],\"surface\":[{\"colorbar\":{\"outlinewidth\":0,\"ticks\":\"\"},\"colorscale\":[[0.0,\"#0d0887\"],[0.1111111111111111,\"#46039f\"],[0.2222222222222222,\"#7201a8\"],[0.3333333333333333,\"#9c179e\"],[0.4444444444444444,\"#bd3786\"],[0.5555555555555556,\"#d8576b\"],[0.6666666666666666,\"#ed7953\"],[0.7777777777777778,\"#fb9f3a\"],[0.8888888888888888,\"#fdca26\"],[1.0,\"#f0f921\"]],\"type\":\"surface\"}],\"table\":[{\"cells\":{\"fill\":{\"color\":\"#EBF0F8\"},\"line\":{\"color\":\"white\"}},\"header\":{\"fill\":{\"color\":\"#C8D4E3\"},\"line\":{\"color\":\"white\"}},\"type\":\"table\"}]},\"layout\":{\"annotationdefaults\":{\"arrowcolor\":\"#2a3f5f\",\"arrowhead\":0,\"arrowwidth\":1},\"autotypenumbers\":\"strict\",\"coloraxis\":{\"colorbar\":{\"outlinewidth\":0,\"ticks\":\"\"}},\"colorscale\":{\"diverging\":[[0,\"#8e0152\"],[0.1,\"#c51b7d\"],[0.2,\"#de77ae\"],[0.3,\"#f1b6da\"],[0.4,\"#fde0ef\"],[0.5,\"#f7f7f7\"],[0.6,\"#e6f5d0\"],[0.7,\"#b8e186\"],[0.8,\"#7fbc41\"],[0.9,\"#4d9221\"],[1,\"#276419\"]],\"sequential\":[[0.0,\"#0d0887\"],[0.1111111111111111,\"#46039f\"],[0.2222222222222222,\"#7201a8\"],[0.3333333333333333,\"#9c179e\"],[0.4444444444444444,\"#bd3786\"],[0.5555555555555556,\"#d8576b\"],[0.6666666666666666,\"#ed7953\"],[0.7777777777777778,\"#fb9f3a\"],[0.8888888888888888,\"#fdca26\"],[1.0,\"#f0f921\"]],\"sequentialminus\":[[0.0,\"#0d0887\"],[0.1111111111111111,\"#46039f\"],[0.2222222222222222,\"#7201a8\"],[0.3333333333333333,\"#9c179e\"],[0.4444444444444444,\"#bd3786\"],[0.5555555555555556,\"#d8576b\"],[0.6666666666666666,\"#ed7953\"],[0.7777777777777778,\"#fb9f3a\"],[0.8888888888888888,\"#fdca26\"],[1.0,\"#f0f921\"]]},\"colorway\":[\"#636efa\",\"#EF553B\",\"#00cc96\",\"#ab63fa\",\"#FFA15A\",\"#19d3f3\",\"#FF6692\",\"#B6E880\",\"#FF97FF\",\"#FECB52\"],\"font\":{\"color\":\"#2a3f5f\"},\"geo\":{\"bgcolor\":\"white\",\"lakecolor\":\"white\",\"landcolor\":\"#E5ECF6\",\"showlakes\":true,\"showland\":true,\"subunitcolor\":\"white\"},\"hoverlabel\":{\"align\":\"left\"},\"hovermode\":\"closest\",\"mapbox\":{\"style\":\"light\"},\"paper_bgcolor\":\"white\",\"plot_bgcolor\":\"#E5ECF6\",\"polar\":{\"angularaxis\":{\"gridcolor\":\"white\",\"linecolor\":\"white\",\"ticks\":\"\"},\"bgcolor\":\"#E5ECF6\",\"radialaxis\":{\"gridcolor\":\"white\",\"linecolor\":\"white\",\"ticks\":\"\"}},\"scene\":{\"xaxis\":{\"backgroundcolor\":\"#E5ECF6\",\"gridcolor\":\"white\",\"gridwidth\":2,\"linecolor\":\"white\",\"showbackground\":true,\"ticks\":\"\",\"zerolinecolor\":\"white\"},\"yaxis\":{\"backgroundcolor\":\"#E5ECF6\",\"gridcolor\":\"white\",\"gridwidth\":2,\"linecolor\":\"white\",\"showbackground\":true,\"ticks\":\"\",\"zerolinecolor\":\"white\"},\"zaxis\":{\"backgroundcolor\":\"#E5ECF6\",\"gridcolor\":\"white\",\"gridwidth\":2,\"linecolor\":\"white\",\"showbackground\":true,\"ticks\":\"\",\"zerolinecolor\":\"white\"}},\"shapedefaults\":{\"line\":{\"color\":\"#2a3f5f\"}},\"ternary\":{\"aaxis\":{\"gridcolor\":\"white\",\"linecolor\":\"white\",\"ticks\":\"\"},\"baxis\":{\"gridcolor\":\"white\",\"linecolor\":\"white\",\"ticks\":\"\"},\"bgcolor\":\"#E5ECF6\",\"caxis\":{\"gridcolor\":\"white\",\"linecolor\":\"white\",\"ticks\":\"\"}},\"title\":{\"x\":0.05},\"xaxis\":{\"automargin\":true,\"gridcolor\":\"white\",\"linecolor\":\"white\",\"ticks\":\"\",\"title\":{\"standoff\":15},\"zerolinecolor\":\"white\",\"zerolinewidth\":2},\"yaxis\":{\"automargin\":true,\"gridcolor\":\"white\",\"linecolor\":\"white\",\"ticks\":\"\",\"title\":{\"standoff\":15},\"zerolinecolor\":\"white\",\"zerolinewidth\":2}}},\"xaxis\":{\"anchor\":\"y\",\"domain\":[0.0,1.0],\"title\":{\"text\":\"Day\"}},\"yaxis\":{\"anchor\":\"x\",\"domain\":[0.0,1.0],\"title\":{\"text\":\"Tesla: (United States)\"}},\"legend\":{\"tracegroupgap\":0},\"title\":{\"text\":\"Tesla Google Trends\"},\"barmode\":\"relative\"},                        {\"responsive\": true}                    ).then(function(){\n",
       "                            \n",
       "var gd = document.getElementById('0cbbf200-7528-473a-a347-9395369ce5b5');\n",
       "var x = new MutationObserver(function (mutations, observer) {{\n",
       "        var display = window.getComputedStyle(gd).display;\n",
       "        if (!display || display === 'none') {{\n",
       "            console.log([gd, 'removed!']);\n",
       "            Plotly.purge(gd);\n",
       "            observer.disconnect();\n",
       "        }}\n",
       "}});\n",
       "\n",
       "// Listen for the removal of the full notebook cells\n",
       "var notebookContainer = gd.closest('#notebook-container');\n",
       "if (notebookContainer) {{\n",
       "    x.observe(notebookContainer, {childList: true});\n",
       "}}\n",
       "\n",
       "// Listen for the clearing of the current output cell\n",
       "var outputEl = gd.closest('.output');\n",
       "if (outputEl) {{\n",
       "    x.observe(outputEl, {childList: true});\n",
       "}}\n",
       "\n",
       "                        })                };                });            </script>        </div>"
      ]
     },
     "metadata": {},
     "output_type": "display_data"
    }
   ],
   "source": [
    "tesla_trend_chart_bar = px.bar(\n",
    "    tesla_trends,\n",
    "    x=\"Day\",\n",
    "    y=\"Tesla: (United States)\",\n",
    "    title=\"Tesla Google Trends\",\n",
    ")\n",
    "tesla_trend_chart_bar"
   ]
  },
  {
   "cell_type": "code",
   "execution_count": 46,
   "id": "d60ac26a",
   "metadata": {},
   "outputs": [
    {
     "data": {
      "application/vnd.plotly.v1+json": {
       "config": {
        "plotlyServerURL": "https://plot.ly"
       },
       "data": [
        {
         "hovertemplate": "timestamp=%{x}<br>close=%{y}<extra></extra>",
         "legendgroup": "",
         "line": {
          "color": "#636efa",
          "dash": "solid"
         },
         "marker": {
          "symbol": "circle"
         },
         "mode": "lines",
         "name": "",
         "orientation": "v",
         "showlegend": false,
         "type": "scatter",
         "x": [
          "2021-01-01 06:00:00+00:00",
          "2021-01-02 06:00:00+00:00",
          "2021-01-03 06:00:00+00:00",
          "2021-01-04 06:00:00+00:00",
          "2021-01-05 06:00:00+00:00",
          "2021-01-06 06:00:00+00:00",
          "2021-01-07 06:00:00+00:00",
          "2021-01-08 06:00:00+00:00",
          "2021-01-09 06:00:00+00:00",
          "2021-01-10 06:00:00+00:00",
          "2021-01-11 06:00:00+00:00",
          "2021-01-12 06:00:00+00:00",
          "2021-01-13 06:00:00+00:00",
          "2021-01-14 06:00:00+00:00",
          "2021-01-15 06:00:00+00:00",
          "2021-01-16 06:00:00+00:00",
          "2021-01-17 06:00:00+00:00",
          "2021-01-18 06:00:00+00:00",
          "2021-01-19 06:00:00+00:00",
          "2021-01-20 06:00:00+00:00",
          "2021-01-21 06:00:00+00:00",
          "2021-01-22 06:00:00+00:00",
          "2021-01-23 06:00:00+00:00",
          "2021-01-24 06:00:00+00:00",
          "2021-01-25 06:00:00+00:00",
          "2021-01-26 06:00:00+00:00",
          "2021-01-27 06:00:00+00:00",
          "2021-01-28 06:00:00+00:00",
          "2021-01-29 06:00:00+00:00",
          "2021-01-30 06:00:00+00:00",
          "2021-01-31 06:00:00+00:00",
          "2021-02-01 06:00:00+00:00",
          "2021-02-02 06:00:00+00:00",
          "2021-02-03 06:00:00+00:00",
          "2021-02-04 06:00:00+00:00",
          "2021-02-05 06:00:00+00:00",
          "2021-02-06 06:00:00+00:00",
          "2021-02-07 06:00:00+00:00",
          "2021-02-08 06:00:00+00:00",
          "2021-02-09 06:00:00+00:00",
          "2021-02-10 06:00:00+00:00",
          "2021-02-11 06:00:00+00:00",
          "2021-02-12 06:00:00+00:00",
          "2021-02-13 06:00:00+00:00",
          "2021-02-14 06:00:00+00:00",
          "2021-02-15 06:00:00+00:00",
          "2021-02-16 06:00:00+00:00",
          "2021-02-17 06:00:00+00:00",
          "2021-02-18 06:00:00+00:00",
          "2021-02-19 06:00:00+00:00",
          "2021-02-20 06:00:00+00:00",
          "2021-02-21 06:00:00+00:00",
          "2021-02-22 06:00:00+00:00",
          "2021-02-23 06:00:00+00:00",
          "2021-02-24 06:00:00+00:00",
          "2021-02-25 06:00:00+00:00",
          "2021-02-26 06:00:00+00:00",
          "2021-02-27 06:00:00+00:00",
          "2021-02-28 06:00:00+00:00",
          "2021-03-01 06:00:00+00:00",
          "2021-03-02 06:00:00+00:00",
          "2021-03-03 06:00:00+00:00",
          "2021-03-04 06:00:00+00:00",
          "2021-03-05 06:00:00+00:00",
          "2021-03-06 06:00:00+00:00",
          "2021-03-07 06:00:00+00:00",
          "2021-03-08 06:00:00+00:00",
          "2021-03-09 06:00:00+00:00",
          "2021-03-10 06:00:00+00:00",
          "2021-03-11 06:00:00+00:00",
          "2021-03-12 06:00:00+00:00",
          "2021-03-13 06:00:00+00:00",
          "2021-03-14 06:00:00+00:00",
          "2021-03-15 05:00:00+00:00",
          "2021-03-16 05:00:00+00:00",
          "2021-03-17 05:00:00+00:00",
          "2021-03-18 05:00:00+00:00",
          "2021-03-19 05:00:00+00:00",
          "2021-03-20 05:00:00+00:00",
          "2021-03-21 05:00:00+00:00",
          "2021-03-22 05:00:00+00:00",
          "2021-03-23 05:00:00+00:00",
          "2021-03-24 05:00:00+00:00",
          "2021-03-25 05:00:00+00:00",
          "2021-03-26 05:00:00+00:00",
          "2021-03-27 05:00:00+00:00",
          "2021-03-28 05:00:00+00:00",
          "2021-03-29 05:00:00+00:00",
          "2021-03-30 05:00:00+00:00",
          "2021-03-31 05:00:00+00:00",
          "2021-04-01 05:00:00+00:00",
          "2021-04-02 05:00:00+00:00",
          "2021-04-03 05:00:00+00:00",
          "2021-04-04 05:00:00+00:00",
          "2021-04-05 05:00:00+00:00",
          "2021-04-06 05:00:00+00:00",
          "2021-04-07 05:00:00+00:00",
          "2021-04-08 05:00:00+00:00",
          "2021-04-09 05:00:00+00:00",
          "2021-04-10 05:00:00+00:00",
          "2021-04-11 05:00:00+00:00",
          "2021-04-12 05:00:00+00:00",
          "2021-04-13 05:00:00+00:00",
          "2021-04-14 05:00:00+00:00",
          "2021-04-15 05:00:00+00:00",
          "2021-04-16 05:00:00+00:00",
          "2021-04-17 05:00:00+00:00",
          "2021-04-18 05:00:00+00:00",
          "2021-04-19 05:00:00+00:00",
          "2021-04-20 05:00:00+00:00",
          "2021-04-21 05:00:00+00:00",
          "2021-04-22 05:00:00+00:00",
          "2021-04-23 05:00:00+00:00",
          "2021-04-24 05:00:00+00:00",
          "2021-04-25 05:00:00+00:00",
          "2021-04-26 05:00:00+00:00",
          "2021-04-27 05:00:00+00:00",
          "2021-04-28 05:00:00+00:00",
          "2021-04-29 05:00:00+00:00",
          "2021-04-30 05:00:00+00:00",
          "2021-05-01 05:00:00+00:00",
          "2021-05-02 05:00:00+00:00",
          "2021-05-03 05:00:00+00:00",
          "2021-05-04 05:00:00+00:00",
          "2021-05-05 05:00:00+00:00",
          "2021-05-06 05:00:00+00:00",
          "2021-05-07 05:00:00+00:00",
          "2021-05-08 05:00:00+00:00",
          "2021-05-09 05:00:00+00:00",
          "2021-05-10 05:00:00+00:00",
          "2021-05-11 05:00:00+00:00",
          "2021-05-12 05:00:00+00:00",
          "2021-05-13 05:00:00+00:00",
          "2021-05-14 05:00:00+00:00",
          "2021-05-15 05:00:00+00:00",
          "2021-05-16 05:00:00+00:00",
          "2021-05-17 05:00:00+00:00",
          "2021-05-18 05:00:00+00:00",
          "2021-05-19 05:00:00+00:00",
          "2021-05-20 05:00:00+00:00",
          "2021-05-21 05:00:00+00:00",
          "2021-05-22 05:00:00+00:00",
          "2021-05-23 05:00:00+00:00",
          "2021-05-24 05:00:00+00:00",
          "2021-05-25 05:00:00+00:00",
          "2021-05-26 05:00:00+00:00",
          "2021-05-27 05:00:00+00:00",
          "2021-05-28 05:00:00+00:00",
          "2021-05-29 05:00:00+00:00",
          "2021-05-30 05:00:00+00:00",
          "2021-05-31 05:00:00+00:00",
          "2021-06-01 05:00:00+00:00",
          "2021-06-02 05:00:00+00:00",
          "2021-06-03 05:00:00+00:00",
          "2021-06-04 05:00:00+00:00",
          "2021-06-05 05:00:00+00:00",
          "2021-06-06 05:00:00+00:00",
          "2021-06-07 05:00:00+00:00",
          "2021-06-08 05:00:00+00:00",
          "2021-06-09 05:00:00+00:00",
          "2021-06-10 05:00:00+00:00",
          "2021-06-11 05:00:00+00:00",
          "2021-06-12 05:00:00+00:00",
          "2021-06-13 05:00:00+00:00",
          "2021-06-14 05:00:00+00:00",
          "2021-06-15 05:00:00+00:00",
          "2021-06-16 05:00:00+00:00",
          "2021-06-17 05:00:00+00:00",
          "2021-06-18 05:00:00+00:00",
          "2021-06-19 05:00:00+00:00",
          "2021-06-20 05:00:00+00:00",
          "2021-06-21 05:00:00+00:00",
          "2021-06-22 05:00:00+00:00",
          "2021-06-23 05:00:00+00:00",
          "2021-06-24 05:00:00+00:00",
          "2021-06-25 05:00:00+00:00",
          "2021-06-26 05:00:00+00:00",
          "2021-06-27 05:00:00+00:00",
          "2021-06-28 05:00:00+00:00",
          "2021-06-29 05:00:00+00:00",
          "2021-06-30 05:00:00+00:00",
          "2021-07-01 05:00:00+00:00",
          "2021-07-02 05:00:00+00:00",
          "2021-07-03 05:00:00+00:00",
          "2021-07-04 05:00:00+00:00",
          "2021-07-05 05:00:00+00:00",
          "2021-07-06 05:00:00+00:00",
          "2021-07-07 05:00:00+00:00",
          "2021-07-08 05:00:00+00:00",
          "2021-07-09 05:00:00+00:00",
          "2021-07-10 05:00:00+00:00",
          "2021-07-11 05:00:00+00:00",
          "2021-07-12 05:00:00+00:00",
          "2021-07-13 05:00:00+00:00",
          "2021-07-14 05:00:00+00:00",
          "2021-07-15 05:00:00+00:00",
          "2021-07-16 05:00:00+00:00",
          "2021-07-17 05:00:00+00:00",
          "2021-07-18 05:00:00+00:00",
          "2021-07-19 05:00:00+00:00",
          "2021-07-20 05:00:00+00:00",
          "2021-07-21 05:00:00+00:00",
          "2021-07-22 05:00:00+00:00",
          "2021-07-23 05:00:00+00:00",
          "2021-07-24 05:00:00+00:00",
          "2021-07-25 05:00:00+00:00",
          "2021-07-26 05:00:00+00:00",
          "2021-07-27 05:00:00+00:00",
          "2021-07-28 05:00:00+00:00",
          "2021-07-29 05:00:00+00:00",
          "2021-07-30 05:00:00+00:00",
          "2021-07-31 05:00:00+00:00",
          "2021-08-01 05:00:00+00:00",
          "2021-08-02 05:00:00+00:00",
          "2021-08-03 05:00:00+00:00",
          "2021-08-04 05:00:00+00:00",
          "2021-08-05 05:00:00+00:00",
          "2021-08-06 05:00:00+00:00",
          "2021-08-07 05:00:00+00:00",
          "2021-08-08 05:00:00+00:00",
          "2021-08-09 05:00:00+00:00",
          "2021-08-10 05:00:00+00:00",
          "2021-08-11 05:00:00+00:00",
          "2021-08-12 05:00:00+00:00",
          "2021-08-13 05:00:00+00:00",
          "2021-08-14 05:00:00+00:00",
          "2021-08-15 05:00:00+00:00",
          "2021-08-16 05:00:00+00:00",
          "2021-08-17 05:00:00+00:00",
          "2021-08-18 05:00:00+00:00",
          "2021-08-19 05:00:00+00:00",
          "2021-08-20 05:00:00+00:00",
          "2021-08-21 05:00:00+00:00",
          "2021-08-22 05:00:00+00:00",
          "2021-08-23 05:00:00+00:00",
          "2021-08-24 05:00:00+00:00",
          "2021-08-25 05:00:00+00:00",
          "2021-08-26 05:00:00+00:00",
          "2021-08-27 05:00:00+00:00",
          "2021-08-28 05:00:00+00:00",
          "2021-08-29 05:00:00+00:00",
          "2021-08-30 05:00:00+00:00",
          "2021-08-31 05:00:00+00:00"
         ],
         "xaxis": "x",
         "y": [
          29683.03,
          33779.48,
          32903.87,
          30460.19,
          35130.05,
          37505.58,
          38000.87,
          40665.15,
          40571.12,
          34847.17,
          35461.96,
          34038.98,
          37546.15,
          37800.01,
          36754.67,
          36006.94,
          35334.39,
          36297.36,
          35504.84,
          34563.12,
          30855.95,
          32984.93,
          32865.87,
          33356.55,
          32090.1,
          31551.72,
          30407.13,
          33052.81,
          34262.11,
          34315.63,
          33800,
          34022.03,
          36524.72,
          37632.75,
          36975,
          39056.37,
          39265.43,
          38701.98,
          46448.1,
          46514.73,
          44850,
          47300.88,
          47408.34,
          47232.45,
          46785.73,
          49163.27,
          49737,
          52170.01,
          51491.52,
          55714.44,
          55923.52,
          55899.97,
          49975.25,
          48899.99,
          49737.82,
          45527.11,
          46326.2,
          44804.85,
          45231.75,
          49639.4,
          48511.6,
          50360,
          47229.98,
          48481.65,
          49366.61,
          50815.72,
          54288.08,
          53674.27,
          55890.69,
          57160.98,
          56731.11,
          61178.5,
          59754.48,
          55636.15,
          55587.32,
          58925.54,
          57887.82,
          58039.66,
          56921.67,
          57610.01,
          54461.43,
          54106.54,
          52239.64,
          51325.01,
          55072.44,
          55856.53,
          55324.04,
          57613.48,
          58740.77,
          58922.22,
          58726.48,
          59401.81,
          57094.34,
          57307.92,
          58775.23,
          57645.47,
          55955.75,
          58083.1,
          60951.61,
          59778.6,
          60088.62,
          60571.22,
          64303.77,
          62971.8,
          61712.36,
          61427.27,
          54986.39,
          56274.41,
          55353.73,
          56499.29,
          54279.41,
          49138.85,
          51187.27,
          49699.42,
          52360.47,
          54053.6,
          54894.13,
          53625.09,
          54178.29,
          57798.77,
          57859.28,
          57850.71,
          55856.8,
          54573.94,
          57008.23,
          55882.93,
          58126.74,
          58211.21,
          59230.42,
          55379.8,
          57425.24,
          50477.63,
          49690.11,
          49368.92,
          48118.82,
          43538.88,
          43580.5,
          39258.21,
          36731.75,
          40623.33,
          37340.77,
          37235.63,
          34758.67,
          38878.56,
          39438.27,
          39293.23,
          37354.37,
          35680.47,
          34627.82,
          34499.57,
          36753.45,
          36666.01,
          37970.64,
          37583.24,
          36856.52,
          35539.49,
          36268.91,
          32869.08,
          32990.37,
          36813.86,
          36694.05,
          35250.26,
          35195.09,
          39283.74,
          40530.39,
          40271.81,
          38811.19,
          37935.17,
          35841.81,
          35798.24,
          34229.08,
          32918.54,
          32538.37,
          33688.35,
          34774,
          31594.63,
          32275.19,
          34354.83,
          34871.31,
          34763.8,
          34338.21,
          33516.11,
          33805.02,
          34783,
          34210.23,
          34660.65,
          34720.25,
          33317.51,
          32875.95,
          33649.77,
          33472.51,
          34308.38,
          33127.35,
          31942.23,
          32661.04,
          31868.68,
          31388.24,
          32085.24,
          31747.43,
          29662.31,
          29796.16,
          32135.19,
          32699,
          33708.68,
          34283.01,
          38300.01,
          37262.77,
          39694.11,
          40035.1,
          39824.58,
          42237.95,
          42074.65,
          39671.67,
          39149.59,
          37952.63,
          39343.31,
          40888.74,
          43316.79,
          44382.47,
          43614.98,
          46285.48,
          45595.66,
          45614.87,
          45274.98,
          47833.64,
          46756.7,
          47424.28,
          46391.24,
          45082.92,
          44137.43,
          47097.8,
          49342.4,
          48867.02,
          50338.18,
          49506.58,
          48022.29,
          47894.22,
          46851.47,
          49077.57,
          48183.83,
          47897.69,
          47056.72,
          47158.9
         ],
         "yaxis": "y"
        }
       ],
       "layout": {
        "autosize": true,
        "legend": {
         "tracegroupgap": 0
        },
        "template": {
         "data": {
          "bar": [
           {
            "error_x": {
             "color": "#2a3f5f"
            },
            "error_y": {
             "color": "#2a3f5f"
            },
            "marker": {
             "line": {
              "color": "#E5ECF6",
              "width": 0.5
             },
             "pattern": {
              "fillmode": "overlay",
              "size": 10,
              "solidity": 0.2
             }
            },
            "type": "bar"
           }
          ],
          "barpolar": [
           {
            "marker": {
             "line": {
              "color": "#E5ECF6",
              "width": 0.5
             },
             "pattern": {
              "fillmode": "overlay",
              "size": 10,
              "solidity": 0.2
             }
            },
            "type": "barpolar"
           }
          ],
          "carpet": [
           {
            "aaxis": {
             "endlinecolor": "#2a3f5f",
             "gridcolor": "white",
             "linecolor": "white",
             "minorgridcolor": "white",
             "startlinecolor": "#2a3f5f"
            },
            "baxis": {
             "endlinecolor": "#2a3f5f",
             "gridcolor": "white",
             "linecolor": "white",
             "minorgridcolor": "white",
             "startlinecolor": "#2a3f5f"
            },
            "type": "carpet"
           }
          ],
          "choropleth": [
           {
            "colorbar": {
             "outlinewidth": 0,
             "ticks": ""
            },
            "type": "choropleth"
           }
          ],
          "contour": [
           {
            "colorbar": {
             "outlinewidth": 0,
             "ticks": ""
            },
            "colorscale": [
             [
              0,
              "#0d0887"
             ],
             [
              0.1111111111111111,
              "#46039f"
             ],
             [
              0.2222222222222222,
              "#7201a8"
             ],
             [
              0.3333333333333333,
              "#9c179e"
             ],
             [
              0.4444444444444444,
              "#bd3786"
             ],
             [
              0.5555555555555556,
              "#d8576b"
             ],
             [
              0.6666666666666666,
              "#ed7953"
             ],
             [
              0.7777777777777778,
              "#fb9f3a"
             ],
             [
              0.8888888888888888,
              "#fdca26"
             ],
             [
              1,
              "#f0f921"
             ]
            ],
            "type": "contour"
           }
          ],
          "contourcarpet": [
           {
            "colorbar": {
             "outlinewidth": 0,
             "ticks": ""
            },
            "type": "contourcarpet"
           }
          ],
          "heatmap": [
           {
            "colorbar": {
             "outlinewidth": 0,
             "ticks": ""
            },
            "colorscale": [
             [
              0,
              "#0d0887"
             ],
             [
              0.1111111111111111,
              "#46039f"
             ],
             [
              0.2222222222222222,
              "#7201a8"
             ],
             [
              0.3333333333333333,
              "#9c179e"
             ],
             [
              0.4444444444444444,
              "#bd3786"
             ],
             [
              0.5555555555555556,
              "#d8576b"
             ],
             [
              0.6666666666666666,
              "#ed7953"
             ],
             [
              0.7777777777777778,
              "#fb9f3a"
             ],
             [
              0.8888888888888888,
              "#fdca26"
             ],
             [
              1,
              "#f0f921"
             ]
            ],
            "type": "heatmap"
           }
          ],
          "heatmapgl": [
           {
            "colorbar": {
             "outlinewidth": 0,
             "ticks": ""
            },
            "colorscale": [
             [
              0,
              "#0d0887"
             ],
             [
              0.1111111111111111,
              "#46039f"
             ],
             [
              0.2222222222222222,
              "#7201a8"
             ],
             [
              0.3333333333333333,
              "#9c179e"
             ],
             [
              0.4444444444444444,
              "#bd3786"
             ],
             [
              0.5555555555555556,
              "#d8576b"
             ],
             [
              0.6666666666666666,
              "#ed7953"
             ],
             [
              0.7777777777777778,
              "#fb9f3a"
             ],
             [
              0.8888888888888888,
              "#fdca26"
             ],
             [
              1,
              "#f0f921"
             ]
            ],
            "type": "heatmapgl"
           }
          ],
          "histogram": [
           {
            "marker": {
             "pattern": {
              "fillmode": "overlay",
              "size": 10,
              "solidity": 0.2
             }
            },
            "type": "histogram"
           }
          ],
          "histogram2d": [
           {
            "colorbar": {
             "outlinewidth": 0,
             "ticks": ""
            },
            "colorscale": [
             [
              0,
              "#0d0887"
             ],
             [
              0.1111111111111111,
              "#46039f"
             ],
             [
              0.2222222222222222,
              "#7201a8"
             ],
             [
              0.3333333333333333,
              "#9c179e"
             ],
             [
              0.4444444444444444,
              "#bd3786"
             ],
             [
              0.5555555555555556,
              "#d8576b"
             ],
             [
              0.6666666666666666,
              "#ed7953"
             ],
             [
              0.7777777777777778,
              "#fb9f3a"
             ],
             [
              0.8888888888888888,
              "#fdca26"
             ],
             [
              1,
              "#f0f921"
             ]
            ],
            "type": "histogram2d"
           }
          ],
          "histogram2dcontour": [
           {
            "colorbar": {
             "outlinewidth": 0,
             "ticks": ""
            },
            "colorscale": [
             [
              0,
              "#0d0887"
             ],
             [
              0.1111111111111111,
              "#46039f"
             ],
             [
              0.2222222222222222,
              "#7201a8"
             ],
             [
              0.3333333333333333,
              "#9c179e"
             ],
             [
              0.4444444444444444,
              "#bd3786"
             ],
             [
              0.5555555555555556,
              "#d8576b"
             ],
             [
              0.6666666666666666,
              "#ed7953"
             ],
             [
              0.7777777777777778,
              "#fb9f3a"
             ],
             [
              0.8888888888888888,
              "#fdca26"
             ],
             [
              1,
              "#f0f921"
             ]
            ],
            "type": "histogram2dcontour"
           }
          ],
          "mesh3d": [
           {
            "colorbar": {
             "outlinewidth": 0,
             "ticks": ""
            },
            "type": "mesh3d"
           }
          ],
          "parcoords": [
           {
            "line": {
             "colorbar": {
              "outlinewidth": 0,
              "ticks": ""
             }
            },
            "type": "parcoords"
           }
          ],
          "pie": [
           {
            "automargin": true,
            "type": "pie"
           }
          ],
          "scatter": [
           {
            "marker": {
             "colorbar": {
              "outlinewidth": 0,
              "ticks": ""
             }
            },
            "type": "scatter"
           }
          ],
          "scatter3d": [
           {
            "line": {
             "colorbar": {
              "outlinewidth": 0,
              "ticks": ""
             }
            },
            "marker": {
             "colorbar": {
              "outlinewidth": 0,
              "ticks": ""
             }
            },
            "type": "scatter3d"
           }
          ],
          "scattercarpet": [
           {
            "marker": {
             "colorbar": {
              "outlinewidth": 0,
              "ticks": ""
             }
            },
            "type": "scattercarpet"
           }
          ],
          "scattergeo": [
           {
            "marker": {
             "colorbar": {
              "outlinewidth": 0,
              "ticks": ""
             }
            },
            "type": "scattergeo"
           }
          ],
          "scattergl": [
           {
            "marker": {
             "colorbar": {
              "outlinewidth": 0,
              "ticks": ""
             }
            },
            "type": "scattergl"
           }
          ],
          "scattermapbox": [
           {
            "marker": {
             "colorbar": {
              "outlinewidth": 0,
              "ticks": ""
             }
            },
            "type": "scattermapbox"
           }
          ],
          "scatterpolar": [
           {
            "marker": {
             "colorbar": {
              "outlinewidth": 0,
              "ticks": ""
             }
            },
            "type": "scatterpolar"
           }
          ],
          "scatterpolargl": [
           {
            "marker": {
             "colorbar": {
              "outlinewidth": 0,
              "ticks": ""
             }
            },
            "type": "scatterpolargl"
           }
          ],
          "scatterternary": [
           {
            "marker": {
             "colorbar": {
              "outlinewidth": 0,
              "ticks": ""
             }
            },
            "type": "scatterternary"
           }
          ],
          "surface": [
           {
            "colorbar": {
             "outlinewidth": 0,
             "ticks": ""
            },
            "colorscale": [
             [
              0,
              "#0d0887"
             ],
             [
              0.1111111111111111,
              "#46039f"
             ],
             [
              0.2222222222222222,
              "#7201a8"
             ],
             [
              0.3333333333333333,
              "#9c179e"
             ],
             [
              0.4444444444444444,
              "#bd3786"
             ],
             [
              0.5555555555555556,
              "#d8576b"
             ],
             [
              0.6666666666666666,
              "#ed7953"
             ],
             [
              0.7777777777777778,
              "#fb9f3a"
             ],
             [
              0.8888888888888888,
              "#fdca26"
             ],
             [
              1,
              "#f0f921"
             ]
            ],
            "type": "surface"
           }
          ],
          "table": [
           {
            "cells": {
             "fill": {
              "color": "#EBF0F8"
             },
             "line": {
              "color": "white"
             }
            },
            "header": {
             "fill": {
              "color": "#C8D4E3"
             },
             "line": {
              "color": "white"
             }
            },
            "type": "table"
           }
          ]
         },
         "layout": {
          "annotationdefaults": {
           "arrowcolor": "#2a3f5f",
           "arrowhead": 0,
           "arrowwidth": 1
          },
          "autotypenumbers": "strict",
          "coloraxis": {
           "colorbar": {
            "outlinewidth": 0,
            "ticks": ""
           }
          },
          "colorscale": {
           "diverging": [
            [
             0,
             "#8e0152"
            ],
            [
             0.1,
             "#c51b7d"
            ],
            [
             0.2,
             "#de77ae"
            ],
            [
             0.3,
             "#f1b6da"
            ],
            [
             0.4,
             "#fde0ef"
            ],
            [
             0.5,
             "#f7f7f7"
            ],
            [
             0.6,
             "#e6f5d0"
            ],
            [
             0.7,
             "#b8e186"
            ],
            [
             0.8,
             "#7fbc41"
            ],
            [
             0.9,
             "#4d9221"
            ],
            [
             1,
             "#276419"
            ]
           ],
           "sequential": [
            [
             0,
             "#0d0887"
            ],
            [
             0.1111111111111111,
             "#46039f"
            ],
            [
             0.2222222222222222,
             "#7201a8"
            ],
            [
             0.3333333333333333,
             "#9c179e"
            ],
            [
             0.4444444444444444,
             "#bd3786"
            ],
            [
             0.5555555555555556,
             "#d8576b"
            ],
            [
             0.6666666666666666,
             "#ed7953"
            ],
            [
             0.7777777777777778,
             "#fb9f3a"
            ],
            [
             0.8888888888888888,
             "#fdca26"
            ],
            [
             1,
             "#f0f921"
            ]
           ],
           "sequentialminus": [
            [
             0,
             "#0d0887"
            ],
            [
             0.1111111111111111,
             "#46039f"
            ],
            [
             0.2222222222222222,
             "#7201a8"
            ],
            [
             0.3333333333333333,
             "#9c179e"
            ],
            [
             0.4444444444444444,
             "#bd3786"
            ],
            [
             0.5555555555555556,
             "#d8576b"
            ],
            [
             0.6666666666666666,
             "#ed7953"
            ],
            [
             0.7777777777777778,
             "#fb9f3a"
            ],
            [
             0.8888888888888888,
             "#fdca26"
            ],
            [
             1,
             "#f0f921"
            ]
           ]
          },
          "colorway": [
           "#636efa",
           "#EF553B",
           "#00cc96",
           "#ab63fa",
           "#FFA15A",
           "#19d3f3",
           "#FF6692",
           "#B6E880",
           "#FF97FF",
           "#FECB52"
          ],
          "font": {
           "color": "#2a3f5f"
          },
          "geo": {
           "bgcolor": "white",
           "lakecolor": "white",
           "landcolor": "#E5ECF6",
           "showlakes": true,
           "showland": true,
           "subunitcolor": "white"
          },
          "hoverlabel": {
           "align": "left"
          },
          "hovermode": "closest",
          "mapbox": {
           "style": "light"
          },
          "paper_bgcolor": "white",
          "plot_bgcolor": "#E5ECF6",
          "polar": {
           "angularaxis": {
            "gridcolor": "white",
            "linecolor": "white",
            "ticks": ""
           },
           "bgcolor": "#E5ECF6",
           "radialaxis": {
            "gridcolor": "white",
            "linecolor": "white",
            "ticks": ""
           }
          },
          "scene": {
           "xaxis": {
            "backgroundcolor": "#E5ECF6",
            "gridcolor": "white",
            "gridwidth": 2,
            "linecolor": "white",
            "showbackground": true,
            "ticks": "",
            "zerolinecolor": "white"
           },
           "yaxis": {
            "backgroundcolor": "#E5ECF6",
            "gridcolor": "white",
            "gridwidth": 2,
            "linecolor": "white",
            "showbackground": true,
            "ticks": "",
            "zerolinecolor": "white"
           },
           "zaxis": {
            "backgroundcolor": "#E5ECF6",
            "gridcolor": "white",
            "gridwidth": 2,
            "linecolor": "white",
            "showbackground": true,
            "ticks": "",
            "zerolinecolor": "white"
           }
          },
          "shapedefaults": {
           "line": {
            "color": "#2a3f5f"
           }
          },
          "ternary": {
           "aaxis": {
            "gridcolor": "white",
            "linecolor": "white",
            "ticks": ""
           },
           "baxis": {
            "gridcolor": "white",
            "linecolor": "white",
            "ticks": ""
           },
           "bgcolor": "#E5ECF6",
           "caxis": {
            "gridcolor": "white",
            "linecolor": "white",
            "ticks": ""
           }
          },
          "title": {
           "x": 0.05
          },
          "xaxis": {
           "automargin": true,
           "gridcolor": "white",
           "linecolor": "white",
           "ticks": "",
           "title": {
            "standoff": 15
           },
           "zerolinecolor": "white",
           "zerolinewidth": 2
          },
          "yaxis": {
           "automargin": true,
           "gridcolor": "white",
           "linecolor": "white",
           "ticks": "",
           "title": {
            "standoff": 15
           },
           "zerolinecolor": "white",
           "zerolinewidth": 2
          }
         }
        },
        "title": {
         "text": "Bitcoin Price"
        },
        "xaxis": {
         "anchor": "y",
         "autorange": true,
         "domain": [
          0,
          1
         ],
         "range": [
          "2021-01-01 06:00",
          "2021-08-31 05:00"
         ],
         "title": {
          "text": "timestamp"
         },
         "type": "date"
        },
        "yaxis": {
         "anchor": "x",
         "autorange": true,
         "domain": [
          0,
          1
         ],
         "range": [
          27737.784444444445,
          66228.29555555555
         ],
         "title": {
          "text": "close"
         },
         "type": "linear"
        }
       }
      },
      "image/png": "[encoded data removed]",
      "text/html": [
       "<div>                            <div id=\"e3b30b09-7426-4638-bf0c-da945a12697d\" class=\"plotly-graph-div\" style=\"height:525px; width:100%;\"></div>            <script type=\"text/javascript\">                require([\"plotly\"], function(Plotly) {                    window.PLOTLYENV=window.PLOTLYENV || {};                                    if (document.getElementById(\"e3b30b09-7426-4638-bf0c-da945a12697d\")) {                    Plotly.newPlot(                        \"e3b30b09-7426-4638-bf0c-da945a12697d\",                        [{\"hovertemplate\":\"timestamp=%{x}<br>close=%{y}<extra></extra>\",\"legendgroup\":\"\",\"line\":{\"color\":\"#636efa\",\"dash\":\"solid\"},\"marker\":{\"symbol\":\"circle\"},\"mode\":\"lines\",\"name\":\"\",\"orientation\":\"v\",\"showlegend\":false,\"x\":[\"2021-01-01 06:00:00+00:00\",\"2021-01-02 06:00:00+00:00\",\"2021-01-03 06:00:00+00:00\",\"2021-01-04 06:00:00+00:00\",\"2021-01-05 06:00:00+00:00\",\"2021-01-06 06:00:00+00:00\",\"2021-01-07 06:00:00+00:00\",\"2021-01-08 06:00:00+00:00\",\"2021-01-09 06:00:00+00:00\",\"2021-01-10 06:00:00+00:00\",\"2021-01-11 06:00:00+00:00\",\"2021-01-12 06:00:00+00:00\",\"2021-01-13 06:00:00+00:00\",\"2021-01-14 06:00:00+00:00\",\"2021-01-15 06:00:00+00:00\",\"2021-01-16 06:00:00+00:00\",\"2021-01-17 06:00:00+00:00\",\"2021-01-18 06:00:00+00:00\",\"2021-01-19 06:00:00+00:00\",\"2021-01-20 06:00:00+00:00\",\"2021-01-21 06:00:00+00:00\",\"2021-01-22 06:00:00+00:00\",\"2021-01-23 06:00:00+00:00\",\"2021-01-24 06:00:00+00:00\",\"2021-01-25 06:00:00+00:00\",\"2021-01-26 06:00:00+00:00\",\"2021-01-27 06:00:00+00:00\",\"2021-01-28 06:00:00+00:00\",\"2021-01-29 06:00:00+00:00\",\"2021-01-30 06:00:00+00:00\",\"2021-01-31 06:00:00+00:00\",\"2021-02-01 06:00:00+00:00\",\"2021-02-02 06:00:00+00:00\",\"2021-02-03 06:00:00+00:00\",\"2021-02-04 06:00:00+00:00\",\"2021-02-05 06:00:00+00:00\",\"2021-02-06 06:00:00+00:00\",\"2021-02-07 06:00:00+00:00\",\"2021-02-08 06:00:00+00:00\",\"2021-02-09 06:00:00+00:00\",\"2021-02-10 06:00:00+00:00\",\"2021-02-11 06:00:00+00:00\",\"2021-02-12 06:00:00+00:00\",\"2021-02-13 06:00:00+00:00\",\"2021-02-14 06:00:00+00:00\",\"2021-02-15 06:00:00+00:00\",\"2021-02-16 06:00:00+00:00\",\"2021-02-17 06:00:00+00:00\",\"2021-02-18 06:00:00+00:00\",\"2021-02-19 06:00:00+00:00\",\"2021-02-20 06:00:00+00:00\",\"2021-02-21 06:00:00+00:00\",\"2021-02-22 06:00:00+00:00\",\"2021-02-23 06:00:00+00:00\",\"2021-02-24 06:00:00+00:00\",\"2021-02-25 06:00:00+00:00\",\"2021-02-26 06:00:00+00:00\",\"2021-02-27 06:00:00+00:00\",\"2021-02-28 06:00:00+00:00\",\"2021-03-01 06:00:00+00:00\",\"2021-03-02 06:00:00+00:00\",\"2021-03-03 06:00:00+00:00\",\"2021-03-04 06:00:00+00:00\",\"2021-03-05 06:00:00+00:00\",\"2021-03-06 06:00:00+00:00\",\"2021-03-07 06:00:00+00:00\",\"2021-03-08 06:00:00+00:00\",\"2021-03-09 06:00:00+00:00\",\"2021-03-10 06:00:00+00:00\",\"2021-03-11 06:00:00+00:00\",\"2021-03-12 06:00:00+00:00\",\"2021-03-13 06:00:00+00:00\",\"2021-03-14 06:00:00+00:00\",\"2021-03-15 05:00:00+00:00\",\"2021-03-16 05:00:00+00:00\",\"2021-03-17 05:00:00+00:00\",\"2021-03-18 05:00:00+00:00\",\"2021-03-19 05:00:00+00:00\",\"2021-03-20 05:00:00+00:00\",\"2021-03-21 05:00:00+00:00\",\"2021-03-22 05:00:00+00:00\",\"2021-03-23 05:00:00+00:00\",\"2021-03-24 05:00:00+00:00\",\"2021-03-25 05:00:00+00:00\",\"2021-03-26 05:00:00+00:00\",\"2021-03-27 05:00:00+00:00\",\"2021-03-28 05:00:00+00:00\",\"2021-03-29 05:00:00+00:00\",\"2021-03-30 05:00:00+00:00\",\"2021-03-31 05:00:00+00:00\",\"2021-04-01 05:00:00+00:00\",\"2021-04-02 05:00:00+00:00\",\"2021-04-03 05:00:00+00:00\",\"2021-04-04 05:00:00+00:00\",\"2021-04-05 05:00:00+00:00\",\"2021-04-06 05:00:00+00:00\",\"2021-04-07 05:00:00+00:00\",\"2021-04-08 05:00:00+00:00\",\"2021-04-09 05:00:00+00:00\",\"2021-04-10 05:00:00+00:00\",\"2021-04-11 05:00:00+00:00\",\"2021-04-12 05:00:00+00:00\",\"2021-04-13 05:00:00+00:00\",\"2021-04-14 05:00:00+00:00\",\"2021-04-15 05:00:00+00:00\",\"2021-04-16 05:00:00+00:00\",\"2021-04-17 05:00:00+00:00\",\"2021-04-18 05:00:00+00:00\",\"2021-04-19 05:00:00+00:00\",\"2021-04-20 05:00:00+00:00\",\"2021-04-21 05:00:00+00:00\",\"2021-04-22 05:00:00+00:00\",\"2021-04-23 05:00:00+00:00\",\"2021-04-24 05:00:00+00:00\",\"2021-04-25 05:00:00+00:00\",\"2021-04-26 05:00:00+00:00\",\"2021-04-27 05:00:00+00:00\",\"2021-04-28 05:00:00+00:00\",\"2021-04-29 05:00:00+00:00\",\"2021-04-30 05:00:00+00:00\",\"2021-05-01 05:00:00+00:00\",\"2021-05-02 05:00:00+00:00\",\"2021-05-03 05:00:00+00:00\",\"2021-05-04 05:00:00+00:00\",\"2021-05-05 05:00:00+00:00\",\"2021-05-06 05:00:00+00:00\",\"2021-05-07 05:00:00+00:00\",\"2021-05-08 05:00:00+00:00\",\"2021-05-09 05:00:00+00:00\",\"2021-05-10 05:00:00+00:00\",\"2021-05-11 05:00:00+00:00\",\"2021-05-12 05:00:00+00:00\",\"2021-05-13 05:00:00+00:00\",\"2021-05-14 05:00:00+00:00\",\"2021-05-15 05:00:00+00:00\",\"2021-05-16 05:00:00+00:00\",\"2021-05-17 05:00:00+00:00\",\"2021-05-18 05:00:00+00:00\",\"2021-05-19 05:00:00+00:00\",\"2021-05-20 05:00:00+00:00\",\"2021-05-21 05:00:00+00:00\",\"2021-05-22 05:00:00+00:00\",\"2021-05-23 05:00:00+00:00\",\"2021-05-24 05:00:00+00:00\",\"2021-05-25 05:00:00+00:00\",\"2021-05-26 05:00:00+00:00\",\"2021-05-27 05:00:00+00:00\",\"2021-05-28 05:00:00+00:00\",\"2021-05-29 05:00:00+00:00\",\"2021-05-30 05:00:00+00:00\",\"2021-05-31 05:00:00+00:00\",\"2021-06-01 05:00:00+00:00\",\"2021-06-02 05:00:00+00:00\",\"2021-06-03 05:00:00+00:00\",\"2021-06-04 05:00:00+00:00\",\"2021-06-05 05:00:00+00:00\",\"2021-06-06 05:00:00+00:00\",\"2021-06-07 05:00:00+00:00\",\"2021-06-08 05:00:00+00:00\",\"2021-06-09 05:00:00+00:00\",\"2021-06-10 05:00:00+00:00\",\"2021-06-11 05:00:00+00:00\",\"2021-06-12 05:00:00+00:00\",\"2021-06-13 05:00:00+00:00\",\"2021-06-14 05:00:00+00:00\",\"2021-06-15 05:00:00+00:00\",\"2021-06-16 05:00:00+00:00\",\"2021-06-17 05:00:00+00:00\",\"2021-06-18 05:00:00+00:00\",\"2021-06-19 05:00:00+00:00\",\"2021-06-20 05:00:00+00:00\",\"2021-06-21 05:00:00+00:00\",\"2021-06-22 05:00:00+00:00\",\"2021-06-23 05:00:00+00:00\",\"2021-06-24 05:00:00+00:00\",\"2021-06-25 05:00:00+00:00\",\"2021-06-26 05:00:00+00:00\",\"2021-06-27 05:00:00+00:00\",\"2021-06-28 05:00:00+00:00\",\"2021-06-29 05:00:00+00:00\",\"2021-06-30 05:00:00+00:00\",\"2021-07-01 05:00:00+00:00\",\"2021-07-02 05:00:00+00:00\",\"2021-07-03 05:00:00+00:00\",\"2021-07-04 05:00:00+00:00\",\"2021-07-05 05:00:00+00:00\",\"2021-07-06 05:00:00+00:00\",\"2021-07-07 05:00:00+00:00\",\"2021-07-08 05:00:00+00:00\",\"2021-07-09 05:00:00+00:00\",\"2021-07-10 05:00:00+00:00\",\"2021-07-11 05:00:00+00:00\",\"2021-07-12 05:00:00+00:00\",\"2021-07-13 05:00:00+00:00\",\"2021-07-14 05:00:00+00:00\",\"2021-07-15 05:00:00+00:00\",\"2021-07-16 05:00:00+00:00\",\"2021-07-17 05:00:00+00:00\",\"2021-07-18 05:00:00+00:00\",\"2021-07-19 05:00:00+00:00\",\"2021-07-20 05:00:00+00:00\",\"2021-07-21 05:00:00+00:00\",\"2021-07-22 05:00:00+00:00\",\"2021-07-23 05:00:00+00:00\",\"2021-07-24 05:00:00+00:00\",\"2021-07-25 05:00:00+00:00\",\"2021-07-26 05:00:00+00:00\",\"2021-07-27 05:00:00+00:00\",\"2021-07-28 05:00:00+00:00\",\"2021-07-29 05:00:00+00:00\",\"2021-07-30 05:00:00+00:00\",\"2021-07-31 05:00:00+00:00\",\"2021-08-01 05:00:00+00:00\",\"2021-08-02 05:00:00+00:00\",\"2021-08-03 05:00:00+00:00\",\"2021-08-04 05:00:00+00:00\",\"2021-08-05 05:00:00+00:00\",\"2021-08-06 05:00:00+00:00\",\"2021-08-07 05:00:00+00:00\",\"2021-08-08 05:00:00+00:00\",\"2021-08-09 05:00:00+00:00\",\"2021-08-10 05:00:00+00:00\",\"2021-08-11 05:00:00+00:00\",\"2021-08-12 05:00:00+00:00\",\"2021-08-13 05:00:00+00:00\",\"2021-08-14 05:00:00+00:00\",\"2021-08-15 05:00:00+00:00\",\"2021-08-16 05:00:00+00:00\",\"2021-08-17 05:00:00+00:00\",\"2021-08-18 05:00:00+00:00\",\"2021-08-19 05:00:00+00:00\",\"2021-08-20 05:00:00+00:00\",\"2021-08-21 05:00:00+00:00\",\"2021-08-22 05:00:00+00:00\",\"2021-08-23 05:00:00+00:00\",\"2021-08-24 05:00:00+00:00\",\"2021-08-25 05:00:00+00:00\",\"2021-08-26 05:00:00+00:00\",\"2021-08-27 05:00:00+00:00\",\"2021-08-28 05:00:00+00:00\",\"2021-08-29 05:00:00+00:00\",\"2021-08-30 05:00:00+00:00\",\"2021-08-31 05:00:00+00:00\"],\"xaxis\":\"x\",\"y\":[29683.03,33779.48,32903.87,30460.19,35130.05,37505.58,38000.87,40665.15,40571.12,34847.17,35461.96,34038.98,37546.15,37800.01,36754.67,36006.94,35334.39,36297.36,35504.84,34563.12,30855.95,32984.93,32865.87,33356.55,32090.1,31551.72,30407.13,33052.81,34262.11,34315.63,33800.0,34022.03,36524.72,37632.75,36975.0,39056.37,39265.43,38701.98,46448.1,46514.73,44850.0,47300.88,47408.34,47232.45,46785.73,49163.27,49737.0,52170.01,51491.52,55714.44,55923.52,55899.97,49975.25,48899.99,49737.82,45527.11,46326.2,44804.85,45231.75,49639.4,48511.6,50360.0,47229.98,48481.65,49366.61,50815.72,54288.08,53674.27,55890.69,57160.98,56731.11,61178.5,59754.48,55636.15,55587.32,58925.54,57887.82,58039.66,56921.67,57610.01,54461.43,54106.54,52239.64,51325.01,55072.44,55856.53,55324.04,57613.48,58740.77,58922.22,58726.48,59401.81,57094.34,57307.92,58775.23,57645.47,55955.75,58083.1,60951.61,59778.6,60088.62,60571.22,64303.77,62971.8,61712.36,61427.27,54986.39,56274.41,55353.73,56499.29,54279.41,49138.85,51187.27,49699.42,52360.47,54053.6,54894.13,53625.09,54178.29,57798.77,57859.28,57850.71,55856.8,54573.94,57008.23,55882.93,58126.74,58211.21,59230.42,55379.8,57425.24,50477.63,49690.11,49368.92,48118.82,43538.88,43580.5,39258.21,36731.75,40623.33,37340.77,37235.63,34758.67,38878.56,39438.27,39293.23,37354.37,35680.47,34627.82,34499.57,36753.45,36666.01,37970.64,37583.24,36856.52,35539.49,36268.91,32869.08,32990.37,36813.86,36694.05,35250.26,35195.09,39283.74,40530.39,40271.81,38811.19,37935.17,35841.81,35798.24,34229.08,32918.54,32538.37,33688.35,34774.0,31594.63,32275.19,34354.83,34871.31,34763.8,34338.21,33516.11,33805.02,34783.0,34210.23,34660.65,34720.25,33317.51,32875.95,33649.77,33472.51,34308.38,33127.35,31942.23,32661.04,31868.68,31388.24,32085.24,31747.43,29662.31,29796.16,32135.19,32699.0,33708.68,34283.01,38300.01,37262.77,39694.11,40035.1,39824.58,42237.95,42074.65,39671.67,39149.59,37952.63,39343.31,40888.74,43316.79,44382.47,43614.98,46285.48,45595.66,45614.87,45274.98,47833.64,46756.7,47424.28,46391.24,45082.92,44137.43,47097.8,49342.4,48867.02,50338.18,49506.58,48022.29,47894.22,46851.47,49077.57,48183.83,47897.69,47056.72,47158.9],\"yaxis\":\"y\",\"type\":\"scatter\"}],                        {\"template\":{\"data\":{\"bar\":[{\"error_x\":{\"color\":\"#2a3f5f\"},\"error_y\":{\"color\":\"#2a3f5f\"},\"marker\":{\"line\":{\"color\":\"#E5ECF6\",\"width\":0.5},\"pattern\":{\"fillmode\":\"overlay\",\"size\":10,\"solidity\":0.2}},\"type\":\"bar\"}],\"barpolar\":[{\"marker\":{\"line\":{\"color\":\"#E5ECF6\",\"width\":0.5},\"pattern\":{\"fillmode\":\"overlay\",\"size\":10,\"solidity\":0.2}},\"type\":\"barpolar\"}],\"carpet\":[{\"aaxis\":{\"endlinecolor\":\"#2a3f5f\",\"gridcolor\":\"white\",\"linecolor\":\"white\",\"minorgridcolor\":\"white\",\"startlinecolor\":\"#2a3f5f\"},\"baxis\":{\"endlinecolor\":\"#2a3f5f\",\"gridcolor\":\"white\",\"linecolor\":\"white\",\"minorgridcolor\":\"white\",\"startlinecolor\":\"#2a3f5f\"},\"type\":\"carpet\"}],\"choropleth\":[{\"colorbar\":{\"outlinewidth\":0,\"ticks\":\"\"},\"type\":\"choropleth\"}],\"contour\":[{\"colorbar\":{\"outlinewidth\":0,\"ticks\":\"\"},\"colorscale\":[[0.0,\"#0d0887\"],[0.1111111111111111,\"#46039f\"],[0.2222222222222222,\"#7201a8\"],[0.3333333333333333,\"#9c179e\"],[0.4444444444444444,\"#bd3786\"],[0.5555555555555556,\"#d8576b\"],[0.6666666666666666,\"#ed7953\"],[0.7777777777777778,\"#fb9f3a\"],[0.8888888888888888,\"#fdca26\"],[1.0,\"#f0f921\"]],\"type\":\"contour\"}],\"contourcarpet\":[{\"colorbar\":{\"outlinewidth\":0,\"ticks\":\"\"},\"type\":\"contourcarpet\"}],\"heatmap\":[{\"colorbar\":{\"outlinewidth\":0,\"ticks\":\"\"},\"colorscale\":[[0.0,\"#0d0887\"],[0.1111111111111111,\"#46039f\"],[0.2222222222222222,\"#7201a8\"],[0.3333333333333333,\"#9c179e\"],[0.4444444444444444,\"#bd3786\"],[0.5555555555555556,\"#d8576b\"],[0.6666666666666666,\"#ed7953\"],[0.7777777777777778,\"#fb9f3a\"],[0.8888888888888888,\"#fdca26\"],[1.0,\"#f0f921\"]],\"type\":\"heatmap\"}],\"heatmapgl\":[{\"colorbar\":{\"outlinewidth\":0,\"ticks\":\"\"},\"colorscale\":[[0.0,\"#0d0887\"],[0.1111111111111111,\"#46039f\"],[0.2222222222222222,\"#7201a8\"],[0.3333333333333333,\"#9c179e\"],[0.4444444444444444,\"#bd3786\"],[0.5555555555555556,\"#d8576b\"],[0.6666666666666666,\"#ed7953\"],[0.7777777777777778,\"#fb9f3a\"],[0.8888888888888888,\"#fdca26\"],[1.0,\"#f0f921\"]],\"type\":\"heatmapgl\"}],\"histogram\":[{\"marker\":{\"pattern\":{\"fillmode\":\"overlay\",\"size\":10,\"solidity\":0.2}},\"type\":\"histogram\"}],\"histogram2d\":[{\"colorbar\":{\"outlinewidth\":0,\"ticks\":\"\"},\"colorscale\":[[0.0,\"#0d0887\"],[0.1111111111111111,\"#46039f\"],[0.2222222222222222,\"#7201a8\"],[0.3333333333333333,\"#9c179e\"],[0.4444444444444444,\"#bd3786\"],[0.5555555555555556,\"#d8576b\"],[0.6666666666666666,\"#ed7953\"],[0.7777777777777778,\"#fb9f3a\"],[0.8888888888888888,\"#fdca26\"],[1.0,\"#f0f921\"]],\"type\":\"histogram2d\"}],\"histogram2dcontour\":[{\"colorbar\":{\"outlinewidth\":0,\"ticks\":\"\"},\"colorscale\":[[0.0,\"#0d0887\"],[0.1111111111111111,\"#46039f\"],[0.2222222222222222,\"#7201a8\"],[0.3333333333333333,\"#9c179e\"],[0.4444444444444444,\"#bd3786\"],[0.5555555555555556,\"#d8576b\"],[0.6666666666666666,\"#ed7953\"],[0.7777777777777778,\"#fb9f3a\"],[0.8888888888888888,\"#fdca26\"],[1.0,\"#f0f921\"]],\"type\":\"histogram2dcontour\"}],\"mesh3d\":[{\"colorbar\":{\"outlinewidth\":0,\"ticks\":\"\"},\"type\":\"mesh3d\"}],\"parcoords\":[{\"line\":{\"colorbar\":{\"outlinewidth\":0,\"ticks\":\"\"}},\"type\":\"parcoords\"}],\"pie\":[{\"automargin\":true,\"type\":\"pie\"}],\"scatter\":[{\"marker\":{\"colorbar\":{\"outlinewidth\":0,\"ticks\":\"\"}},\"type\":\"scatter\"}],\"scatter3d\":[{\"line\":{\"colorbar\":{\"outlinewidth\":0,\"ticks\":\"\"}},\"marker\":{\"colorbar\":{\"outlinewidth\":0,\"ticks\":\"\"}},\"type\":\"scatter3d\"}],\"scattercarpet\":[{\"marker\":{\"colorbar\":{\"outlinewidth\":0,\"ticks\":\"\"}},\"type\":\"scattercarpet\"}],\"scattergeo\":[{\"marker\":{\"colorbar\":{\"outlinewidth\":0,\"ticks\":\"\"}},\"type\":\"scattergeo\"}],\"scattergl\":[{\"marker\":{\"colorbar\":{\"outlinewidth\":0,\"ticks\":\"\"}},\"type\":\"scattergl\"}],\"scattermapbox\":[{\"marker\":{\"colorbar\":{\"outlinewidth\":0,\"ticks\":\"\"}},\"type\":\"scattermapbox\"}],\"scatterpolar\":[{\"marker\":{\"colorbar\":{\"outlinewidth\":0,\"ticks\":\"\"}},\"type\":\"scatterpolar\"}],\"scatterpolargl\":[{\"marker\":{\"colorbar\":{\"outlinewidth\":0,\"ticks\":\"\"}},\"type\":\"scatterpolargl\"}],\"scatterternary\":[{\"marker\":{\"colorbar\":{\"outlinewidth\":0,\"ticks\":\"\"}},\"type\":\"scatterternary\"}],\"surface\":[{\"colorbar\":{\"outlinewidth\":0,\"ticks\":\"\"},\"colorscale\":[[0.0,\"#0d0887\"],[0.1111111111111111,\"#46039f\"],[0.2222222222222222,\"#7201a8\"],[0.3333333333333333,\"#9c179e\"],[0.4444444444444444,\"#bd3786\"],[0.5555555555555556,\"#d8576b\"],[0.6666666666666666,\"#ed7953\"],[0.7777777777777778,\"#fb9f3a\"],[0.8888888888888888,\"#fdca26\"],[1.0,\"#f0f921\"]],\"type\":\"surface\"}],\"table\":[{\"cells\":{\"fill\":{\"color\":\"#EBF0F8\"},\"line\":{\"color\":\"white\"}},\"header\":{\"fill\":{\"color\":\"#C8D4E3\"},\"line\":{\"color\":\"white\"}},\"type\":\"table\"}]},\"layout\":{\"annotationdefaults\":{\"arrowcolor\":\"#2a3f5f\",\"arrowhead\":0,\"arrowwidth\":1},\"autotypenumbers\":\"strict\",\"coloraxis\":{\"colorbar\":{\"outlinewidth\":0,\"ticks\":\"\"}},\"colorscale\":{\"diverging\":[[0,\"#8e0152\"],[0.1,\"#c51b7d\"],[0.2,\"#de77ae\"],[0.3,\"#f1b6da\"],[0.4,\"#fde0ef\"],[0.5,\"#f7f7f7\"],[0.6,\"#e6f5d0\"],[0.7,\"#b8e186\"],[0.8,\"#7fbc41\"],[0.9,\"#4d9221\"],[1,\"#276419\"]],\"sequential\":[[0.0,\"#0d0887\"],[0.1111111111111111,\"#46039f\"],[0.2222222222222222,\"#7201a8\"],[0.3333333333333333,\"#9c179e\"],[0.4444444444444444,\"#bd3786\"],[0.5555555555555556,\"#d8576b\"],[0.6666666666666666,\"#ed7953\"],[0.7777777777777778,\"#fb9f3a\"],[0.8888888888888888,\"#fdca26\"],[1.0,\"#f0f921\"]],\"sequentialminus\":[[0.0,\"#0d0887\"],[0.1111111111111111,\"#46039f\"],[0.2222222222222222,\"#7201a8\"],[0.3333333333333333,\"#9c179e\"],[0.4444444444444444,\"#bd3786\"],[0.5555555555555556,\"#d8576b\"],[0.6666666666666666,\"#ed7953\"],[0.7777777777777778,\"#fb9f3a\"],[0.8888888888888888,\"#fdca26\"],[1.0,\"#f0f921\"]]},\"colorway\":[\"#636efa\",\"#EF553B\",\"#00cc96\",\"#ab63fa\",\"#FFA15A\",\"#19d3f3\",\"#FF6692\",\"#B6E880\",\"#FF97FF\",\"#FECB52\"],\"font\":{\"color\":\"#2a3f5f\"},\"geo\":{\"bgcolor\":\"white\",\"lakecolor\":\"white\",\"landcolor\":\"#E5ECF6\",\"showlakes\":true,\"showland\":true,\"subunitcolor\":\"white\"},\"hoverlabel\":{\"align\":\"left\"},\"hovermode\":\"closest\",\"mapbox\":{\"style\":\"light\"},\"paper_bgcolor\":\"white\",\"plot_bgcolor\":\"#E5ECF6\",\"polar\":{\"angularaxis\":{\"gridcolor\":\"white\",\"linecolor\":\"white\",\"ticks\":\"\"},\"bgcolor\":\"#E5ECF6\",\"radialaxis\":{\"gridcolor\":\"white\",\"linecolor\":\"white\",\"ticks\":\"\"}},\"scene\":{\"xaxis\":{\"backgroundcolor\":\"#E5ECF6\",\"gridcolor\":\"white\",\"gridwidth\":2,\"linecolor\":\"white\",\"showbackground\":true,\"ticks\":\"\",\"zerolinecolor\":\"white\"},\"yaxis\":{\"backgroundcolor\":\"#E5ECF6\",\"gridcolor\":\"white\",\"gridwidth\":2,\"linecolor\":\"white\",\"showbackground\":true,\"ticks\":\"\",\"zerolinecolor\":\"white\"},\"zaxis\":{\"backgroundcolor\":\"#E5ECF6\",\"gridcolor\":\"white\",\"gridwidth\":2,\"linecolor\":\"white\",\"showbackground\":true,\"ticks\":\"\",\"zerolinecolor\":\"white\"}},\"shapedefaults\":{\"line\":{\"color\":\"#2a3f5f\"}},\"ternary\":{\"aaxis\":{\"gridcolor\":\"white\",\"linecolor\":\"white\",\"ticks\":\"\"},\"baxis\":{\"gridcolor\":\"white\",\"linecolor\":\"white\",\"ticks\":\"\"},\"bgcolor\":\"#E5ECF6\",\"caxis\":{\"gridcolor\":\"white\",\"linecolor\":\"white\",\"ticks\":\"\"}},\"title\":{\"x\":0.05},\"xaxis\":{\"automargin\":true,\"gridcolor\":\"white\",\"linecolor\":\"white\",\"ticks\":\"\",\"title\":{\"standoff\":15},\"zerolinecolor\":\"white\",\"zerolinewidth\":2},\"yaxis\":{\"automargin\":true,\"gridcolor\":\"white\",\"linecolor\":\"white\",\"ticks\":\"\",\"title\":{\"standoff\":15},\"zerolinecolor\":\"white\",\"zerolinewidth\":2}}},\"xaxis\":{\"anchor\":\"y\",\"domain\":[0.0,1.0],\"title\":{\"text\":\"timestamp\"}},\"yaxis\":{\"anchor\":\"x\",\"domain\":[0.0,1.0],\"title\":{\"text\":\"close\"}},\"legend\":{\"tracegroupgap\":0},\"title\":{\"text\":\"Bitcoin Price\"}},                        {\"responsive\": true}                    ).then(function(){\n",
       "                            \n",
       "var gd = document.getElementById('e3b30b09-7426-4638-bf0c-da945a12697d');\n",
       "var x = new MutationObserver(function (mutations, observer) {{\n",
       "        var display = window.getComputedStyle(gd).display;\n",
       "        if (!display || display === 'none') {{\n",
       "            console.log([gd, 'removed!']);\n",
       "            Plotly.purge(gd);\n",
       "            observer.disconnect();\n",
       "        }}\n",
       "}});\n",
       "\n",
       "// Listen for the removal of the full notebook cells\n",
       "var notebookContainer = gd.closest('#notebook-container');\n",
       "if (notebookContainer) {{\n",
       "    x.observe(notebookContainer, {childList: true});\n",
       "}}\n",
       "\n",
       "// Listen for the clearing of the current output cell\n",
       "var outputEl = gd.closest('.output');\n",
       "if (outputEl) {{\n",
       "    x.observe(outputEl, {childList: true});\n",
       "}}\n",
       "\n",
       "                        })                };                });            </script>        </div>"
      ]
     },
     "metadata": {},
     "output_type": "display_data"
    }
   ],
   "source": [
    "btc_prices_chart = px.line(\n",
    "    btc_prices,\n",
    "    x=\"timestamp\",\n",
    "    y=\"close\",\n",
    "    title=\"Bitcoin Price\",\n",
    ")\n",
    "btc_prices_chart"
   ]
  },
  {
   "cell_type": "code",
   "execution_count": 48,
   "id": "1d43c1d6",
   "metadata": {},
   "outputs": [
    {
     "data": {
      "application/vnd.plotly.v1+json": {
       "config": {
        "plotlyServerURL": "https://plot.ly"
       },
       "data": [
        {
         "hovertemplate": "timestamp=%{x}<br>close=%{y}<extra></extra>",
         "legendgroup": "",
         "line": {
          "color": "#636efa",
          "dash": "solid"
         },
         "marker": {
          "symbol": "circle"
         },
         "mode": "lines",
         "name": "",
         "orientation": "v",
         "showlegend": false,
         "type": "scatter",
         "x": [
          "2021-01-01 06:00:00+00:00",
          "2021-01-02 06:00:00+00:00",
          "2021-01-03 06:00:00+00:00",
          "2021-01-04 06:00:00+00:00",
          "2021-01-05 06:00:00+00:00",
          "2021-01-06 06:00:00+00:00",
          "2021-01-07 06:00:00+00:00",
          "2021-01-08 06:00:00+00:00",
          "2021-01-09 06:00:00+00:00",
          "2021-01-10 06:00:00+00:00",
          "2021-01-11 06:00:00+00:00",
          "2021-01-12 06:00:00+00:00",
          "2021-01-13 06:00:00+00:00",
          "2021-01-14 06:00:00+00:00",
          "2021-01-15 06:00:00+00:00",
          "2021-01-16 06:00:00+00:00",
          "2021-01-17 06:00:00+00:00",
          "2021-01-18 06:00:00+00:00",
          "2021-01-19 06:00:00+00:00",
          "2021-01-20 06:00:00+00:00",
          "2021-01-21 06:00:00+00:00",
          "2021-01-22 06:00:00+00:00",
          "2021-01-23 06:00:00+00:00",
          "2021-01-24 06:00:00+00:00",
          "2021-01-25 06:00:00+00:00",
          "2021-01-26 06:00:00+00:00",
          "2021-01-27 06:00:00+00:00",
          "2021-01-28 06:00:00+00:00",
          "2021-01-29 06:00:00+00:00",
          "2021-01-30 06:00:00+00:00",
          "2021-01-31 06:00:00+00:00",
          "2021-02-01 06:00:00+00:00",
          "2021-02-02 06:00:00+00:00",
          "2021-02-03 06:00:00+00:00",
          "2021-02-04 06:00:00+00:00",
          "2021-02-05 06:00:00+00:00",
          "2021-02-06 06:00:00+00:00",
          "2021-02-07 06:00:00+00:00",
          "2021-02-08 06:00:00+00:00",
          "2021-02-09 06:00:00+00:00",
          "2021-02-10 06:00:00+00:00",
          "2021-02-11 06:00:00+00:00",
          "2021-02-12 06:00:00+00:00",
          "2021-02-13 06:00:00+00:00",
          "2021-02-14 06:00:00+00:00",
          "2021-02-15 06:00:00+00:00",
          "2021-02-16 06:00:00+00:00",
          "2021-02-17 06:00:00+00:00",
          "2021-02-18 06:00:00+00:00",
          "2021-02-19 06:00:00+00:00",
          "2021-02-20 06:00:00+00:00",
          "2021-02-21 06:00:00+00:00",
          "2021-02-22 06:00:00+00:00",
          "2021-02-23 06:00:00+00:00",
          "2021-02-24 06:00:00+00:00",
          "2021-02-25 06:00:00+00:00",
          "2021-02-26 06:00:00+00:00",
          "2021-02-27 06:00:00+00:00",
          "2021-02-28 06:00:00+00:00",
          "2021-03-01 06:00:00+00:00",
          "2021-03-02 06:00:00+00:00",
          "2021-03-03 06:00:00+00:00",
          "2021-03-04 06:00:00+00:00",
          "2021-03-05 06:00:00+00:00",
          "2021-03-06 06:00:00+00:00",
          "2021-03-07 06:00:00+00:00",
          "2021-03-08 06:00:00+00:00",
          "2021-03-09 06:00:00+00:00",
          "2021-03-10 06:00:00+00:00",
          "2021-03-11 06:00:00+00:00",
          "2021-03-12 06:00:00+00:00",
          "2021-03-13 06:00:00+00:00",
          "2021-03-14 06:00:00+00:00",
          "2021-03-15 05:00:00+00:00",
          "2021-03-16 05:00:00+00:00",
          "2021-03-17 05:00:00+00:00",
          "2021-03-18 05:00:00+00:00",
          "2021-03-19 05:00:00+00:00",
          "2021-03-20 05:00:00+00:00",
          "2021-03-21 05:00:00+00:00",
          "2021-03-22 05:00:00+00:00",
          "2021-03-23 05:00:00+00:00",
          "2021-03-24 05:00:00+00:00",
          "2021-03-25 05:00:00+00:00",
          "2021-03-26 05:00:00+00:00",
          "2021-03-27 05:00:00+00:00",
          "2021-03-28 05:00:00+00:00",
          "2021-03-29 05:00:00+00:00",
          "2021-03-30 05:00:00+00:00",
          "2021-03-31 05:00:00+00:00",
          "2021-04-01 05:00:00+00:00",
          "2021-04-02 05:00:00+00:00",
          "2021-04-03 05:00:00+00:00",
          "2021-04-04 05:00:00+00:00",
          "2021-04-05 05:00:00+00:00",
          "2021-04-06 05:00:00+00:00",
          "2021-04-07 05:00:00+00:00",
          "2021-04-08 05:00:00+00:00",
          "2021-04-09 05:00:00+00:00",
          "2021-04-10 05:00:00+00:00",
          "2021-04-11 05:00:00+00:00",
          "2021-04-12 05:00:00+00:00",
          "2021-04-13 05:00:00+00:00",
          "2021-04-14 05:00:00+00:00",
          "2021-04-15 05:00:00+00:00",
          "2021-04-16 05:00:00+00:00",
          "2021-04-17 05:00:00+00:00",
          "2021-04-18 05:00:00+00:00",
          "2021-04-19 05:00:00+00:00",
          "2021-04-20 05:00:00+00:00",
          "2021-04-21 05:00:00+00:00",
          "2021-04-22 05:00:00+00:00",
          "2021-04-23 05:00:00+00:00",
          "2021-04-24 05:00:00+00:00",
          "2021-04-25 05:00:00+00:00",
          "2021-04-26 05:00:00+00:00",
          "2021-04-27 05:00:00+00:00",
          "2021-04-28 05:00:00+00:00",
          "2021-04-29 05:00:00+00:00",
          "2021-04-30 05:00:00+00:00",
          "2021-05-01 05:00:00+00:00",
          "2021-05-02 05:00:00+00:00",
          "2021-05-03 05:00:00+00:00",
          "2021-05-04 05:00:00+00:00",
          "2021-05-05 05:00:00+00:00",
          "2021-05-06 05:00:00+00:00",
          "2021-05-07 05:00:00+00:00",
          "2021-05-08 05:00:00+00:00",
          "2021-05-09 05:00:00+00:00",
          "2021-05-10 05:00:00+00:00",
          "2021-05-11 05:00:00+00:00",
          "2021-05-12 05:00:00+00:00",
          "2021-05-13 05:00:00+00:00",
          "2021-05-14 05:00:00+00:00",
          "2021-05-15 05:00:00+00:00",
          "2021-05-16 05:00:00+00:00",
          "2021-05-17 05:00:00+00:00",
          "2021-05-18 05:00:00+00:00",
          "2021-05-19 05:00:00+00:00",
          "2021-05-20 05:00:00+00:00",
          "2021-05-21 05:00:00+00:00",
          "2021-05-22 05:00:00+00:00",
          "2021-05-23 05:00:00+00:00",
          "2021-05-24 05:00:00+00:00",
          "2021-05-25 05:00:00+00:00",
          "2021-05-26 05:00:00+00:00",
          "2021-05-27 05:00:00+00:00",
          "2021-05-28 05:00:00+00:00",
          "2021-05-29 05:00:00+00:00",
          "2021-05-30 05:00:00+00:00",
          "2021-05-31 05:00:00+00:00",
          "2021-06-01 05:00:00+00:00",
          "2021-06-02 05:00:00+00:00",
          "2021-06-03 05:00:00+00:00",
          "2021-06-04 05:00:00+00:00",
          "2021-06-05 05:00:00+00:00",
          "2021-06-06 05:00:00+00:00",
          "2021-06-07 05:00:00+00:00",
          "2021-06-08 05:00:00+00:00",
          "2021-06-09 05:00:00+00:00",
          "2021-06-10 05:00:00+00:00",
          "2021-06-11 05:00:00+00:00",
          "2021-06-12 05:00:00+00:00",
          "2021-06-13 05:00:00+00:00",
          "2021-06-14 05:00:00+00:00",
          "2021-06-15 05:00:00+00:00",
          "2021-06-16 05:00:00+00:00",
          "2021-06-17 05:00:00+00:00",
          "2021-06-18 05:00:00+00:00",
          "2021-06-19 05:00:00+00:00",
          "2021-06-20 05:00:00+00:00",
          "2021-06-21 05:00:00+00:00",
          "2021-06-22 05:00:00+00:00",
          "2021-06-23 05:00:00+00:00",
          "2021-06-24 05:00:00+00:00",
          "2021-06-25 05:00:00+00:00",
          "2021-06-26 05:00:00+00:00",
          "2021-06-27 05:00:00+00:00",
          "2021-06-28 05:00:00+00:00",
          "2021-06-29 05:00:00+00:00",
          "2021-06-30 05:00:00+00:00",
          "2021-07-01 05:00:00+00:00",
          "2021-07-02 05:00:00+00:00",
          "2021-07-03 05:00:00+00:00",
          "2021-07-04 05:00:00+00:00",
          "2021-07-05 05:00:00+00:00",
          "2021-07-06 05:00:00+00:00",
          "2021-07-07 05:00:00+00:00",
          "2021-07-08 05:00:00+00:00",
          "2021-07-09 05:00:00+00:00",
          "2021-07-10 05:00:00+00:00",
          "2021-07-11 05:00:00+00:00",
          "2021-07-12 05:00:00+00:00",
          "2021-07-13 05:00:00+00:00",
          "2021-07-14 05:00:00+00:00",
          "2021-07-15 05:00:00+00:00",
          "2021-07-16 05:00:00+00:00",
          "2021-07-17 05:00:00+00:00",
          "2021-07-18 05:00:00+00:00",
          "2021-07-19 05:00:00+00:00",
          "2021-07-20 05:00:00+00:00",
          "2021-07-21 05:00:00+00:00",
          "2021-07-22 05:00:00+00:00",
          "2021-07-23 05:00:00+00:00",
          "2021-07-24 05:00:00+00:00",
          "2021-07-25 05:00:00+00:00",
          "2021-07-26 05:00:00+00:00",
          "2021-07-27 05:00:00+00:00",
          "2021-07-28 05:00:00+00:00",
          "2021-07-29 05:00:00+00:00",
          "2021-07-30 05:00:00+00:00",
          "2021-07-31 05:00:00+00:00",
          "2021-08-01 05:00:00+00:00",
          "2021-08-02 05:00:00+00:00",
          "2021-08-03 05:00:00+00:00",
          "2021-08-04 05:00:00+00:00",
          "2021-08-05 05:00:00+00:00",
          "2021-08-06 05:00:00+00:00",
          "2021-08-07 05:00:00+00:00",
          "2021-08-08 05:00:00+00:00",
          "2021-08-09 05:00:00+00:00",
          "2021-08-10 05:00:00+00:00",
          "2021-08-11 05:00:00+00:00",
          "2021-08-12 05:00:00+00:00",
          "2021-08-13 05:00:00+00:00",
          "2021-08-14 05:00:00+00:00",
          "2021-08-15 05:00:00+00:00",
          "2021-08-16 05:00:00+00:00",
          "2021-08-17 05:00:00+00:00",
          "2021-08-18 05:00:00+00:00",
          "2021-08-19 05:00:00+00:00",
          "2021-08-20 05:00:00+00:00",
          "2021-08-21 05:00:00+00:00",
          "2021-08-22 05:00:00+00:00",
          "2021-08-23 05:00:00+00:00",
          "2021-08-24 05:00:00+00:00",
          "2021-08-25 05:00:00+00:00",
          "2021-08-26 05:00:00+00:00",
          "2021-08-27 05:00:00+00:00",
          "2021-08-28 05:00:00+00:00",
          "2021-08-29 05:00:00+00:00",
          "2021-08-30 05:00:00+00:00",
          "2021-08-31 05:00:00+00:00"
         ],
         "xaxis": "x",
         "y": [
          734.62,
          787.32,
          1088.78,
          1042.38,
          1103.73,
          1212.02,
          1148.89,
          1217.35,
          1319.09,
          1091.91,
          1088.79,
          1050.1,
          1110.49,
          1184.71,
          1168.1,
          1215.98,
          1207.72,
          1323.55,
          1368.04,
          1305.92,
          1110.62,
          1233.6,
          1326.08,
          1441.87,
          1317.97,
          1286.15,
          1240.96,
          1305.38,
          1379.87,
          1351.69,
          1322,
          1389.48,
          1545.34,
          1657.11,
          1597.55,
          1662.98,
          1616.61,
          1609.02,
          1745.7,
          1801.61,
          1742.93,
          1762.42,
          1845,
          1818.01,
          1725.58,
          1779.62,
          1748.16,
          1901.08,
          1914.13,
          2015,
          1915.46,
          1869.16,
          1620.88,
          1577.83,
          1625.3,
          1449.78,
          1505.36,
          1363.96,
          1435.52,
          1571.82,
          1545.93,
          1562.75,
          1472.32,
          1574.32,
          1664.27,
          1751.71,
          1842.71,
          1801.32,
          1795.37,
          1810.21,
          1771.4,
          1897.19,
          1862.45,
          1750.21,
          1771.88,
          1830.7,
          1783.14,
          1809.38,
          1770.4,
          1787.9,
          1694.82,
          1676.93,
          1573.73,
          1587.08,
          1697.14,
          1718.93,
          1696.03,
          1802.29,
          1825.99,
          1916.97,
          1994.51,
          2099.35,
          2009.25,
          2023.54,
          2123.45,
          2090.5,
          2018.1,
          2075.72,
          2188.77,
          2133.08,
          2150.02,
          2163.14,
          2373.02,
          2432.54,
          2425.52,
          2426.64,
          2159.34,
          2241.46,
          2143.53,
          2332.6,
          2446.18,
          2208.28,
          2370.05,
          2192.49,
          2455.16,
          2510.01,
          2633.83,
          2683.47,
          2768.76,
          2846.44,
          2948.92,
          3053.41,
          3351.12,
          3240.01,
          3529.97,
          3423.73,
          3567.69,
          3917.26,
          4098,
          3949.45,
          4306,
          3907.51,
          3719.23,
          4007.83,
          3797.88,
          3327.69,
          3283.32,
          2922.4,
          2443.91,
          2784.49,
          2434.86,
          2287.66,
          2107.27,
          2651.24,
          2707.56,
          2707.9,
          2657.47,
          2470.17,
          2299.17,
          2313.8,
          2637.46,
          2634.42,
          2765.13,
          2723.31,
          2690.68,
          2629.75,
          2769.72,
          2502.02,
          2458.29,
          2611.27,
          2478.95,
          2283.6,
          2343.38,
          2490.44,
          2634.45,
          2532.25,
          2426.3,
          2358.34,
          2234.47,
          2207.26,
          2122.16,
          1967.25,
          1881.65,
          1968.37,
          1977.19,
          1834.18,
          1829.17,
          1973.24,
          2083.79,
          2095.66,
          2209.7,
          2107.01,
          2156,
          2225.2,
          2264.84,
          2317.65,
          2393.09,
          2243.15,
          2142.05,
          2107.93,
          2093.24,
          2148.32,
          2022.75,
          1891.57,
          1971.94,
          1918.07,
          1880.08,
          1976.13,
          1898.7,
          1740.6,
          1786.46,
          1996.18,
          2076.5,
          2125.81,
          2185.95,
          2325.81,
          2228.26,
          2283.19,
          2300.42,
          2415.75,
          2463.9,
          2621.51,
          2555.43,
          2494.67,
          2495.8,
          2694.42,
          2829.35,
          2959.37,
          3163.09,
          2956.48,
          3100.54,
          3167,
          3175,
          3122.47,
          3283.01,
          3250.47,
          3281,
          3194.04,
          3011.01,
          2983.09,
          3222.84,
          3286.58,
          3247.62,
          3349.55,
          3336.79,
          3175.91,
          3158.97,
          3102.43,
          3274.67,
          3181.39,
          3166.41,
          3230.15,
          3461.59
         ],
         "yaxis": "y"
        }
       ],
       "layout": {
        "autosize": true,
        "legend": {
         "tracegroupgap": 0
        },
        "template": {
         "data": {
          "bar": [
           {
            "error_x": {
             "color": "#2a3f5f"
            },
            "error_y": {
             "color": "#2a3f5f"
            },
            "marker": {
             "line": {
              "color": "#E5ECF6",
              "width": 0.5
             },
             "pattern": {
              "fillmode": "overlay",
              "size": 10,
              "solidity": 0.2
             }
            },
            "type": "bar"
           }
          ],
          "barpolar": [
           {
            "marker": {
             "line": {
              "color": "#E5ECF6",
              "width": 0.5
             },
             "pattern": {
              "fillmode": "overlay",
              "size": 10,
              "solidity": 0.2
             }
            },
            "type": "barpolar"
           }
          ],
          "carpet": [
           {
            "aaxis": {
             "endlinecolor": "#2a3f5f",
             "gridcolor": "white",
             "linecolor": "white",
             "minorgridcolor": "white",
             "startlinecolor": "#2a3f5f"
            },
            "baxis": {
             "endlinecolor": "#2a3f5f",
             "gridcolor": "white",
             "linecolor": "white",
             "minorgridcolor": "white",
             "startlinecolor": "#2a3f5f"
            },
            "type": "carpet"
           }
          ],
          "choropleth": [
           {
            "colorbar": {
             "outlinewidth": 0,
             "ticks": ""
            },
            "type": "choropleth"
           }
          ],
          "contour": [
           {
            "colorbar": {
             "outlinewidth": 0,
             "ticks": ""
            },
            "colorscale": [
             [
              0,
              "#0d0887"
             ],
             [
              0.1111111111111111,
              "#46039f"
             ],
             [
              0.2222222222222222,
              "#7201a8"
             ],
             [
              0.3333333333333333,
              "#9c179e"
             ],
             [
              0.4444444444444444,
              "#bd3786"
             ],
             [
              0.5555555555555556,
              "#d8576b"
             ],
             [
              0.6666666666666666,
              "#ed7953"
             ],
             [
              0.7777777777777778,
              "#fb9f3a"
             ],
             [
              0.8888888888888888,
              "#fdca26"
             ],
             [
              1,
              "#f0f921"
             ]
            ],
            "type": "contour"
           }
          ],
          "contourcarpet": [
           {
            "colorbar": {
             "outlinewidth": 0,
             "ticks": ""
            },
            "type": "contourcarpet"
           }
          ],
          "heatmap": [
           {
            "colorbar": {
             "outlinewidth": 0,
             "ticks": ""
            },
            "colorscale": [
             [
              0,
              "#0d0887"
             ],
             [
              0.1111111111111111,
              "#46039f"
             ],
             [
              0.2222222222222222,
              "#7201a8"
             ],
             [
              0.3333333333333333,
              "#9c179e"
             ],
             [
              0.4444444444444444,
              "#bd3786"
             ],
             [
              0.5555555555555556,
              "#d8576b"
             ],
             [
              0.6666666666666666,
              "#ed7953"
             ],
             [
              0.7777777777777778,
              "#fb9f3a"
             ],
             [
              0.8888888888888888,
              "#fdca26"
             ],
             [
              1,
              "#f0f921"
             ]
            ],
            "type": "heatmap"
           }
          ],
          "heatmapgl": [
           {
            "colorbar": {
             "outlinewidth": 0,
             "ticks": ""
            },
            "colorscale": [
             [
              0,
              "#0d0887"
             ],
             [
              0.1111111111111111,
              "#46039f"
             ],
             [
              0.2222222222222222,
              "#7201a8"
             ],
             [
              0.3333333333333333,
              "#9c179e"
             ],
             [
              0.4444444444444444,
              "#bd3786"
             ],
             [
              0.5555555555555556,
              "#d8576b"
             ],
             [
              0.6666666666666666,
              "#ed7953"
             ],
             [
              0.7777777777777778,
              "#fb9f3a"
             ],
             [
              0.8888888888888888,
              "#fdca26"
             ],
             [
              1,
              "#f0f921"
             ]
            ],
            "type": "heatmapgl"
           }
          ],
          "histogram": [
           {
            "marker": {
             "pattern": {
              "fillmode": "overlay",
              "size": 10,
              "solidity": 0.2
             }
            },
            "type": "histogram"
           }
          ],
          "histogram2d": [
           {
            "colorbar": {
             "outlinewidth": 0,
             "ticks": ""
            },
            "colorscale": [
             [
              0,
              "#0d0887"
             ],
             [
              0.1111111111111111,
              "#46039f"
             ],
             [
              0.2222222222222222,
              "#7201a8"
             ],
             [
              0.3333333333333333,
              "#9c179e"
             ],
             [
              0.4444444444444444,
              "#bd3786"
             ],
             [
              0.5555555555555556,
              "#d8576b"
             ],
             [
              0.6666666666666666,
              "#ed7953"
             ],
             [
              0.7777777777777778,
              "#fb9f3a"
             ],
             [
              0.8888888888888888,
              "#fdca26"
             ],
             [
              1,
              "#f0f921"
             ]
            ],
            "type": "histogram2d"
           }
          ],
          "histogram2dcontour": [
           {
            "colorbar": {
             "outlinewidth": 0,
             "ticks": ""
            },
            "colorscale": [
             [
              0,
              "#0d0887"
             ],
             [
              0.1111111111111111,
              "#46039f"
             ],
             [
              0.2222222222222222,
              "#7201a8"
             ],
             [
              0.3333333333333333,
              "#9c179e"
             ],
             [
              0.4444444444444444,
              "#bd3786"
             ],
             [
              0.5555555555555556,
              "#d8576b"
             ],
             [
              0.6666666666666666,
              "#ed7953"
             ],
             [
              0.7777777777777778,
              "#fb9f3a"
             ],
             [
              0.8888888888888888,
              "#fdca26"
             ],
             [
              1,
              "#f0f921"
             ]
            ],
            "type": "histogram2dcontour"
           }
          ],
          "mesh3d": [
           {
            "colorbar": {
             "outlinewidth": 0,
             "ticks": ""
            },
            "type": "mesh3d"
           }
          ],
          "parcoords": [
           {
            "line": {
             "colorbar": {
              "outlinewidth": 0,
              "ticks": ""
             }
            },
            "type": "parcoords"
           }
          ],
          "pie": [
           {
            "automargin": true,
            "type": "pie"
           }
          ],
          "scatter": [
           {
            "marker": {
             "colorbar": {
              "outlinewidth": 0,
              "ticks": ""
             }
            },
            "type": "scatter"
           }
          ],
          "scatter3d": [
           {
            "line": {
             "colorbar": {
              "outlinewidth": 0,
              "ticks": ""
             }
            },
            "marker": {
             "colorbar": {
              "outlinewidth": 0,
              "ticks": ""
             }
            },
            "type": "scatter3d"
           }
          ],
          "scattercarpet": [
           {
            "marker": {
             "colorbar": {
              "outlinewidth": 0,
              "ticks": ""
             }
            },
            "type": "scattercarpet"
           }
          ],
          "scattergeo": [
           {
            "marker": {
             "colorbar": {
              "outlinewidth": 0,
              "ticks": ""
             }
            },
            "type": "scattergeo"
           }
          ],
          "scattergl": [
           {
            "marker": {
             "colorbar": {
              "outlinewidth": 0,
              "ticks": ""
             }
            },
            "type": "scattergl"
           }
          ],
          "scattermapbox": [
           {
            "marker": {
             "colorbar": {
              "outlinewidth": 0,
              "ticks": ""
             }
            },
            "type": "scattermapbox"
           }
          ],
          "scatterpolar": [
           {
            "marker": {
             "colorbar": {
              "outlinewidth": 0,
              "ticks": ""
             }
            },
            "type": "scatterpolar"
           }
          ],
          "scatterpolargl": [
           {
            "marker": {
             "colorbar": {
              "outlinewidth": 0,
              "ticks": ""
             }
            },
            "type": "scatterpolargl"
           }
          ],
          "scatterternary": [
           {
            "marker": {
             "colorbar": {
              "outlinewidth": 0,
              "ticks": ""
             }
            },
            "type": "scatterternary"
           }
          ],
          "surface": [
           {
            "colorbar": {
             "outlinewidth": 0,
             "ticks": ""
            },
            "colorscale": [
             [
              0,
              "#0d0887"
             ],
             [
              0.1111111111111111,
              "#46039f"
             ],
             [
              0.2222222222222222,
              "#7201a8"
             ],
             [
              0.3333333333333333,
              "#9c179e"
             ],
             [
              0.4444444444444444,
              "#bd3786"
             ],
             [
              0.5555555555555556,
              "#d8576b"
             ],
             [
              0.6666666666666666,
              "#ed7953"
             ],
             [
              0.7777777777777778,
              "#fb9f3a"
             ],
             [
              0.8888888888888888,
              "#fdca26"
             ],
             [
              1,
              "#f0f921"
             ]
            ],
            "type": "surface"
           }
          ],
          "table": [
           {
            "cells": {
             "fill": {
              "color": "#EBF0F8"
             },
             "line": {
              "color": "white"
             }
            },
            "header": {
             "fill": {
              "color": "#C8D4E3"
             },
             "line": {
              "color": "white"
             }
            },
            "type": "table"
           }
          ]
         },
         "layout": {
          "annotationdefaults": {
           "arrowcolor": "#2a3f5f",
           "arrowhead": 0,
           "arrowwidth": 1
          },
          "autotypenumbers": "strict",
          "coloraxis": {
           "colorbar": {
            "outlinewidth": 0,
            "ticks": ""
           }
          },
          "colorscale": {
           "diverging": [
            [
             0,
             "#8e0152"
            ],
            [
             0.1,
             "#c51b7d"
            ],
            [
             0.2,
             "#de77ae"
            ],
            [
             0.3,
             "#f1b6da"
            ],
            [
             0.4,
             "#fde0ef"
            ],
            [
             0.5,
             "#f7f7f7"
            ],
            [
             0.6,
             "#e6f5d0"
            ],
            [
             0.7,
             "#b8e186"
            ],
            [
             0.8,
             "#7fbc41"
            ],
            [
             0.9,
             "#4d9221"
            ],
            [
             1,
             "#276419"
            ]
           ],
           "sequential": [
            [
             0,
             "#0d0887"
            ],
            [
             0.1111111111111111,
             "#46039f"
            ],
            [
             0.2222222222222222,
             "#7201a8"
            ],
            [
             0.3333333333333333,
             "#9c179e"
            ],
            [
             0.4444444444444444,
             "#bd3786"
            ],
            [
             0.5555555555555556,
             "#d8576b"
            ],
            [
             0.6666666666666666,
             "#ed7953"
            ],
            [
             0.7777777777777778,
             "#fb9f3a"
            ],
            [
             0.8888888888888888,
             "#fdca26"
            ],
            [
             1,
             "#f0f921"
            ]
           ],
           "sequentialminus": [
            [
             0,
             "#0d0887"
            ],
            [
             0.1111111111111111,
             "#46039f"
            ],
            [
             0.2222222222222222,
             "#7201a8"
            ],
            [
             0.3333333333333333,
             "#9c179e"
            ],
            [
             0.4444444444444444,
             "#bd3786"
            ],
            [
             0.5555555555555556,
             "#d8576b"
            ],
            [
             0.6666666666666666,
             "#ed7953"
            ],
            [
             0.7777777777777778,
             "#fb9f3a"
            ],
            [
             0.8888888888888888,
             "#fdca26"
            ],
            [
             1,
             "#f0f921"
            ]
           ]
          },
          "colorway": [
           "#636efa",
           "#EF553B",
           "#00cc96",
           "#ab63fa",
           "#FFA15A",
           "#19d3f3",
           "#FF6692",
           "#B6E880",
           "#FF97FF",
           "#FECB52"
          ],
          "font": {
           "color": "#2a3f5f"
          },
          "geo": {
           "bgcolor": "white",
           "lakecolor": "white",
           "landcolor": "#E5ECF6",
           "showlakes": true,
           "showland": true,
           "subunitcolor": "white"
          },
          "hoverlabel": {
           "align": "left"
          },
          "hovermode": "closest",
          "mapbox": {
           "style": "light"
          },
          "paper_bgcolor": "white",
          "plot_bgcolor": "#E5ECF6",
          "polar": {
           "angularaxis": {
            "gridcolor": "white",
            "linecolor": "white",
            "ticks": ""
           },
           "bgcolor": "#E5ECF6",
           "radialaxis": {
            "gridcolor": "white",
            "linecolor": "white",
            "ticks": ""
           }
          },
          "scene": {
           "xaxis": {
            "backgroundcolor": "#E5ECF6",
            "gridcolor": "white",
            "gridwidth": 2,
            "linecolor": "white",
            "showbackground": true,
            "ticks": "",
            "zerolinecolor": "white"
           },
           "yaxis": {
            "backgroundcolor": "#E5ECF6",
            "gridcolor": "white",
            "gridwidth": 2,
            "linecolor": "white",
            "showbackground": true,
            "ticks": "",
            "zerolinecolor": "white"
           },
           "zaxis": {
            "backgroundcolor": "#E5ECF6",
            "gridcolor": "white",
            "gridwidth": 2,
            "linecolor": "white",
            "showbackground": true,
            "ticks": "",
            "zerolinecolor": "white"
           }
          },
          "shapedefaults": {
           "line": {
            "color": "#2a3f5f"
           }
          },
          "ternary": {
           "aaxis": {
            "gridcolor": "white",
            "linecolor": "white",
            "ticks": ""
           },
           "baxis": {
            "gridcolor": "white",
            "linecolor": "white",
            "ticks": ""
           },
           "bgcolor": "#E5ECF6",
           "caxis": {
            "gridcolor": "white",
            "linecolor": "white",
            "ticks": ""
           }
          },
          "title": {
           "x": 0.05
          },
          "xaxis": {
           "automargin": true,
           "gridcolor": "white",
           "linecolor": "white",
           "ticks": "",
           "title": {
            "standoff": 15
           },
           "zerolinecolor": "white",
           "zerolinewidth": 2
          },
          "yaxis": {
           "automargin": true,
           "gridcolor": "white",
           "linecolor": "white",
           "ticks": "",
           "title": {
            "standoff": 15
           },
           "zerolinecolor": "white",
           "zerolinewidth": 2
          }
         }
        },
        "title": {
         "text": "Ethereum Price"
        },
        "xaxis": {
         "anchor": "y",
         "autorange": true,
         "domain": [
          0,
          1
         ],
         "range": [
          "2021-01-01 06:00",
          "2021-08-31 05:00"
         ],
         "title": {
          "text": "timestamp"
         },
         "type": "date"
        },
        "yaxis": {
         "anchor": "x",
         "autorange": true,
         "domain": [
          0,
          1
         ],
         "range": [
          536.21,
          4504.41
         ],
         "title": {
          "text": "close"
         },
         "type": "linear"
        }
       }
      },
      "image/png": "[encoded data removed]",
      "text/html": [
       "<div>                            <div id=\"5c0c1578-69fe-4f0d-b52a-9c4c961a91d5\" class=\"plotly-graph-div\" style=\"height:525px; width:100%;\"></div>            <script type=\"text/javascript\">                require([\"plotly\"], function(Plotly) {                    window.PLOTLYENV=window.PLOTLYENV || {};                                    if (document.getElementById(\"5c0c1578-69fe-4f0d-b52a-9c4c961a91d5\")) {                    Plotly.newPlot(                        \"5c0c1578-69fe-4f0d-b52a-9c4c961a91d5\",                        [{\"hovertemplate\":\"timestamp=%{x}<br>close=%{y}<extra></extra>\",\"legendgroup\":\"\",\"line\":{\"color\":\"#636efa\",\"dash\":\"solid\"},\"marker\":{\"symbol\":\"circle\"},\"mode\":\"lines\",\"name\":\"\",\"orientation\":\"v\",\"showlegend\":false,\"x\":[\"2021-01-01 06:00:00+00:00\",\"2021-01-02 06:00:00+00:00\",\"2021-01-03 06:00:00+00:00\",\"2021-01-04 06:00:00+00:00\",\"2021-01-05 06:00:00+00:00\",\"2021-01-06 06:00:00+00:00\",\"2021-01-07 06:00:00+00:00\",\"2021-01-08 06:00:00+00:00\",\"2021-01-09 06:00:00+00:00\",\"2021-01-10 06:00:00+00:00\",\"2021-01-11 06:00:00+00:00\",\"2021-01-12 06:00:00+00:00\",\"2021-01-13 06:00:00+00:00\",\"2021-01-14 06:00:00+00:00\",\"2021-01-15 06:00:00+00:00\",\"2021-01-16 06:00:00+00:00\",\"2021-01-17 06:00:00+00:00\",\"2021-01-18 06:00:00+00:00\",\"2021-01-19 06:00:00+00:00\",\"2021-01-20 06:00:00+00:00\",\"2021-01-21 06:00:00+00:00\",\"2021-01-22 06:00:00+00:00\",\"2021-01-23 06:00:00+00:00\",\"2021-01-24 06:00:00+00:00\",\"2021-01-25 06:00:00+00:00\",\"2021-01-26 06:00:00+00:00\",\"2021-01-27 06:00:00+00:00\",\"2021-01-28 06:00:00+00:00\",\"2021-01-29 06:00:00+00:00\",\"2021-01-30 06:00:00+00:00\",\"2021-01-31 06:00:00+00:00\",\"2021-02-01 06:00:00+00:00\",\"2021-02-02 06:00:00+00:00\",\"2021-02-03 06:00:00+00:00\",\"2021-02-04 06:00:00+00:00\",\"2021-02-05 06:00:00+00:00\",\"2021-02-06 06:00:00+00:00\",\"2021-02-07 06:00:00+00:00\",\"2021-02-08 06:00:00+00:00\",\"2021-02-09 06:00:00+00:00\",\"2021-02-10 06:00:00+00:00\",\"2021-02-11 06:00:00+00:00\",\"2021-02-12 06:00:00+00:00\",\"2021-02-13 06:00:00+00:00\",\"2021-02-14 06:00:00+00:00\",\"2021-02-15 06:00:00+00:00\",\"2021-02-16 06:00:00+00:00\",\"2021-02-17 06:00:00+00:00\",\"2021-02-18 06:00:00+00:00\",\"2021-02-19 06:00:00+00:00\",\"2021-02-20 06:00:00+00:00\",\"2021-02-21 06:00:00+00:00\",\"2021-02-22 06:00:00+00:00\",\"2021-02-23 06:00:00+00:00\",\"2021-02-24 06:00:00+00:00\",\"2021-02-25 06:00:00+00:00\",\"2021-02-26 06:00:00+00:00\",\"2021-02-27 06:00:00+00:00\",\"2021-02-28 06:00:00+00:00\",\"2021-03-01 06:00:00+00:00\",\"2021-03-02 06:00:00+00:00\",\"2021-03-03 06:00:00+00:00\",\"2021-03-04 06:00:00+00:00\",\"2021-03-05 06:00:00+00:00\",\"2021-03-06 06:00:00+00:00\",\"2021-03-07 06:00:00+00:00\",\"2021-03-08 06:00:00+00:00\",\"2021-03-09 06:00:00+00:00\",\"2021-03-10 06:00:00+00:00\",\"2021-03-11 06:00:00+00:00\",\"2021-03-12 06:00:00+00:00\",\"2021-03-13 06:00:00+00:00\",\"2021-03-14 06:00:00+00:00\",\"2021-03-15 05:00:00+00:00\",\"2021-03-16 05:00:00+00:00\",\"2021-03-17 05:00:00+00:00\",\"2021-03-18 05:00:00+00:00\",\"2021-03-19 05:00:00+00:00\",\"2021-03-20 05:00:00+00:00\",\"2021-03-21 05:00:00+00:00\",\"2021-03-22 05:00:00+00:00\",\"2021-03-23 05:00:00+00:00\",\"2021-03-24 05:00:00+00:00\",\"2021-03-25 05:00:00+00:00\",\"2021-03-26 05:00:00+00:00\",\"2021-03-27 05:00:00+00:00\",\"2021-03-28 05:00:00+00:00\",\"2021-03-29 05:00:00+00:00\",\"2021-03-30 05:00:00+00:00\",\"2021-03-31 05:00:00+00:00\",\"2021-04-01 05:00:00+00:00\",\"2021-04-02 05:00:00+00:00\",\"2021-04-03 05:00:00+00:00\",\"2021-04-04 05:00:00+00:00\",\"2021-04-05 05:00:00+00:00\",\"2021-04-06 05:00:00+00:00\",\"2021-04-07 05:00:00+00:00\",\"2021-04-08 05:00:00+00:00\",\"2021-04-09 05:00:00+00:00\",\"2021-04-10 05:00:00+00:00\",\"2021-04-11 05:00:00+00:00\",\"2021-04-12 05:00:00+00:00\",\"2021-04-13 05:00:00+00:00\",\"2021-04-14 05:00:00+00:00\",\"2021-04-15 05:00:00+00:00\",\"2021-04-16 05:00:00+00:00\",\"2021-04-17 05:00:00+00:00\",\"2021-04-18 05:00:00+00:00\",\"2021-04-19 05:00:00+00:00\",\"2021-04-20 05:00:00+00:00\",\"2021-04-21 05:00:00+00:00\",\"2021-04-22 05:00:00+00:00\",\"2021-04-23 05:00:00+00:00\",\"2021-04-24 05:00:00+00:00\",\"2021-04-25 05:00:00+00:00\",\"2021-04-26 05:00:00+00:00\",\"2021-04-27 05:00:00+00:00\",\"2021-04-28 05:00:00+00:00\",\"2021-04-29 05:00:00+00:00\",\"2021-04-30 05:00:00+00:00\",\"2021-05-01 05:00:00+00:00\",\"2021-05-02 05:00:00+00:00\",\"2021-05-03 05:00:00+00:00\",\"2021-05-04 05:00:00+00:00\",\"2021-05-05 05:00:00+00:00\",\"2021-05-06 05:00:00+00:00\",\"2021-05-07 05:00:00+00:00\",\"2021-05-08 05:00:00+00:00\",\"2021-05-09 05:00:00+00:00\",\"2021-05-10 05:00:00+00:00\",\"2021-05-11 05:00:00+00:00\",\"2021-05-12 05:00:00+00:00\",\"2021-05-13 05:00:00+00:00\",\"2021-05-14 05:00:00+00:00\",\"2021-05-15 05:00:00+00:00\",\"2021-05-16 05:00:00+00:00\",\"2021-05-17 05:00:00+00:00\",\"2021-05-18 05:00:00+00:00\",\"2021-05-19 05:00:00+00:00\",\"2021-05-20 05:00:00+00:00\",\"2021-05-21 05:00:00+00:00\",\"2021-05-22 05:00:00+00:00\",\"2021-05-23 05:00:00+00:00\",\"2021-05-24 05:00:00+00:00\",\"2021-05-25 05:00:00+00:00\",\"2021-05-26 05:00:00+00:00\",\"2021-05-27 05:00:00+00:00\",\"2021-05-28 05:00:00+00:00\",\"2021-05-29 05:00:00+00:00\",\"2021-05-30 05:00:00+00:00\",\"2021-05-31 05:00:00+00:00\",\"2021-06-01 05:00:00+00:00\",\"2021-06-02 05:00:00+00:00\",\"2021-06-03 05:00:00+00:00\",\"2021-06-04 05:00:00+00:00\",\"2021-06-05 05:00:00+00:00\",\"2021-06-06 05:00:00+00:00\",\"2021-06-07 05:00:00+00:00\",\"2021-06-08 05:00:00+00:00\",\"2021-06-09 05:00:00+00:00\",\"2021-06-10 05:00:00+00:00\",\"2021-06-11 05:00:00+00:00\",\"2021-06-12 05:00:00+00:00\",\"2021-06-13 05:00:00+00:00\",\"2021-06-14 05:00:00+00:00\",\"2021-06-15 05:00:00+00:00\",\"2021-06-16 05:00:00+00:00\",\"2021-06-17 05:00:00+00:00\",\"2021-06-18 05:00:00+00:00\",\"2021-06-19 05:00:00+00:00\",\"2021-06-20 05:00:00+00:00\",\"2021-06-21 05:00:00+00:00\",\"2021-06-22 05:00:00+00:00\",\"2021-06-23 05:00:00+00:00\",\"2021-06-24 05:00:00+00:00\",\"2021-06-25 05:00:00+00:00\",\"2021-06-26 05:00:00+00:00\",\"2021-06-27 05:00:00+00:00\",\"2021-06-28 05:00:00+00:00\",\"2021-06-29 05:00:00+00:00\",\"2021-06-30 05:00:00+00:00\",\"2021-07-01 05:00:00+00:00\",\"2021-07-02 05:00:00+00:00\",\"2021-07-03 05:00:00+00:00\",\"2021-07-04 05:00:00+00:00\",\"2021-07-05 05:00:00+00:00\",\"2021-07-06 05:00:00+00:00\",\"2021-07-07 05:00:00+00:00\",\"2021-07-08 05:00:00+00:00\",\"2021-07-09 05:00:00+00:00\",\"2021-07-10 05:00:00+00:00\",\"2021-07-11 05:00:00+00:00\",\"2021-07-12 05:00:00+00:00\",\"2021-07-13 05:00:00+00:00\",\"2021-07-14 05:00:00+00:00\",\"2021-07-15 05:00:00+00:00\",\"2021-07-16 05:00:00+00:00\",\"2021-07-17 05:00:00+00:00\",\"2021-07-18 05:00:00+00:00\",\"2021-07-19 05:00:00+00:00\",\"2021-07-20 05:00:00+00:00\",\"2021-07-21 05:00:00+00:00\",\"2021-07-22 05:00:00+00:00\",\"2021-07-23 05:00:00+00:00\",\"2021-07-24 05:00:00+00:00\",\"2021-07-25 05:00:00+00:00\",\"2021-07-26 05:00:00+00:00\",\"2021-07-27 05:00:00+00:00\",\"2021-07-28 05:00:00+00:00\",\"2021-07-29 05:00:00+00:00\",\"2021-07-30 05:00:00+00:00\",\"2021-07-31 05:00:00+00:00\",\"2021-08-01 05:00:00+00:00\",\"2021-08-02 05:00:00+00:00\",\"2021-08-03 05:00:00+00:00\",\"2021-08-04 05:00:00+00:00\",\"2021-08-05 05:00:00+00:00\",\"2021-08-06 05:00:00+00:00\",\"2021-08-07 05:00:00+00:00\",\"2021-08-08 05:00:00+00:00\",\"2021-08-09 05:00:00+00:00\",\"2021-08-10 05:00:00+00:00\",\"2021-08-11 05:00:00+00:00\",\"2021-08-12 05:00:00+00:00\",\"2021-08-13 05:00:00+00:00\",\"2021-08-14 05:00:00+00:00\",\"2021-08-15 05:00:00+00:00\",\"2021-08-16 05:00:00+00:00\",\"2021-08-17 05:00:00+00:00\",\"2021-08-18 05:00:00+00:00\",\"2021-08-19 05:00:00+00:00\",\"2021-08-20 05:00:00+00:00\",\"2021-08-21 05:00:00+00:00\",\"2021-08-22 05:00:00+00:00\",\"2021-08-23 05:00:00+00:00\",\"2021-08-24 05:00:00+00:00\",\"2021-08-25 05:00:00+00:00\",\"2021-08-26 05:00:00+00:00\",\"2021-08-27 05:00:00+00:00\",\"2021-08-28 05:00:00+00:00\",\"2021-08-29 05:00:00+00:00\",\"2021-08-30 05:00:00+00:00\",\"2021-08-31 05:00:00+00:00\"],\"xaxis\":\"x\",\"y\":[734.62,787.32,1088.78,1042.38,1103.73,1212.02,1148.89,1217.35,1319.09,1091.91,1088.79,1050.1,1110.49,1184.71,1168.1,1215.98,1207.72,1323.55,1368.04,1305.92,1110.62,1233.6,1326.08,1441.87,1317.97,1286.15,1240.96,1305.38,1379.87,1351.69,1322.0,1389.48,1545.34,1657.11,1597.55,1662.98,1616.61,1609.02,1745.7,1801.61,1742.93,1762.42,1845.0,1818.01,1725.58,1779.62,1748.16,1901.08,1914.13,2015.0,1915.46,1869.16,1620.88,1577.83,1625.3,1449.78,1505.36,1363.96,1435.52,1571.82,1545.93,1562.75,1472.32,1574.32,1664.27,1751.71,1842.71,1801.32,1795.37,1810.21,1771.4,1897.19,1862.45,1750.21,1771.88,1830.7,1783.14,1809.38,1770.4,1787.9,1694.82,1676.93,1573.73,1587.08,1697.14,1718.93,1696.03,1802.29,1825.99,1916.97,1994.51,2099.35,2009.25,2023.54,2123.45,2090.5,2018.1,2075.72,2188.77,2133.08,2150.02,2163.14,2373.02,2432.54,2425.52,2426.64,2159.34,2241.46,2143.53,2332.6,2446.18,2208.28,2370.05,2192.49,2455.16,2510.01,2633.83,2683.47,2768.76,2846.44,2948.92,3053.41,3351.12,3240.01,3529.97,3423.73,3567.69,3917.26,4098.0,3949.45,4306.0,3907.51,3719.23,4007.83,3797.88,3327.69,3283.32,2922.4,2443.91,2784.49,2434.86,2287.66,2107.27,2651.24,2707.56,2707.9,2657.47,2470.17,2299.17,2313.8,2637.46,2634.42,2765.13,2723.31,2690.68,2629.75,2769.72,2502.02,2458.29,2611.27,2478.95,2283.6,2343.38,2490.44,2634.45,2532.25,2426.3,2358.34,2234.47,2207.26,2122.16,1967.25,1881.65,1968.37,1977.19,1834.18,1829.17,1973.24,2083.79,2095.66,2209.7,2107.01,2156.0,2225.2,2264.84,2317.65,2393.09,2243.15,2142.05,2107.93,2093.24,2148.32,2022.75,1891.57,1971.94,1918.07,1880.08,1976.13,1898.7,1740.6,1786.46,1996.18,2076.5,2125.81,2185.95,2325.81,2228.26,2283.19,2300.42,2415.75,2463.9,2621.51,2555.43,2494.67,2495.8,2694.42,2829.35,2959.37,3163.09,2956.48,3100.54,3167.0,3175.0,3122.47,3283.01,3250.47,3281.0,3194.04,3011.01,2983.09,3222.84,3286.58,3247.62,3349.55,3336.79,3175.91,3158.97,3102.43,3274.67,3181.39,3166.41,3230.15,3461.59],\"yaxis\":\"y\",\"type\":\"scatter\"}],                        {\"template\":{\"data\":{\"bar\":[{\"error_x\":{\"color\":\"#2a3f5f\"},\"error_y\":{\"color\":\"#2a3f5f\"},\"marker\":{\"line\":{\"color\":\"#E5ECF6\",\"width\":0.5},\"pattern\":{\"fillmode\":\"overlay\",\"size\":10,\"solidity\":0.2}},\"type\":\"bar\"}],\"barpolar\":[{\"marker\":{\"line\":{\"color\":\"#E5ECF6\",\"width\":0.5},\"pattern\":{\"fillmode\":\"overlay\",\"size\":10,\"solidity\":0.2}},\"type\":\"barpolar\"}],\"carpet\":[{\"aaxis\":{\"endlinecolor\":\"#2a3f5f\",\"gridcolor\":\"white\",\"linecolor\":\"white\",\"minorgridcolor\":\"white\",\"startlinecolor\":\"#2a3f5f\"},\"baxis\":{\"endlinecolor\":\"#2a3f5f\",\"gridcolor\":\"white\",\"linecolor\":\"white\",\"minorgridcolor\":\"white\",\"startlinecolor\":\"#2a3f5f\"},\"type\":\"carpet\"}],\"choropleth\":[{\"colorbar\":{\"outlinewidth\":0,\"ticks\":\"\"},\"type\":\"choropleth\"}],\"contour\":[{\"colorbar\":{\"outlinewidth\":0,\"ticks\":\"\"},\"colorscale\":[[0.0,\"#0d0887\"],[0.1111111111111111,\"#46039f\"],[0.2222222222222222,\"#7201a8\"],[0.3333333333333333,\"#9c179e\"],[0.4444444444444444,\"#bd3786\"],[0.5555555555555556,\"#d8576b\"],[0.6666666666666666,\"#ed7953\"],[0.7777777777777778,\"#fb9f3a\"],[0.8888888888888888,\"#fdca26\"],[1.0,\"#f0f921\"]],\"type\":\"contour\"}],\"contourcarpet\":[{\"colorbar\":{\"outlinewidth\":0,\"ticks\":\"\"},\"type\":\"contourcarpet\"}],\"heatmap\":[{\"colorbar\":{\"outlinewidth\":0,\"ticks\":\"\"},\"colorscale\":[[0.0,\"#0d0887\"],[0.1111111111111111,\"#46039f\"],[0.2222222222222222,\"#7201a8\"],[0.3333333333333333,\"#9c179e\"],[0.4444444444444444,\"#bd3786\"],[0.5555555555555556,\"#d8576b\"],[0.6666666666666666,\"#ed7953\"],[0.7777777777777778,\"#fb9f3a\"],[0.8888888888888888,\"#fdca26\"],[1.0,\"#f0f921\"]],\"type\":\"heatmap\"}],\"heatmapgl\":[{\"colorbar\":{\"outlinewidth\":0,\"ticks\":\"\"},\"colorscale\":[[0.0,\"#0d0887\"],[0.1111111111111111,\"#46039f\"],[0.2222222222222222,\"#7201a8\"],[0.3333333333333333,\"#9c179e\"],[0.4444444444444444,\"#bd3786\"],[0.5555555555555556,\"#d8576b\"],[0.6666666666666666,\"#ed7953\"],[0.7777777777777778,\"#fb9f3a\"],[0.8888888888888888,\"#fdca26\"],[1.0,\"#f0f921\"]],\"type\":\"heatmapgl\"}],\"histogram\":[{\"marker\":{\"pattern\":{\"fillmode\":\"overlay\",\"size\":10,\"solidity\":0.2}},\"type\":\"histogram\"}],\"histogram2d\":[{\"colorbar\":{\"outlinewidth\":0,\"ticks\":\"\"},\"colorscale\":[[0.0,\"#0d0887\"],[0.1111111111111111,\"#46039f\"],[0.2222222222222222,\"#7201a8\"],[0.3333333333333333,\"#9c179e\"],[0.4444444444444444,\"#bd3786\"],[0.5555555555555556,\"#d8576b\"],[0.6666666666666666,\"#ed7953\"],[0.7777777777777778,\"#fb9f3a\"],[0.8888888888888888,\"#fdca26\"],[1.0,\"#f0f921\"]],\"type\":\"histogram2d\"}],\"histogram2dcontour\":[{\"colorbar\":{\"outlinewidth\":0,\"ticks\":\"\"},\"colorscale\":[[0.0,\"#0d0887\"],[0.1111111111111111,\"#46039f\"],[0.2222222222222222,\"#7201a8\"],[0.3333333333333333,\"#9c179e\"],[0.4444444444444444,\"#bd3786\"],[0.5555555555555556,\"#d8576b\"],[0.6666666666666666,\"#ed7953\"],[0.7777777777777778,\"#fb9f3a\"],[0.8888888888888888,\"#fdca26\"],[1.0,\"#f0f921\"]],\"type\":\"histogram2dcontour\"}],\"mesh3d\":[{\"colorbar\":{\"outlinewidth\":0,\"ticks\":\"\"},\"type\":\"mesh3d\"}],\"parcoords\":[{\"line\":{\"colorbar\":{\"outlinewidth\":0,\"ticks\":\"\"}},\"type\":\"parcoords\"}],\"pie\":[{\"automargin\":true,\"type\":\"pie\"}],\"scatter\":[{\"marker\":{\"colorbar\":{\"outlinewidth\":0,\"ticks\":\"\"}},\"type\":\"scatter\"}],\"scatter3d\":[{\"line\":{\"colorbar\":{\"outlinewidth\":0,\"ticks\":\"\"}},\"marker\":{\"colorbar\":{\"outlinewidth\":0,\"ticks\":\"\"}},\"type\":\"scatter3d\"}],\"scattercarpet\":[{\"marker\":{\"colorbar\":{\"outlinewidth\":0,\"ticks\":\"\"}},\"type\":\"scattercarpet\"}],\"scattergeo\":[{\"marker\":{\"colorbar\":{\"outlinewidth\":0,\"ticks\":\"\"}},\"type\":\"scattergeo\"}],\"scattergl\":[{\"marker\":{\"colorbar\":{\"outlinewidth\":0,\"ticks\":\"\"}},\"type\":\"scattergl\"}],\"scattermapbox\":[{\"marker\":{\"colorbar\":{\"outlinewidth\":0,\"ticks\":\"\"}},\"type\":\"scattermapbox\"}],\"scatterpolar\":[{\"marker\":{\"colorbar\":{\"outlinewidth\":0,\"ticks\":\"\"}},\"type\":\"scatterpolar\"}],\"scatterpolargl\":[{\"marker\":{\"colorbar\":{\"outlinewidth\":0,\"ticks\":\"\"}},\"type\":\"scatterpolargl\"}],\"scatterternary\":[{\"marker\":{\"colorbar\":{\"outlinewidth\":0,\"ticks\":\"\"}},\"type\":\"scatterternary\"}],\"surface\":[{\"colorbar\":{\"outlinewidth\":0,\"ticks\":\"\"},\"colorscale\":[[0.0,\"#0d0887\"],[0.1111111111111111,\"#46039f\"],[0.2222222222222222,\"#7201a8\"],[0.3333333333333333,\"#9c179e\"],[0.4444444444444444,\"#bd3786\"],[0.5555555555555556,\"#d8576b\"],[0.6666666666666666,\"#ed7953\"],[0.7777777777777778,\"#fb9f3a\"],[0.8888888888888888,\"#fdca26\"],[1.0,\"#f0f921\"]],\"type\":\"surface\"}],\"table\":[{\"cells\":{\"fill\":{\"color\":\"#EBF0F8\"},\"line\":{\"color\":\"white\"}},\"header\":{\"fill\":{\"color\":\"#C8D4E3\"},\"line\":{\"color\":\"white\"}},\"type\":\"table\"}]},\"layout\":{\"annotationdefaults\":{\"arrowcolor\":\"#2a3f5f\",\"arrowhead\":0,\"arrowwidth\":1},\"autotypenumbers\":\"strict\",\"coloraxis\":{\"colorbar\":{\"outlinewidth\":0,\"ticks\":\"\"}},\"colorscale\":{\"diverging\":[[0,\"#8e0152\"],[0.1,\"#c51b7d\"],[0.2,\"#de77ae\"],[0.3,\"#f1b6da\"],[0.4,\"#fde0ef\"],[0.5,\"#f7f7f7\"],[0.6,\"#e6f5d0\"],[0.7,\"#b8e186\"],[0.8,\"#7fbc41\"],[0.9,\"#4d9221\"],[1,\"#276419\"]],\"sequential\":[[0.0,\"#0d0887\"],[0.1111111111111111,\"#46039f\"],[0.2222222222222222,\"#7201a8\"],[0.3333333333333333,\"#9c179e\"],[0.4444444444444444,\"#bd3786\"],[0.5555555555555556,\"#d8576b\"],[0.6666666666666666,\"#ed7953\"],[0.7777777777777778,\"#fb9f3a\"],[0.8888888888888888,\"#fdca26\"],[1.0,\"#f0f921\"]],\"sequentialminus\":[[0.0,\"#0d0887\"],[0.1111111111111111,\"#46039f\"],[0.2222222222222222,\"#7201a8\"],[0.3333333333333333,\"#9c179e\"],[0.4444444444444444,\"#bd3786\"],[0.5555555555555556,\"#d8576b\"],[0.6666666666666666,\"#ed7953\"],[0.7777777777777778,\"#fb9f3a\"],[0.8888888888888888,\"#fdca26\"],[1.0,\"#f0f921\"]]},\"colorway\":[\"#636efa\",\"#EF553B\",\"#00cc96\",\"#ab63fa\",\"#FFA15A\",\"#19d3f3\",\"#FF6692\",\"#B6E880\",\"#FF97FF\",\"#FECB52\"],\"font\":{\"color\":\"#2a3f5f\"},\"geo\":{\"bgcolor\":\"white\",\"lakecolor\":\"white\",\"landcolor\":\"#E5ECF6\",\"showlakes\":true,\"showland\":true,\"subunitcolor\":\"white\"},\"hoverlabel\":{\"align\":\"left\"},\"hovermode\":\"closest\",\"mapbox\":{\"style\":\"light\"},\"paper_bgcolor\":\"white\",\"plot_bgcolor\":\"#E5ECF6\",\"polar\":{\"angularaxis\":{\"gridcolor\":\"white\",\"linecolor\":\"white\",\"ticks\":\"\"},\"bgcolor\":\"#E5ECF6\",\"radialaxis\":{\"gridcolor\":\"white\",\"linecolor\":\"white\",\"ticks\":\"\"}},\"scene\":{\"xaxis\":{\"backgroundcolor\":\"#E5ECF6\",\"gridcolor\":\"white\",\"gridwidth\":2,\"linecolor\":\"white\",\"showbackground\":true,\"ticks\":\"\",\"zerolinecolor\":\"white\"},\"yaxis\":{\"backgroundcolor\":\"#E5ECF6\",\"gridcolor\":\"white\",\"gridwidth\":2,\"linecolor\":\"white\",\"showbackground\":true,\"ticks\":\"\",\"zerolinecolor\":\"white\"},\"zaxis\":{\"backgroundcolor\":\"#E5ECF6\",\"gridcolor\":\"white\",\"gridwidth\":2,\"linecolor\":\"white\",\"showbackground\":true,\"ticks\":\"\",\"zerolinecolor\":\"white\"}},\"shapedefaults\":{\"line\":{\"color\":\"#2a3f5f\"}},\"ternary\":{\"aaxis\":{\"gridcolor\":\"white\",\"linecolor\":\"white\",\"ticks\":\"\"},\"baxis\":{\"gridcolor\":\"white\",\"linecolor\":\"white\",\"ticks\":\"\"},\"bgcolor\":\"#E5ECF6\",\"caxis\":{\"gridcolor\":\"white\",\"linecolor\":\"white\",\"ticks\":\"\"}},\"title\":{\"x\":0.05},\"xaxis\":{\"automargin\":true,\"gridcolor\":\"white\",\"linecolor\":\"white\",\"ticks\":\"\",\"title\":{\"standoff\":15},\"zerolinecolor\":\"white\",\"zerolinewidth\":2},\"yaxis\":{\"automargin\":true,\"gridcolor\":\"white\",\"linecolor\":\"white\",\"ticks\":\"\",\"title\":{\"standoff\":15},\"zerolinecolor\":\"white\",\"zerolinewidth\":2}}},\"xaxis\":{\"anchor\":\"y\",\"domain\":[0.0,1.0],\"title\":{\"text\":\"timestamp\"}},\"yaxis\":{\"anchor\":\"x\",\"domain\":[0.0,1.0],\"title\":{\"text\":\"close\"}},\"legend\":{\"tracegroupgap\":0},\"title\":{\"text\":\"Ethereum Price\"}},                        {\"responsive\": true}                    ).then(function(){\n",
       "                            \n",
       "var gd = document.getElementById('5c0c1578-69fe-4f0d-b52a-9c4c961a91d5');\n",
       "var x = new MutationObserver(function (mutations, observer) {{\n",
       "        var display = window.getComputedStyle(gd).display;\n",
       "        if (!display || display === 'none') {{\n",
       "            console.log([gd, 'removed!']);\n",
       "            Plotly.purge(gd);\n",
       "            observer.disconnect();\n",
       "        }}\n",
       "}});\n",
       "\n",
       "// Listen for the removal of the full notebook cells\n",
       "var notebookContainer = gd.closest('#notebook-container');\n",
       "if (notebookContainer) {{\n",
       "    x.observe(notebookContainer, {childList: true});\n",
       "}}\n",
       "\n",
       "// Listen for the clearing of the current output cell\n",
       "var outputEl = gd.closest('.output');\n",
       "if (outputEl) {{\n",
       "    x.observe(outputEl, {childList: true});\n",
       "}}\n",
       "\n",
       "                        })                };                });            </script>        </div>"
      ]
     },
     "metadata": {},
     "output_type": "display_data"
    }
   ],
   "source": [
    "eth_prices_chart = px.line(\n",
    "    eth_prices,\n",
    "    x=\"timestamp\",\n",
    "    y=\"close\",\n",
    "    title=\"Ethereum Price\",\n",
    ")\n",
    "eth_prices_chart"
   ]
  },
  {
   "cell_type": "code",
   "execution_count": null,
   "id": "89ef2eb3",
   "metadata": {},
   "outputs": [],
   "source": []
  }
 ],
 "metadata": {
  "kernelspec": {
   "display_name": "Python 3 (ipykernel)",
   "language": "python",
   "name": "python3"
  },
  "language_info": {
   "codemirror_mode": {
    "name": "ipython",
    "version": 3
   },
   "file_extension": ".py",
   "mimetype": "text/x-python",
   "name": "python",
   "nbconvert_exporter": "python",
   "pygments_lexer": "ipython3",
   "version": "3.7.11"
  }
 },
 "nbformat": 4,
 "nbformat_minor": 5
}
